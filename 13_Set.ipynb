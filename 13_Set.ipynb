{
 "cells": [
  {
   "cell_type": "markdown",
   "metadata": {},
   "source": [
    "# Kiểu dữ liệu tập hợp\n",
    "**Mô tả:** Tập hợp (Set) là một khái niệm cơ bản trong toán học. Tập hợp là một nhóm các phần tử không giống nhau được kết hợp lại. Trong Python, các phần tử của tập hợp có thể có kiểu dữ liệu không thay đổi (immutability) như số, logic, xâu, tuple. Không thể chứa phần tử là list, dict hay set (các kiểu dữ liệu container nhưng có thể thay đổ - mutability).\n",
    "\n",
    "**Đặc điểm:**\n",
    "- *Không có thứ tự:* Các phần tử không có thứ tự xác định → Không thể truy cập phần tử thông qua chỉ số, hay thêm phần tử vào vị trí thông qua chỉ số.\n",
    "- *Không trùng lặp:* Các phần tử trong Set không giống nhau, không thể có 2 hay nhiều phần tử có cùng giá trị trong tập hợp.\n",
    "- *Không thay đổi:* Các phần tử trong Set có tính bất biến, **chỉ có các phần tử** - tức là không thể thay đổi giá trị của các phần tử (tương tự tuple). Tuy nhiên, có thể thêm phần tử hoặc xóa phần tử khỏi nó → Chỉ giới hạn việc chỉnh sửa nội dung của phần tử chứ không giới hạn việc thêm xóa."
   ]
  },
  {
   "cell_type": "markdown",
   "metadata": {},
   "source": [
    "## Khởi tạo tập hợp\n",
    "Có 2 cách để khởi tạo một tập hợp:\n",
    "1. Khởi tạo bằng ngoặc nhọn {}, các phần tử nằm trong ngoặc nhọn, ngăn cách bởi dấu ,"
   ]
  },
  {
   "cell_type": "code",
   "execution_count": 9,
   "metadata": {},
   "outputs": [
    {
     "data": {
      "text/plain": [
       "{(3, 4), 1, 2, False, 'nin'}"
      ]
     },
     "execution_count": 9,
     "metadata": {},
     "output_type": "execute_result"
    },
    {
     "data": {
      "text/plain": [
       "set"
      ]
     },
     "execution_count": 9,
     "metadata": {},
     "output_type": "execute_result"
    }
   ],
   "source": [
    "A = {1, 2, 'nin', (3,4), False}\n",
    "A\n",
    "type(A)"
   ]
  },
  {
   "cell_type": "markdown",
   "metadata": {},
   "source": [
    "- Phần tử trong Set có thể là số, logic, xâu kí tự hoặc tuple, nhưng không thể là list, dict hay set."
   ]
  },
  {
   "cell_type": "code",
   "execution_count": 10,
   "metadata": {},
   "outputs": [
    {
     "ename": "TypeError",
     "evalue": "unhashable type: 'list'",
     "output_type": "error",
     "traceback": [
      "\u001b[1;31m---------------------------------------------------------------------------\u001b[0m",
      "\u001b[1;31mTypeError\u001b[0m                                 Traceback (most recent call last)",
      "Cell \u001b[1;32mIn[10], line 1\u001b[0m\n\u001b[1;32m----> 1\u001b[0m B \u001b[38;5;241m=\u001b[39m {\u001b[38;5;241m1\u001b[39m, \u001b[38;5;241m2\u001b[39m, \u001b[38;5;241m3\u001b[39m, [\u001b[38;5;241m4\u001b[39m, \u001b[38;5;241m5\u001b[39m]}\n\u001b[0;32m      2\u001b[0m B\n",
      "\u001b[1;31mTypeError\u001b[0m: unhashable type: 'list'"
     ]
    }
   ],
   "source": [
    "B = {1, 2, 3, [4, 5]}\n",
    "B"
   ]
  },
  {
   "cell_type": "markdown",
   "metadata": {},
   "source": [
    "- Các phần tử của tập hợp không thể trùng nhau. Khi khai báo, nếu chúng ta viết các phần tử giống nhau thì Python sẽ tự động loại ra khỏi định nghĩa tập hợp."
   ]
  },
  {
   "cell_type": "code",
   "execution_count": 11,
   "metadata": {},
   "outputs": [
    {
     "name": "stdout",
     "output_type": "stream",
     "text": [
      "C = {1, 2}\n",
      "D = {0, 1}\n",
      "E = {1, 2, (1, 2)}\n"
     ]
    }
   ],
   "source": [
    "C = {1, 1, 2, 2}\n",
    "D = {0, 1, True, False}\n",
    "E = {1, 2, (1, 2)}\n",
    "\n",
    "print(f'C = {C}')\n",
    "print(f'D = {D}')\n",
    "print(f'E = {E}')"
   ]
  },
  {
   "cell_type": "markdown",
   "metadata": {},
   "source": [
    "2. Sử dụng hàm tạo `set()`. Để tạo tập hợp rỗng (không tạo bằng `s = {}` vì khi đó s là dict) và ép kiểu - đưa các kiểu dữ liệu tập hợp khác về kiểu set."
   ]
  },
  {
   "cell_type": "code",
   "execution_count": 13,
   "metadata": {},
   "outputs": [
    {
     "data": {
      "text/plain": [
       "set"
      ]
     },
     "execution_count": 13,
     "metadata": {},
     "output_type": "execute_result"
    },
    {
     "data": {
      "text/plain": [
       "set()"
      ]
     },
     "execution_count": 13,
     "metadata": {},
     "output_type": "execute_result"
    }
   ],
   "source": [
    "A = set()\n",
    "type(A)\n",
    "A"
   ]
  },
  {
   "cell_type": "code",
   "execution_count": 17,
   "metadata": {},
   "outputs": [
    {
     "data": {
      "text/plain": [
       "{'Adam', 'Eva'}"
      ]
     },
     "execution_count": 17,
     "metadata": {},
     "output_type": "execute_result"
    },
    {
     "data": {
      "text/plain": [
       "{1, 2, 3, 4, 5}"
      ]
     },
     "execution_count": 17,
     "metadata": {},
     "output_type": "execute_result"
    }
   ],
   "source": [
    "name = set(('Adam', 'Eva'))\n",
    "name\n",
    "number = set([1,2,3,4,5])\n",
    "number"
   ]
  },
  {
   "cell_type": "markdown",
   "metadata": {},
   "source": [
    "- Dựa vào đặc điểm *không trùng lặp*, ta có thể giải quyết bài toán lọc phần tử trùng lặp trong list."
   ]
  },
  {
   "cell_type": "code",
   "execution_count": 19,
   "metadata": {},
   "outputs": [
    {
     "data": {
      "text/plain": [
       "[1, 2, 3, 4, 5]"
      ]
     },
     "execution_count": 19,
     "metadata": {},
     "output_type": "execute_result"
    }
   ],
   "source": [
    "# bài toán: lọc các phần tử trùng lặp trong list A.\n",
    "\n",
    "A = {1,2,3,3,4,4,4,5,5,5,5}\n",
    "A_set = set(A)\n",
    "A = list(A_set)\n",
    "A"
   ]
  },
  {
   "cell_type": "markdown",
   "metadata": {},
   "source": [
    "## Tạo tập hợp bằng chức năng set comprehention\n",
    "`set()` có thể biến tất cả các dữ liệu dạng container về kiểu tập hợp."
   ]
  },
  {
   "cell_type": "code",
   "execution_count": 20,
   "metadata": {},
   "outputs": [
    {
     "data": {
      "text/plain": [
       "{'a', 'b', 'c', 'd', 'e', 'f'}"
      ]
     },
     "execution_count": 20,
     "metadata": {},
     "output_type": "execute_result"
    }
   ],
   "source": [
    "s = 'abcdefff'\n",
    "s_set = set(s)\n",
    "s_set"
   ]
  },
  {
   "cell_type": "markdown",
   "metadata": {},
   "source": [
    "`set()` trên dữ liệu từ điển sẽ chỉ tạp tập hợp từ các từ khóa."
   ]
  },
  {
   "cell_type": "code",
   "execution_count": 21,
   "metadata": {},
   "outputs": [
    {
     "data": {
      "text/plain": [
       "{1, 2}"
      ]
     },
     "execution_count": 21,
     "metadata": {},
     "output_type": "execute_result"
    }
   ],
   "source": [
    "d = {1:'Adam', 2:'Eva'}\n",
    "d_set = set(d)\n",
    "d_set"
   ]
  },
  {
   "cell_type": "markdown",
   "metadata": {},
   "source": [
    "Đây là một lệnh set comprehension.\n",
    "\n",
    "Cú pháp tổng quát:\n",
    "\n",
    "```python\n",
    "<set> = {<expression> for <x> in <sequence> if <condition>}\n",
    "```"
   ]
  },
  {
   "cell_type": "code",
   "execution_count": 22,
   "metadata": {},
   "outputs": [
    {
     "data": {
      "text/plain": [
       "{97, 98, 99, 100, 101, 102}"
      ]
     },
     "execution_count": 22,
     "metadata": {},
     "output_type": "execute_result"
    }
   ],
   "source": [
    "# Bài toán: Tạo một set gồm các phần tử là mã ký tự ASCII của các ký tự có trong một xâu\n",
    "\n",
    "s = 'abcdef'\n",
    "s_ASCII_set = {ord(char) for char in s}\n",
    "s_ASCII_set"
   ]
  },
  {
   "cell_type": "code",
   "execution_count": 23,
   "metadata": {},
   "outputs": [
    {
     "data": {
      "text/plain": [
       "{-2, 1, 3, 45, 54, 129, 200}"
      ]
     },
     "execution_count": 23,
     "metadata": {},
     "output_type": "execute_result"
    }
   ],
   "source": [
    "# Bài toán: Cho dãy A. Thiết lập tập hợp S là các phần tử khác 0 lấy từ A\n",
    "\n",
    "A = [1,0,0,-2,3,129,0,200,45,54]\n",
    "S = {num for num in A if num} # if num tương đương với if num != 0\n",
    "S"
   ]
  },
  {
   "cell_type": "code",
   "execution_count": 24,
   "metadata": {},
   "outputs": [
    {
     "data": {
      "text/plain": [
       "{1, 3, 5, 7, 9}"
      ]
     },
     "execution_count": 24,
     "metadata": {},
     "output_type": "execute_result"
    }
   ],
   "source": [
    "# Bài toán: Cho dãy số A, B. Thiết lập tập hợp các số từ dãy A nhưng không nằm trong dãy B.\n",
    "\n",
    "A = [1,2,3,4,5,6,7,8,9,10]\n",
    "B = [2,4,6,8,10,12,14,16,18,20]\n",
    "\n",
    "set_diff_A_B = {num for num in A if num not in B}\n",
    "set_diff_A_B"
   ]
  },
  {
   "cell_type": "markdown",
   "metadata": {},
   "source": [
    "## Truy cập và duyệt phần tử trong Set\n",
    "Các phần tử trong set không có thứ tự → không có chỉ số.\n",
    "\n",
    "Do đó không thể truy cập từng phần tử bằng chỉ số của nó, cũng như không thể thực hiện việc cắt các tập hợp con bằng phép cắt dựa trên chỉ số sự dụng `:`.\n",
    "\n",
    "Để truy cập các phần tử của set, ta thực hiện vòng lặp để duyệt qua toàn bộ phần từ của nó. Vì không có chỉ số nên buộc phải sử dụng vòng lặp `for`.\n",
    "\n",
    "**Trong kiểu dữ liệu tập hợp, không có khái niệm thứ tự → Những gì dựa trên chỉ số không sử dụng được cho set**"
   ]
  },
  {
   "cell_type": "code",
   "execution_count": 37,
   "metadata": {},
   "outputs": [
    {
     "name": "stdout",
     "output_type": "stream",
     "text": [
      "Alice\n",
      "Eva\n",
      "Adam\n",
      "Jack\n",
      "Bob\n"
     ]
    }
   ],
   "source": [
    "name_set = {'Alice', 'Bob', 'Eva', 'Adam', 'Jack'}\n",
    "for name in name_set:\n",
    "    print(name)"
   ]
  },
  {
   "cell_type": "markdown",
   "metadata": {},
   "source": [
    "Vì không có thứ tự nên kết quả sẽ xuất hiện không theo thứ tự của set mà ta thiết lập"
   ]
  },
  {
   "cell_type": "markdown",
   "metadata": {},
   "source": [
    "## Các phương thức của Set\n",
    "```python\n",
    ">>> dir(set)\n",
    "['__and__', '__class__', '__class_getitem__', '__contains__', '__delattr__', '__dir__', '__doc__', '__eq__', '__format__', '__ge__', '__getattribute__', '__gt__', '__hash__', '__iand__', '__init__', '__init_subclass__', '__ior__', '__isub__', '__iter__', '__ixor__', '__le__', '__len__', '__lt__', '__ne__', '__new__', '__or__', '__rand__', '__reduce__', '__reduce_ex__', '__repr__', '__ror__','__rsub__', '__rxor__', '__setattr__', '__sizeof__', '__str__', '__sub__', '__subclasshook__', '__xor__',\n",
    " 'add', 'clear', 'copy', 'difference', 'difference_update', 'discard', 'intersection', 'intersection_update', 'isdisjoint', 'issubset', 'issuperset', 'pop', 'remove', 'symmetric_difference', 'symmetric_difference_update', 'union', 'update']\n",
    " ```"
   ]
  },
  {
   "cell_type": "markdown",
   "metadata": {},
   "source": [
    "`len()` xác định số phần tử của Set"
   ]
  },
  {
   "cell_type": "code",
   "execution_count": 26,
   "metadata": {},
   "outputs": [
    {
     "data": {
      "text/plain": [
       "5"
      ]
     },
     "execution_count": 26,
     "metadata": {},
     "output_type": "execute_result"
    }
   ],
   "source": [
    "num_set = {1,3,5,7,9}\n",
    "len(num_set)"
   ]
  },
  {
   "cell_type": "markdown",
   "metadata": {},
   "source": [
    "Set có tính không thay đổi, điều này chỉ đúng với giá trị của phần tử trong set, vì ta không thể truy cập vào phần tử bằng chỉ số. Còn đối với tập hợp set thì ta có thể tiến hành thay đổi.\n",
    "\n",
    "`add()` thêm một phần tử.  \n",
    "`update()` thêm nhiều phần tử. Có thể lấy tập hợp tuple, list xâu ký tự làm đối số của nó, các phần tử giống nhau sẽ chỉ lấy một lần trong mọi trường hợp."
   ]
  },
  {
   "cell_type": "code",
   "execution_count": 48,
   "metadata": {},
   "outputs": [
    {
     "data": {
      "text/plain": [
       "{1, 'hi'}"
      ]
     },
     "execution_count": 48,
     "metadata": {},
     "output_type": "execute_result"
    },
    {
     "data": {
      "text/plain": [
       "{1, 2, 3, 'abc'}"
      ]
     },
     "execution_count": 48,
     "metadata": {},
     "output_type": "execute_result"
    },
    {
     "data": {
      "text/plain": [
       "{1, 2, 3, 4, 5, 6, 7, 8}"
      ]
     },
     "execution_count": 48,
     "metadata": {},
     "output_type": "execute_result"
    }
   ],
   "source": [
    "A = set()\n",
    "A.add(1)\n",
    "A.add('hi')\n",
    "A\n",
    "\n",
    "B = set((1,2))\n",
    "B.update((2,3,'abc'))\n",
    "B\n",
    "\n",
    "C = set()\n",
    "C.update((1,2,3,4,5), {2,4,6,8}, [1,3,5,7])\n",
    "C"
   ]
  },
  {
   "cell_type": "markdown",
   "metadata": {},
   "source": [
    "`discard()` xóa phần tử khỏi set, giữ nguyên set nếu phần tử không có trong set đó.  \n",
    "`remove`() xóa phần tử khỏi set, báo lỗi nếu phần tử không có trong set.  \n",
    "`clear()` xóa và làm rỗng tập hợp hiện thời.  \n",
    "`pop()` xóa và trả về phần tử đã xóa, vì không có thứ tự nên phần từ được xóa là ngẫu nhiên.  \n",
    "`del <set>` xóa set trong chương trình."
   ]
  },
  {
   "cell_type": "code",
   "execution_count": 15,
   "metadata": {},
   "outputs": [
    {
     "data": {
      "text/plain": [
       "{9, 18, 27, 36, 45}"
      ]
     },
     "execution_count": 15,
     "metadata": {},
     "output_type": "execute_result"
    }
   ],
   "source": [
    "A = set((9,18,27,36,45))\n",
    "A"
   ]
  },
  {
   "cell_type": "code",
   "execution_count": 16,
   "metadata": {},
   "outputs": [
    {
     "data": {
      "text/plain": [
       "{9, 18, 27, 36}"
      ]
     },
     "execution_count": 16,
     "metadata": {},
     "output_type": "execute_result"
    }
   ],
   "source": [
    "A.discard(45)\n",
    "A"
   ]
  },
  {
   "cell_type": "code",
   "execution_count": 17,
   "metadata": {},
   "outputs": [
    {
     "data": {
      "text/plain": [
       "{9, 18, 27, 36}"
      ]
     },
     "execution_count": 17,
     "metadata": {},
     "output_type": "execute_result"
    }
   ],
   "source": [
    "A.discard(54)\n",
    "A"
   ]
  },
  {
   "cell_type": "code",
   "execution_count": 18,
   "metadata": {},
   "outputs": [
    {
     "data": {
      "text/plain": [
       "{9, 18, 27}"
      ]
     },
     "execution_count": 18,
     "metadata": {},
     "output_type": "execute_result"
    }
   ],
   "source": [
    "A.remove(36)\n",
    "A"
   ]
  },
  {
   "cell_type": "code",
   "execution_count": 19,
   "metadata": {},
   "outputs": [
    {
     "ename": "KeyError",
     "evalue": "90",
     "output_type": "error",
     "traceback": [
      "\u001b[1;31m---------------------------------------------------------------------------\u001b[0m",
      "\u001b[1;31mKeyError\u001b[0m                                  Traceback (most recent call last)",
      "Cell \u001b[1;32mIn[19], line 1\u001b[0m\n\u001b[1;32m----> 1\u001b[0m \u001b[43mA\u001b[49m\u001b[38;5;241;43m.\u001b[39;49m\u001b[43mremove\u001b[49m\u001b[43m(\u001b[49m\u001b[38;5;241;43m90\u001b[39;49m\u001b[43m)\u001b[49m\n\u001b[0;32m      2\u001b[0m A\n",
      "\u001b[1;31mKeyError\u001b[0m: 90"
     ]
    }
   ],
   "source": [
    "A.remove(90)\n",
    "A"
   ]
  },
  {
   "cell_type": "code",
   "execution_count": 20,
   "metadata": {},
   "outputs": [
    {
     "data": {
      "text/plain": [
       "set()"
      ]
     },
     "execution_count": 20,
     "metadata": {},
     "output_type": "execute_result"
    }
   ],
   "source": [
    "A.clear()\n",
    "A"
   ]
  },
  {
   "cell_type": "code",
   "execution_count": 21,
   "metadata": {},
   "outputs": [
    {
     "data": {
      "text/plain": [
       "36"
      ]
     },
     "execution_count": 21,
     "metadata": {},
     "output_type": "execute_result"
    },
    {
     "data": {
      "text/plain": [
       "{9, 18, 27, 45}"
      ]
     },
     "execution_count": 21,
     "metadata": {},
     "output_type": "execute_result"
    }
   ],
   "source": [
    "A.update((9,18,27,36,45))\n",
    "num = A.pop()\n",
    "num\n",
    "A"
   ]
  },
  {
   "cell_type": "code",
   "execution_count": 22,
   "metadata": {},
   "outputs": [
    {
     "ename": "NameError",
     "evalue": "name 'A' is not defined",
     "output_type": "error",
     "traceback": [
      "\u001b[1;31m---------------------------------------------------------------------------\u001b[0m",
      "\u001b[1;31mNameError\u001b[0m                                 Traceback (most recent call last)",
      "Cell \u001b[1;32mIn[22], line 2\u001b[0m\n\u001b[0;32m      1\u001b[0m \u001b[38;5;28;01mdel\u001b[39;00m A\n\u001b[1;32m----> 2\u001b[0m \u001b[43mA\u001b[49m\n",
      "\u001b[1;31mNameError\u001b[0m: name 'A' is not defined"
     ]
    }
   ],
   "source": [
    "del A\n",
    "A"
   ]
  },
  {
   "cell_type": "markdown",
   "metadata": {},
   "source": [
    "|Phương thức|Mô tả|\n",
    "|-|-|\n",
    "|`len(<set>)`|trả về số phần tử của `set`|\n",
    "|`<set>.add(num)`|thêm 1 phần tử `num` vào `set`|\n",
    "|`<set>.update((num1,num2...))`|thêm các phần tử trong list, tuple,... vào trong set|\n",
    "|`<set>.remove(num)`|xóa `num` khỏi đối tượng `set`. Đưa lỗi `KeyError : num` nếu `num` không tồn tại trong set|\n",
    "|`<set>.discard(num)`|xóa `num` khỏi đối tượng `set`. `set` giữ nguyên nếu `num` không tồn tại trong set|\n",
    "|`<set>.pop()`|xóa ngẫu nhiên một phần tử trong `set` và trả về giá trị đó|\n",
    "|`set>.clear()`|xóa tất cả các phần tử trong `set`, và `set` thành tập hợp rỗng|\n",
    "|`del <set>`|xóa toàn bộ đối tượng `set`|"
   ]
  },
  {
   "cell_type": "markdown",
   "metadata": {},
   "source": [
    "## Sao chép đối tượng set\n",
    "**Set** là kiểu dữ liệu container nên nó tuân thủ theo cách gán tên theo namespace giống như **list** hay **dict**.\n",
    "- Khi sử dụng toán tử `=` (gán), bất kỳ sửa đổi nào được thực hiện trên tập hợp ban đầu sẽ được phản ánh trên tập hợp mới - tức là tuy hai mà một.\n",
    "\n",
    "Ví dụ: Sau khi gán `C = A` thì cả 2 tên A và C đều chỉ vào một đối tượng tập hợp duy nhất."
   ]
  },
  {
   "cell_type": "code",
   "execution_count": 25,
   "metadata": {},
   "outputs": [
    {
     "name": "stdout",
     "output_type": "stream",
     "text": [
      "A = {10, 20, 5, 15}\n",
      "C = {10, 20, 5, 15}\n"
     ]
    }
   ],
   "source": [
    "A = {5,10,15}\n",
    "C = A\n",
    "A.add(20)\n",
    "\n",
    "print(f'A = {A}')\n",
    "print(f'C = {C}')"
   ]
  },
  {
   "cell_type": "markdown",
   "metadata": {},
   "source": [
    "`copy()` tạo ra một bản sao của set - tức là một đối tượng khác."
   ]
  },
  {
   "cell_type": "code",
   "execution_count": 3,
   "metadata": {},
   "outputs": [
    {
     "data": {
      "text/plain": [
       "{2, 4, 6, 'A', 'Abc'}"
      ]
     },
     "execution_count": 3,
     "metadata": {},
     "output_type": "execute_result"
    },
    {
     "name": "stdout",
     "output_type": "stream",
     "text": [
      "A = {2, 4, 6, 'A', 'Abc'}\n",
      "B = {2, 4, 'Hello', 6, 'A', 'Abc'}\n"
     ]
    }
   ],
   "source": [
    "A = {2,4,6,'A','Abc'}\n",
    "B = A.copy()\n",
    "B\n",
    "\n",
    "B.add('Hello')\n",
    "print(f'A = {A}')\n",
    "print(f'B = {B}')\n"
   ]
  },
  {
   "cell_type": "markdown",
   "metadata": {},
   "source": [
    "## Các phép toán trên tập hợp\n",
    "### Kiểm tra quan hệ nằm trong, tập con, tập chứa tập hợp $a \\in A, A \\subseteq B, A \\supseteq B$\n",
    "Toán tử `in` dùng để kiểm tra một phần tử có nằm trong tập hợp hay không.  \n",
    "`B.issubset(A)` kiểm tra $B \\subseteq A$.  \n",
    "`A.issuperset(B)` kiểm tra $ A \\supseteq B$.  \n"
   ]
  },
  {
   "cell_type": "code",
   "execution_count": 6,
   "metadata": {},
   "outputs": [
    {
     "data": {
      "text/plain": [
       "False"
      ]
     },
     "execution_count": 6,
     "metadata": {},
     "output_type": "execute_result"
    },
    {
     "data": {
      "text/plain": [
       "True"
      ]
     },
     "execution_count": 6,
     "metadata": {},
     "output_type": "execute_result"
    },
    {
     "data": {
      "text/plain": [
       "True"
      ]
     },
     "execution_count": 6,
     "metadata": {},
     "output_type": "execute_result"
    },
    {
     "data": {
      "text/plain": [
       "True"
      ]
     },
     "execution_count": 6,
     "metadata": {},
     "output_type": "execute_result"
    }
   ],
   "source": [
    "A = {'One', 'Ten', 2, 3, (5,10)}\n",
    "B = {2, 3}\n",
    "C = {3, 2}\n",
    "\n",
    "'Two' in A\n",
    "B.issubset(A)\n",
    "A.issuperset(B)\n",
    "C.issubset(B)"
   ]
  },
  {
   "cell_type": "markdown",
   "metadata": {},
   "source": [
    "### Phép hợp $A \\cup B$\n",
    "Định nghĩa:\n",
    "$$A \\cup B = \\{x | x \\in A \\lor x \\in B\\}$$\n",
    "`A.union(B)`, `B.union(A)` hoặc `A | B` để hợp 2 tập hợp `A` và `B`.\n",
    "\n",
    "**Phương thức và phép toán trên sẽ tạo ra một tập hợp mới mà không làm thay đổi đến 2 tập hợp gốc.**"
   ]
  },
  {
   "cell_type": "code",
   "execution_count": 8,
   "metadata": {},
   "outputs": [
    {
     "data": {
      "text/plain": [
       "{1, 3, 4, 5, 'One', 'Three', 'Two'}"
      ]
     },
     "execution_count": 8,
     "metadata": {},
     "output_type": "execute_result"
    },
    {
     "data": {
      "text/plain": [
       "{1, 3, 4, 5, 'One', 'Three', 'Two'}"
      ]
     },
     "execution_count": 8,
     "metadata": {},
     "output_type": "execute_result"
    }
   ],
   "source": [
    "A = {'One', 'Two', 3}\n",
    "B = {1, 'Two', 'Three', 4, 5}\n",
    "\n",
    "C = A.union(B)\n",
    "C\n",
    "\n",
    "D = A | B\n",
    "D"
   ]
  },
  {
   "cell_type": "markdown",
   "metadata": {},
   "source": [
    "### Phép giao $A \\cap B$\n",
    "Định nghĩa:\n",
    "$$A \\cap B = \\{x | x \\in A \\land x \\in B \\}$$\n",
    "`A.intersection(B)` hoặc `A & B` để giao hai tập hợp `A` và `B`.\n",
    "\n",
    "**Phương thức và phép toán trên sẽ tạo ra một tập hợp mới mà không làm thay đổi đến 2 tập hợp gốc.**"
   ]
  },
  {
   "cell_type": "code",
   "execution_count": null,
   "metadata": {},
   "outputs": [],
   "source": []
  },
  {
   "cell_type": "markdown",
   "metadata": {},
   "source": [
    "### Phép hiệu $A - B$\n",
    "Định nghĩa:\n",
    "$$A - B = \\{x|x \\in A \\land x \\notin B\\}$$\n",
    "`A.difference(B)` hoặc `A - B` đề trừ tập hợp `A` cho tập hợp `B`.\n",
    "\n",
    "*Lưu ý:* $A - B \\neq B - A$\n",
    "\n",
    "**Phương thức và phép toán trên sẽ tạo ra một tập hợp mới mà không làm thay đổi đến 2 tập hợp gốc.**"
   ]
  },
  {
   "cell_type": "code",
   "execution_count": null,
   "metadata": {},
   "outputs": [],
   "source": []
  },
  {
   "cell_type": "markdown",
   "metadata": {},
   "source": [
    "### Phép hiệu đối xứng $A \\Delta B$\n",
    "Định nghĩa:\n",
    "$$\n",
    "\\begin{aligned}\n",
    "    A \\Delta B = (A - B) \\cup (B - A) \\\\\n",
    "    = (A \\cup B) - (A \\cap B) \n",
    "\\end{aligned}\n",
    "$$\n",
    "`A.symetric_difference(B)` hoặc `A ^ B` để trừ đối xứng hai tập hợp `A` và `B`.\n",
    "\n",
    "**Phương thức và phép toán trên sẽ tạo ra một tập hợp mới mà không làm thay đổi đến 2 tập hợp gốc.**\n"
   ]
  },
  {
   "cell_type": "markdown",
   "metadata": {},
   "source": [
    "## Frozenset\n",
    "Frozenset là một tập hợp bất biến, chứa các phần tử không có thứ tự và không thể thay đổi giá trị, và không thể thêm hoặc xóa bất cứ phần tử nào.\n",
    "\n",
    "Frozenset phù hợp khi được sử dụng với mục đích:\n",
    "- tạo một tập hợp bất biến không cho phép thêm hoặc xóa các phần tử khỏi một tập hợp.\n",
    "- khi muốn tạo một tập hợp chỉ đọc."
   ]
  },
  {
   "cell_type": "code",
   "execution_count": 5,
   "metadata": {},
   "outputs": [
    {
     "name": "stdout",
     "output_type": "stream",
     "text": [
      "frozenset({'yellow', 'green', 'red'})\n"
     ]
    },
    {
     "data": {
      "text/plain": [
       "frozenset"
      ]
     },
     "execution_count": 5,
     "metadata": {},
     "output_type": "execute_result"
    }
   ],
   "source": [
    "signal_led = ('red', 'green', 'yellow')\n",
    "f_set = frozenset(signal_led)\n",
    "print(f_set)\n",
    "type(f_set)"
   ]
  },
  {
   "cell_type": "markdown",
   "metadata": {},
   "source": [
    "```python\n",
    ">>> dir(frozenset)\n",
    "...'copy', 'difference', 'intersection', 'isdisjoint', 'issubset', 'issuperset', 'symmetric_difference', 'union'\n",
    "```\n",
    "Không có các phương thức thêm xóa trên frozenset, nhưng vẫn có thể sử dụng các phép toán trên tập hợp như set."
   ]
  },
  {
   "cell_type": "code",
   "execution_count": 1,
   "metadata": {},
   "outputs": [],
   "source": [
    "#Hiện input, output\n",
    "from IPython.core.interactiveshell import InteractiveShell\n",
    "InteractiveShell.ast_node_interactivity = \"all\"\n",
    "\n",
    "import builtins\n",
    "def input(prompt=''):\n",
    "    x = builtins.input(prompt)\n",
    "    print(prompt+x)\n",
    "    return x"
   ]
  }
 ],
 "metadata": {
  "kernelspec": {
   "display_name": "Python 3",
   "language": "python",
   "name": "python3"
  },
  "language_info": {
   "codemirror_mode": {
    "name": "ipython",
    "version": 3
   },
   "file_extension": ".py",
   "mimetype": "text/x-python",
   "name": "python",
   "nbconvert_exporter": "python",
   "pygments_lexer": "ipython3",
   "version": "3.9.10"
  }
 },
 "nbformat": 4,
 "nbformat_minor": 2
}
