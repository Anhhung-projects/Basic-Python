{
 "cells": [
  {
   "cell_type": "code",
   "execution_count": 46,
   "metadata": {},
   "outputs": [],
   "source": [
    "from IPython.core.interactiveshell import InteractiveShell\n",
    "InteractiveShell.ast_node_interactivity = \"all\"\n",
    "\n",
    "import builtins\n",
    "def input(prompt):\n",
    "    x = builtins.input(prompt)\n",
    "    print(prompt+x)\n",
    "    return x"
   ]
  },
  {
   "cell_type": "markdown",
   "metadata": {},
   "source": [
    "# Module\n",
    "Module là thư viện các def\n",
    "xem hàm/thủ tục trong lõi gốc python `dir(__builtins__)`  \n",
    "xem phương thức/tham biến có trong module `dir(module)`\n",
    "\n",
    "\n"
   ]
  },
  {
   "cell_type": "code",
   "execution_count": 4,
   "metadata": {},
   "outputs": [
    {
     "name": "stdout",
     "output_type": "stream",
     "text": [
      "['__doc__', '__loader__', '__name__', '__package__', '__spec__', 'acos', 'acosh', 'asin', 'asinh', 'atan', 'atan2', 'atanh', 'ceil', 'comb', 'copysign', 'cos', 'cosh', 'degrees', 'dist', 'e', 'erf', 'erfc', 'exp', 'expm1', 'fabs', 'factorial', 'floor', 'fmod', 'frexp', 'fsum', 'gamma', 'gcd', 'hypot', 'inf', 'isclose', 'isfinite', 'isinf', 'isnan', 'isqrt', 'lcm', 'ldexp', 'lgamma', 'log', 'log10', 'log1p', 'log2', 'modf', 'nan', 'nextafter', 'perm', 'pi', 'pow', 'prod', 'radians', 'remainder', 'sin', 'sinh', 'sqrt', 'tan', 'tanh', 'tau', 'trunc', 'ulp']\n"
     ]
    }
   ],
   "source": [
    "import math\n",
    "\n",
    "print(dir(math))"
   ]
  },
  {
   "cell_type": "markdown",
   "metadata": {},
   "source": [
    "## Import\n",
    "```python\n",
    "import module as bí_danh\n",
    "module.tên_phương_thức\n",
    "```\n",
    "hoặc \n",
    "```python\n",
    "from module import hàm_số\n",
    "from module import * #khi sử dụng hết tất cả các hàm trong module\n",
    "#khi này khi sử dụng hàm số sẽ không cần [module.]\n",
    "```\n",
    "## Tự thiết lập Module\n",
    "Python cho phép dev tạo ra Module riêng và chia sẽ lên cộng đồng.  \n",
    "Muốn đưa Mudule này vào sử dụng cần copy tệp này vào thư mục Lib các thư viện gốc của Python  \n",
    "Cách tạo Module:\n",
    "- module là 1 tệp chương trình *.py\n",
    "- hàm và biến được định nghĩa sẽ là tài nguyên của Module này  \n",
    "## Một số Module thường dùng\n",
    "### Module math\n"
   ]
  },
  {
   "cell_type": "code",
   "execution_count": 7,
   "metadata": {},
   "outputs": [
    {
     "data": {
      "text/plain": [
       "3.141592653589793"
      ]
     },
     "execution_count": 7,
     "metadata": {},
     "output_type": "execute_result"
    },
    {
     "data": {
      "text/plain": [
       "2.718281828459045"
      ]
     },
     "execution_count": 7,
     "metadata": {},
     "output_type": "execute_result"
    }
   ],
   "source": [
    "import math\n",
    "math.pi\n",
    "math.e"
   ]
  },
  {
   "cell_type": "markdown",
   "metadata": {},
   "source": [
    "### Module cmath\n",
    "Python: Hỗ trợ dữ liệu số phức  \n",
    "`biến_nhớ = Phần_thực + Phần_ảo j`. Ví dụ `z = 10 + 2j`  \n",
    "cmath: hàm, hằng và phương thức hỗ trợ tính toán số phức"
   ]
  },
  {
   "cell_type": "code",
   "execution_count": 10,
   "metadata": {},
   "outputs": [
    {
     "data": {
      "text/plain": [
       "complex"
      ]
     },
     "execution_count": 10,
     "metadata": {},
     "output_type": "execute_result"
    },
    {
     "data": {
      "text/plain": [
       "(10-2j)"
      ]
     },
     "execution_count": 10,
     "metadata": {},
     "output_type": "execute_result"
    },
    {
     "data": {
      "text/plain": [
       "10.0"
      ]
     },
     "execution_count": 10,
     "metadata": {},
     "output_type": "execute_result"
    },
    {
     "data": {
      "text/plain": [
       "2.0"
      ]
     },
     "execution_count": 10,
     "metadata": {},
     "output_type": "execute_result"
    }
   ],
   "source": [
    "z = 10 + 2j\n",
    "type(z)\n",
    "z.conjugate() # trả về số phức liên hợp\n",
    "z.real\n",
    "z.imag # real và imag là thuộc tính, không phải phương thức"
   ]
  },
  {
   "cell_type": "markdown",
   "metadata": {},
   "source": [
    "### Module random\n"
   ]
  },
  {
   "cell_type": "code",
   "execution_count": 27,
   "metadata": {},
   "outputs": [
    {
     "data": {
      "text/plain": [
       "0.7999090784847855"
      ]
     },
     "execution_count": 27,
     "metadata": {},
     "output_type": "execute_result"
    },
    {
     "data": {
      "text/plain": [
       "9"
      ]
     },
     "execution_count": 27,
     "metadata": {},
     "output_type": "execute_result"
    },
    {
     "data": {
      "text/plain": [
       "51.43463416537261"
      ]
     },
     "execution_count": 27,
     "metadata": {},
     "output_type": "execute_result"
    },
    {
     "data": {
      "text/plain": [
       "55"
      ]
     },
     "execution_count": 27,
     "metadata": {},
     "output_type": "execute_result"
    }
   ],
   "source": [
    "#sinh số ngẫu nhiên\n",
    "#hàm random() trong module random có chức năng sinh số ngẫu nhiên trong [0,1)\n",
    "from random import random\n",
    "random() #[0,1)\n",
    "int(101*random()) #[0,100] int\n",
    "100*random() #[0,100) float\n",
    "min = 50\n",
    "max = 100\n",
    "int(min + (max + 1 - min)*random()) #[min,max]"
   ]
  },
  {
   "cell_type": "code",
   "execution_count": 31,
   "metadata": {},
   "outputs": [
    {
     "data": {
      "text/plain": [
       "8"
      ]
     },
     "execution_count": 31,
     "metadata": {},
     "output_type": "execute_result"
    },
    {
     "data": {
      "text/plain": [
       "'b'"
      ]
     },
     "execution_count": 31,
     "metadata": {},
     "output_type": "execute_result"
    },
    {
     "data": {
      "text/plain": [
       "'d'"
      ]
     },
     "execution_count": 31,
     "metadata": {},
     "output_type": "execute_result"
    }
   ],
   "source": [
    "#chọn ngẫu nhiên\n",
    "#choice(dãy giá trị tuần tự)\n",
    "import random as r\n",
    "r.choice(range(10)) #chọn từ 0 - 9\n",
    "lst = ['a','b','c','d','e','f','g','h']\n",
    "r.choice(lst)\n",
    "s = 'abcdef'\n",
    "r.choice(s)"
   ]
  },
  {
   "cell_type": "code",
   "execution_count": null,
   "metadata": {},
   "outputs": [],
   "source": [
    "import random as r\n",
    "r.randint(10,20) #số nguyên [10,20]\n",
    "r.randrange(1,100,2) #số nguyên trong vùng range(start,stop[,step])"
   ]
  },
  {
   "cell_type": "code",
   "execution_count": 35,
   "metadata": {},
   "outputs": [
    {
     "data": {
      "text/plain": [
       "1.4142135623730951"
      ]
     },
     "execution_count": 35,
     "metadata": {},
     "output_type": "execute_result"
    }
   ],
   "source": [
    "abs(1+1j)"
   ]
  },
  {
   "cell_type": "code",
   "execution_count": 37,
   "metadata": {},
   "outputs": [
    {
     "data": {
      "text/plain": [
       "3.0"
      ]
     },
     "execution_count": 37,
     "metadata": {},
     "output_type": "execute_result"
    }
   ],
   "source": [
    "import cmath\n",
    "#(1.5 + j).real\n",
    "(2 + 3j).imag"
   ]
  },
  {
   "cell_type": "code",
   "execution_count": 40,
   "metadata": {},
   "outputs": [
    {
     "name": "stdout",
     "output_type": "stream",
     "text": [
      "[143, 322, 621, 779, 1014, 1026, 1062, 1195, 1260, 1491, 1546, 1871, 1952, 2178, 2272, 2556, 2566, 2868, 2965, 3018, 3037, 3040, 3078, 3208, 3249, 3338, 3339, 3406, 3633, 3713, 3817, 4126, 4383, 4404, 4433, 4473, 5202, 5230, 5251, 5502, 5965, 6090, 6094, 6106, 6420, 6432, 6453, 6721, 6867, 6989, 6995, 7079, 7382, 7392, 7424, 7507, 7651, 7807, 7835, 7940, 8207, 8311, 8430, 8534, 8631, 8860, 9069, 9275, 9289, 9453, 9474, 9627, 9728, 9753, 9887, 9940, 10006, 10076, 10406, 10488, 10600, 10629, 10678, 10745, 10893, 10920, 11018, 11061, 11072, 11086, 11388, 11520, 11765, 12032, 12042, 12097, 12127, 12141, 12149, 12233, 12340, 12373, 12434, 12436, 12563, 12636, 12689, 12705, 12718, 12738, 12758, 13008, 13106, 13176, 13283, 13425, 13430, 13461, 13473, 13578, 13695, 13709, 13732, 13742, 13962, 14013, 14196, 14362, 14627, 14659, 14674, 14700, 14792, 14942, 15019, 15159, 15187, 15229, 15326, 15340, 15379, 15391, 15518, 15558, 15631, 15650, 15654, 16151, 16196, 16271, 16335, 16354, 16493, 16524, 16572, 16622, 16623, 16744, 16860, 16863, 16892, 17036, 17212, 17879, 17988, 18022, 18049, 18182, 18200, 18221, 18221, 18257, 18308, 18381, 18500, 18525, 18607, 18745, 18805, 18811, 18836, 19080, 19098, 19115, 19128, 19140, 19221, 19305, 19412, 19456, 19523, 19729, 19991, 20088, 20128, 20212, 20422, 20471, 20509, 20543, 20656, 20678, 20735, 21224, 21250, 21338, 21373, 21396, 21466, 21491, 21592, 21594, 21728, 21750, 21878, 21899, 22201, 22289, 22308, 22337, 22440, 22593, 22711, 22864, 23011, 23037, 23073, 23111, 23180, 23293, 23316, 23344, 23542, 23576, 23612, 23628, 23842, 23876, 24039, 24121, 24195, 24277, 24330, 24336, 24339, 24462, 24507, 24670, 24888, 24966, 25047, 25280, 25392, 25407, 25430, 25451, 25735, 25739, 26001, 26055, 26211, 26678, 26816, 27011, 27109, 27158, 27165, 27187, 27260, 27518, 27544, 27587, 27608, 27779, 27838, 27924, 28067, 28128, 28211, 28230, 28380, 28517, 28533, 28579, 28727, 28737, 28862, 28913, 28928, 28961, 29124, 29128, 29145, 29675, 29709, 29808, 29820, 29832, 29864, 29877, 29883, 29894, 30030, 30053, 30096, 30160, 30201, 30314, 30355, 30452, 30456, 30479, 30554, 30573, 30648, 30677, 30745, 30784, 31097, 31145, 31343, 31357, 31495, 31780, 31859, 31998, 32018, 32063, 32149, 32206, 32233, 32327, 32412, 32439, 32442, 32512, 32660, 32674, 32681, 32898, 33045, 33081, 33139, 33205, 33224, 33245, 33734, 33854, 34165, 34208, 34298, 34413, 34442, 34588, 34787, 34807, 34851, 34880, 34918, 34971, 34984, 35080, 35193, 35244, 35285, 35462, 35532, 35707, 35798, 36195, 36504, 36619, 37147, 37211, 37343, 37352, 37771, 37774, 37775, 37918, 38124, 38205, 38293, 38365, 38387, 38579, 38585, 38646, 38682, 38926, 39031, 39062, 39065, 39072, 39125, 39195, 39401, 39535, 40165, 40217, 40218, 40258, 40449, 40541, 41370, 41402, 41427, 41433, 41550, 41704, 41815, 41935, 42054, 42108, 42142, 42254, 42423, 42509, 42562, 42675, 42711, 42725, 42784, 42849, 42911, 43085, 43116, 43315, 43333, 43664, 43941, 43971, 43978, 44225, 44420, 44459, 44570, 44671, 44768, 44814, 44858, 44954, 45056, 45130, 45143, 45272, 45286, 45362, 45730, 45978, 45988, 46030, 46131, 46277, 46374, 46476, 46540, 46762, 46831, 47143, 47174, 47311, 47321, 47367, 47428, 47465, 47486, 47544, 47584, 47674, 47769, 48126, 48146, 48242, 48313, 48448, 48455, 48474, 48544, 48665, 48705, 48779, 48839, 48856, 48937, 49096, 49160, 49468, 49474, 49630, 49680, 49802, 49966, 50038, 50351, 50512, 50553, 50975, 51041, 51051, 51341, 51432, 51498, 51535, 51762, 51853, 51859, 51887, 51960, 51971, 51992, 51997, 52036, 52231, 52343, 52744, 52835, 53028, 53060, 53095, 53141, 53181, 53356, 53366, 53502, 53506, 53544, 53579, 53663, 53773, 53807, 53840, 53975, 54055, 54202, 54272, 54394, 54404, 54490, 54545, 54578, 54597, 54610, 54617, 54676, 54687, 54851, 54885, 55239, 55425, 55455, 55462, 55463, 55507, 55843, 55868, 55878, 56004, 56115, 56133, 56437, 56444, 56512, 56820, 56880, 56944, 56996, 57267, 57285, 57344, 57381, 57391, 57487, 57490, 57568, 57579, 57753, 57888, 57975, 58026, 58442, 58443, 58474, 58523, 58530, 58573, 58665, 58744, 59393, 59410, 59441, 59490, 59570, 59641, 59851, 59866, 59867, 59907, 59945, 60024, 60168, 60306, 60318, 60320, 60380, 60504, 60644, 60786, 60838, 60862, 60980, 61022, 61062, 61089, 61136, 61324, 61418, 61486, 61626, 61682, 61688, 61956, 62107, 62274, 62280, 62354, 62374, 62477, 62498, 62562, 62578, 62663, 62709, 62713, 62774, 62793, 62900, 62959, 63074, 63084, 63093, 63309, 63318, 63469, 63550, 63845, 63992, 63994, 64056, 64129, 64197, 64226, 64387, 64392, 64393, 64410, 64414, 64577, 64611, 64742, 64749, 64920, 65004, 65164, 65363, 65492, 65599, 65699, 65796, 65821, 65931, 66006, 66243, 66365, 66429, 66455, 66540, 66580, 66848, 66869, 66885, 66917, 66952, 66986, 67022, 67257, 67487, 67801, 68139, 68346, 68358, 68651, 68843, 68880, 69060, 69085, 69142, 69221, 69297, 69333, 69342, 69654, 69656, 69728, 69831, 70023, 70035, 70159, 70191, 70334, 70352, 70581, 70965, 71206, 71210, 71236, 71434, 71508, 71566, 71752, 71789, 71810, 72027, 72094, 72311, 72462, 72499, 72522, 72616, 72730, 72736, 72746, 72783, 72797, 72944, 72952, 73057, 73091, 73161, 73196, 73301, 73356, 73405, 73607, 73633, 73635, 73745, 74049, 74187, 74476, 74992, 75297, 75421, 75437, 75500, 75630, 75999, 76058, 76073, 76198, 76233, 76318, 76334, 76372, 76458, 76530, 76561, 76666, 76696, 76703, 76724, 76804, 76874, 76928, 76988, 77143, 77194, 77203, 77347, 77359, 77522, 77562, 77584, 77663, 77696, 77741, 78072, 78088, 78285, 78353, 78419, 78520, 78745, 78829, 78907, 78998, 79126, 79245, 79394, 79402, 79502, 79576, 79806, 79814, 80156, 80293, 80314, 80493, 80658, 80677, 80681, 80946, 80963, 81060, 81095, 81100, 81122, 81171, 81187, 81427, 81567, 81606, 81864, 82101, 82125, 82274, 82352, 82401, 82554, 82653, 82989, 83058, 83152, 83214, 83700, 83811, 83833, 83954, 84170, 84348, 84421, 84552, 84709, 84973, 85048, 85085, 85095, 85197, 85335, 85434, 85449, 85505, 85905, 85989, 86142, 86161, 86168, 86229, 86306, 86347, 86409, 86715, 86792, 86914, 87019, 87086, 87193, 87259, 87466, 87506, 87640, 87778, 87865, 88040, 88076, 88216, 88348, 88413, 88436, 88581, 88658, 88706, 88742, 88817, 88837, 88890, 88912, 88944, 89144, 89161, 89214, 89251, 89639, 89782, 89811, 89842, 90063, 90084, 90267, 90317, 90509, 90512, 90577, 90582, 90586, 90605, 90614, 90766, 91176, 91317, 91381, 91422, 91423, 91441, 91683, 91732, 91743, 91819, 91830, 91966, 92269, 92349, 92350, 92364, 92551, 92787, 92945, 93102, 93386, 93410, 93530, 93568, 93603, 93643, 93671, 93819, 93955, 93997, 94110, 94181, 94185, 94190, 94220, 94257, 94269, 94406, 94461, 94527, 94576, 94582, 94659, 94676, 94729, 95091, 95094, 95311, 95379, 95635, 95653, 95713, 95847, 96175, 96782, 96915, 97044, 97255, 97330, 97448, 97475, 97592, 97599, 97656, 97979, 98112, 98116, 98141, 98215, 98485, 98670, 98683, 98688, 98714, 98722, 98784, 98789, 98798, 98880, 99058, 99114, 99119, 99182, 99264, 99357, 99500, 99519, 99690, 99780, 99814, 99875, 99875]\n"
     ]
    }
   ],
   "source": [
    "#4 5\n",
    "import random as r\n",
    "lst = []\n",
    "for i in range(1000):\n",
    "    lst.append(r.randint(1,99999))\n",
    "lst.sort()\n",
    "print(lst)"
   ]
  },
  {
   "cell_type": "code",
   "execution_count": 1,
   "metadata": {},
   "outputs": [],
   "source": [
    "from math import sqrt\n",
    "def areaTriangle(a,b,c):\n",
    "    p = (a + b + c) / 2\n",
    "    return sqrt(p * (p - a)*(p - b)*(p - c))\n"
   ]
  },
  {
   "cell_type": "code",
   "execution_count": null,
   "metadata": {},
   "outputs": [],
   "source": [
    "\n",
    "def EuclideanDistance(x1,y1,x2,y2):\n",
    "    return sqrt((x1 - x2)**2 + (y1 - y2)**2)\n",
    "def perimeterTriangle(x1,y1,x2,y2,x3,y3):\n",
    "    a = EuclideanDistance(x1,y1,x2,y2)\n",
    "    b = EuclideanDistance(x2,y2,x3,y3)\n",
    "    c = EuclideanDistance(x3,y3,x1,y1)\n",
    "    return a + b + c\n",
    "def areaTriangle(x1,y1,x2,y2,x3,y3):\n",
    "    a = EuclideanDistance(x1,y1,x2,y2)\n",
    "    b = EuclideanDistance(x2,y2,x3,y3)\n",
    "    c = EuclideanDistance(x3,y3,x1,y1)\n",
    "    p = (a + b + c)/2\n",
    "    return (p*(p - a)*(p - b)*(p - c))**0.5\n"
   ]
  },
  {
   "cell_type": "code",
   "execution_count": 15,
   "metadata": {},
   "outputs": [
    {
     "data": {
      "text/plain": [
       "True"
      ]
     },
     "execution_count": 15,
     "metadata": {},
     "output_type": "execute_result"
    },
    {
     "data": {
      "text/plain": [
       "False"
      ]
     },
     "execution_count": 15,
     "metadata": {},
     "output_type": "execute_result"
    },
    {
     "data": {
      "text/plain": [
       "False"
      ]
     },
     "execution_count": 15,
     "metadata": {},
     "output_type": "execute_result"
    },
    {
     "data": {
      "text/plain": [
       "True"
      ]
     },
     "execution_count": 15,
     "metadata": {},
     "output_type": "execute_result"
    },
    {
     "data": {
      "text/plain": [
       "[[9, 10, 11, 12], [5, 6, 7, 8], [1, 2, 3, 4]]"
      ]
     },
     "execution_count": 15,
     "metadata": {},
     "output_type": "execute_result"
    },
    {
     "data": {
      "text/plain": [
       "True"
      ]
     },
     "execution_count": 15,
     "metadata": {},
     "output_type": "execute_result"
    },
    {
     "data": {
      "text/plain": [
       "[[9, 11, 10, 12], [5, 7, 6, 8], [1, 3, 2, 4]]"
      ]
     },
     "execution_count": 15,
     "metadata": {},
     "output_type": "execute_result"
    },
    {
     "data": {
      "text/plain": [
       "True"
      ]
     },
     "execution_count": 15,
     "metadata": {},
     "output_type": "execute_result"
    },
    {
     "data": {
      "text/plain": [
       "False"
      ]
     },
     "execution_count": 15,
     "metadata": {},
     "output_type": "execute_result"
    },
    {
     "data": {
      "text/plain": [
       "[[1, 4, 7], [2, 5, 8], [3, 6, 9]]"
      ]
     },
     "execution_count": 15,
     "metadata": {},
     "output_type": "execute_result"
    }
   ],
   "source": [
    "#Module MyMatrix\n",
    "def isMatrix(A):\n",
    "    '''Kiểm tra ma trận: trả về \"True\" nếu ma trận hợp lệ (có số hàng và số cột bằng nhau và chứa kiểu dữ liệu số'''\n",
    "    l = len(A[0])\n",
    "    for item in A:\n",
    "        if len(item) != l: \n",
    "            #print('Loi kich thuoc')\n",
    "            return False\n",
    "        for i in item:\n",
    "            if type(i) != (int) and type(i) != (float): \n",
    "                #print('Loi kieu du lieu')\n",
    "                return False\n",
    "    return True\n",
    "def ChangeRow(A,i,j):\n",
    "    '''Thay đổi hàng: trả về \"True\" nếu thay đổi thành công, ngược lại nếu không phải ma trận hoặc không thay đổi được'''\n",
    "    if isMatrix(A) == False:\n",
    "        return False\n",
    "    if i not in range(len(A)) and j not in range(len(A)):\n",
    "        return False\n",
    "    A[i], A[j] =  A[j], A[i]\n",
    "    return True\n",
    "def ChangeColumn(A,i,j):\n",
    "    '''Thay đổi cột: trả về \"True\" nếu thay đổi thành công, ngược lại nếu không phải ma trận hoặc không thay đổi được'''\n",
    "    if isMatrix(A) == False:\n",
    "        return False\n",
    "    if i not in range(len(A[0])) and j not in range(len(A[0])):\n",
    "        return False\n",
    "    for k in range(len(A)):\n",
    "        A[k][i], A[k][j] = A[k][j], A[k][i]\n",
    "    return True\n",
    "def isSquare(A):\n",
    "    '''Hàm kiểm tra ma trận vuông: trả về \"True\" nếu ma trận truyền vào là ma trận vuông m x m (m >= 1)'''\n",
    "    if isMatrix(A) and len(A) == len(A[0]):\n",
    "        return True\n",
    "    else:\n",
    "        return False\n",
    "def getSymmetry(A):\n",
    "    '''Hàm lấy đối xứng qua đường chéo chính của ma trận vuông A, hàm trả về ma trận At là ma trận đối xứng của ma trận A'''\n",
    "    if isSquare(A) == False: return A\n",
    "    for i in range(len(A)): \n",
    "        j = i + 1 \n",
    "        while j < len(A):\n",
    "            A[i][j], A[j][i] = A[j][i], A[i][j]\n",
    "            j += 1\n",
    "    return A\n",
    "\n",
    "A = [[1,2,3],[4,5,6],[7,8,9]]\n",
    "B = [[1,2],[3,4,5],[6,7]]\n",
    "C = [['a','b'],[1,2]]\n",
    "D = [[1,2,3,4],[5,6,7,8],[9,10,11,12]]\n",
    "isMatrix(A)\n",
    "isMatrix(B)\n",
    "isMatrix(C)\n",
    "ChangeRow(D,0,2)\n",
    "D\n",
    "ChangeColumn(D,1,2)\n",
    "D\n",
    "isSquare(A)\n",
    "isSquare(D)\n",
    "getSymmetry(A)\n",
    "\n",
    "    \n",
    "    "
   ]
  },
  {
   "cell_type": "code",
   "execution_count": 18,
   "metadata": {},
   "outputs": [
    {
     "name": "stdout",
     "output_type": "stream",
     "text": [
      "    1    4    7\n",
      "    2    5    8\n",
      "    3    6    9\n"
     ]
    }
   ],
   "source": [
    "import MyMatrix as mt\n",
    "A = [[1,2,3],[4,5,6],[7,8,9]]\n",
    "\n",
    "mt.printMatrix(mt.getSymmetry(A))"
   ]
  },
  {
   "cell_type": "code",
   "execution_count": 3,
   "metadata": {},
   "outputs": [
    {
     "data": {
      "text/plain": [
       "False"
      ]
     },
     "execution_count": 3,
     "metadata": {},
     "output_type": "execute_result"
    },
    {
     "data": {
      "text/plain": [
       "9"
      ]
     },
     "execution_count": 3,
     "metadata": {},
     "output_type": "execute_result"
    },
    {
     "data": {
      "text/plain": [
       "6.0"
      ]
     },
     "execution_count": 3,
     "metadata": {},
     "output_type": "execute_result"
    }
   ],
   "source": [
    "import MyTriange as tag\n",
    "\n",
    "a,b,c = 3,4,5\n",
    "a2,b2,c2 = 3,3,3\n",
    "a3,b3,c3 = 5,5,10\n",
    "tag.isTriange(a3,b3,c3)\n",
    "tag.Perimeter(a2,b2,c2)\n",
    "tag.Area(a,b,c)"
   ]
  },
  {
   "cell_type": "code",
   "execution_count": 8,
   "metadata": {},
   "outputs": [
    {
     "data": {
      "text/plain": [
       "0.0013578962234515046"
      ]
     },
     "execution_count": 8,
     "metadata": {},
     "output_type": "execute_result"
    },
    {
     "data": {
      "text/plain": [
       "0.000135901634119584"
      ]
     },
     "execution_count": 8,
     "metadata": {},
     "output_type": "execute_result"
    }
   ],
   "source": [
    "import math\n",
    "A = []\n",
    "for i in range(1,1001):\n",
    "    val = (1 + (1/i))**i\n",
    "    A.append(val)\n",
    "math.e - A[999]\n",
    "math.e - (1 + (1/10000))**10000"
   ]
  },
  {
   "cell_type": "code",
   "execution_count": 11,
   "metadata": {},
   "outputs": [
    {
     "data": {
      "text/plain": [
       "(0.5403023058681398+0.8414709848078965j)"
      ]
     },
     "execution_count": 11,
     "metadata": {},
     "output_type": "execute_result"
    },
    {
     "data": {
      "text/plain": [
       "(0.5403023058681398-0.8414709848078965j)"
      ]
     },
     "execution_count": 11,
     "metadata": {},
     "output_type": "execute_result"
    }
   ],
   "source": [
    "import math\n",
    "\n",
    "math.e**(1j)\n",
    "math.e**(-1j)"
   ]
  },
  {
   "cell_type": "code",
   "execution_count": 13,
   "metadata": {},
   "outputs": [
    {
     "name": "stdout",
     "output_type": "stream",
     "text": [
      "Nhập cạnh a:12\n",
      "Nhập cạnh b:45\n",
      "Nhập cạnh c:36\n",
      "Đường cao ứng với cạnh a: 26.492628691770093\n",
      "Đường cao ứng với cạnh b: 7.064700984472025\n",
      "Đường cao ứng với cạnh c: 8.83087623059003\n"
     ]
    }
   ],
   "source": [
    "import MyTriange as tag\n",
    "a = int(input(\"Nhập cạnh a:\"))\n",
    "b = int(input(\"Nhập cạnh b:\"))\n",
    "c = int(input(\"Nhập cạnh c:\"))\n",
    "S = tag.Area(a,b,c)\n",
    "print(f'Đường cao ứng với cạnh a: {2*S/a}')\n",
    "print(f'Đường cao ứng với cạnh b: {2*S/b}')\n",
    "print(f'Đường cao ứng với cạnh c: {2*S/c}')\n",
    "\n"
   ]
  },
  {
   "cell_type": "code",
   "execution_count": 18,
   "metadata": {},
   "outputs": [
    {
     "data": {
      "text/plain": [
       "[13, 16, 11, 5, 14, 12, 8, 10, 19, 4, 15, 9, 6, 1, 7, 2, 17, 18, 3, 20]"
      ]
     },
     "execution_count": 18,
     "metadata": {},
     "output_type": "execute_result"
    }
   ],
   "source": [
    "import random as r\n",
    "\n",
    "n = 20\n",
    "numSeries = [i for i in range(1,n+1)]\n",
    "permute = []\n",
    "while numSeries != []:\n",
    "    num = r.choice(numSeries)\n",
    "    permute.append(num)\n",
    "    numSeries.remove(num)\n",
    "permute"
   ]
  },
  {
   "cell_type": "code",
   "execution_count": 23,
   "metadata": {},
   "outputs": [
    {
     "data": {
      "text/plain": [
       "True"
      ]
     },
     "execution_count": 23,
     "metadata": {},
     "output_type": "execute_result"
    },
    {
     "data": {
      "text/plain": [
       "False"
      ]
     },
     "execution_count": 23,
     "metadata": {},
     "output_type": "execute_result"
    }
   ],
   "source": [
    "import math\n",
    "def checkSquareNumber(num):\n",
    "    return num == math.isqrt(num)**2\n",
    "checkSquareNumber(9)\n",
    "checkSquareNumber(10)"
   ]
  },
  {
   "cell_type": "markdown",
   "metadata": {},
   "source": [
    "hàm `math.floor(num)` (sàn nhà) là hàm lấy cận dưới  \n",
    "hàm `math.ceil(num)` (trần nhà) là hàm lấy cận trên"
   ]
  },
  {
   "cell_type": "code",
   "execution_count": 41,
   "metadata": {},
   "outputs": [
    {
     "name": "stdout",
     "output_type": "stream",
     "text": [
      "Number: 850 | Prime: False\n",
      "Number: 118 | Prime: False\n",
      "Number: 397 | Prime: True\n",
      "Number: 188 | Prime: False\n",
      "Number: 575 | Prime: False\n",
      "Number: 194 | Prime: False\n",
      "Number: 558 | Prime: False\n",
      "Number: 295 | Prime: False\n",
      "Number: 173 | Prime: True\n",
      "Number: 192 | Prime: False\n"
     ]
    }
   ],
   "source": [
    "from math import floor, sqrt\n",
    "import random\n",
    "\n",
    "def checkPrime(num):\n",
    "    #hàm kiểm tra số nguyên tố tối ưu sử dụng it phép tính chia lấy số dư nhất\n",
    "    if num < 2:\n",
    "        return False\n",
    "    elif num == 2 or num == 3:\n",
    "        return True\n",
    "    elif num % 2 == 0 or num % 3 == 0:\n",
    "        return False\n",
    "    for i in range(5,floor(sqrt(num)),6):\n",
    "        if num % i == 0 or num % (i + 1) == 0:\n",
    "            return False\n",
    "    return True\n",
    "\n",
    "for i in range(10):\n",
    "    n = random.randint(1,1000)\n",
    "    print('Number: {:3} | Prime: {}'.format(n,checkPrime(n)))"
   ]
  },
  {
   "cell_type": "code",
   "execution_count": 37,
   "metadata": {},
   "outputs": [
    {
     "name": "stdout",
     "output_type": "stream",
     "text": [
      "2 3 5 7 11 13 17 19 23 29 31 37 41 43 47 53 59 61 67 71 73 79 83 89 97 "
     ]
    }
   ],
   "source": [
    "#hàm sinh generator trả lại dãy các số nguyên tố không vượt quá số tự nhiên n\n",
    "from math import floor, sqrt\n",
    "import random\n",
    "\n",
    "def checkPrime(num):\n",
    "    #hàm kiểm tra số nguyên tố tối ưu sử dụng it phép tính chia lấy số dư nhất\n",
    "    if num < 2:\n",
    "        return False\n",
    "    elif num == 2 or num == 3:\n",
    "        return True\n",
    "    elif num % 2 == 0 or num % 3 == 0:\n",
    "        return False\n",
    "    for i in range(5,floor(sqrt(num)+1),6):\n",
    "        if num % i == 0 or num % (i + 2) == 0:\n",
    "            return False\n",
    "    return True\n",
    "\n",
    "def PrimeNumSeries(n):\n",
    "    for i in range(2,n):\n",
    "        if checkPrime(i):\n",
    "            yield i\n",
    "\n",
    "G = PrimeNumSeries(100)\n",
    "for i in G:\n",
    "    print(i,end = ' ')\n"
   ]
  },
  {
   "cell_type": "code",
   "execution_count": 48,
   "metadata": {},
   "outputs": [
    {
     "data": {
      "text/plain": [
       "4.5"
      ]
     },
     "execution_count": 48,
     "metadata": {},
     "output_type": "execute_result"
    },
    {
     "data": {
      "text/plain": [
       "345.667521307285"
      ]
     },
     "execution_count": 48,
     "metadata": {},
     "output_type": "execute_result"
    },
    {
     "data": {
      "text/plain": [
       "75.39822368615503"
      ]
     },
     "execution_count": 48,
     "metadata": {},
     "output_type": "execute_result"
    },
    {
     "data": {
      "text/plain": [
       "21.991148575128552"
      ]
     },
     "execution_count": 48,
     "metadata": {},
     "output_type": "execute_result"
    },
    {
     "data": {
      "text/plain": [
       "452.3893421169302"
      ]
     },
     "execution_count": 48,
     "metadata": {},
     "output_type": "execute_result"
    },
    {
     "data": {
      "text/plain": [
       "38.48451000647496"
      ]
     },
     "execution_count": 48,
     "metadata": {},
     "output_type": "execute_result"
    }
   ],
   "source": [
    "import math\n",
    "\n",
    "def AreaTriangle(a,b,alpha):\n",
    "    return (a * b * math.sin((alpha/180)*math.pi))/2\n",
    "def PerimeterCircle(radius):\n",
    "    return 2 * radius * math.pi\n",
    "def AreaCircle(radius):\n",
    "    return radius * radius * math.pi\n",
    "\n",
    "AreaTriangle(3,3,90)\n",
    "AreaTriangle(13,54,80)\n",
    "PerimeterCircle(12)\n",
    "PerimeterCircle(3.5)\n",
    "AreaCircle(12)\n",
    "AreaCircle(3.5)"
   ]
  }
 ],
 "metadata": {
  "kernelspec": {
   "display_name": "Python 3",
   "language": "python",
   "name": "python3"
  },
  "language_info": {
   "codemirror_mode": {
    "name": "ipython",
    "version": 3
   },
   "file_extension": ".py",
   "mimetype": "text/x-python",
   "name": "python",
   "nbconvert_exporter": "python",
   "pygments_lexer": "ipython3",
   "version": "3.9.10"
  }
 },
 "nbformat": 4,
 "nbformat_minor": 2
}
