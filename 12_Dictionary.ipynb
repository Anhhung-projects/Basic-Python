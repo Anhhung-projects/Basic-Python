{
 "cells": [
  {
   "cell_type": "markdown",
   "metadata": {},
   "source": [
    "# Kiểu dữ liệu từ điển\n",
    "## Nội dung bài học\n",
    "### Preview\n",
    "- *Ôn lại:* Kiểu list và tuple\n",
    "    - Kiểu container - thùng dữ liệu, không phải kiểu dữ liệu đơn giản\n",
    "    - Iterable - kiểu tuần tự: sắp xếp theo thứ tự, có chỉ số (bắt đầu từ 0), truy cập từng hoặc một vùng dữ liệu\n",
    "\n",
    "- **Kiểu dữ liệu từ điển:** không tuần tự, không là dãy và có cấu trúc dạng *khóa-giá trị*. Mỗi dữ liệu gồm các khóa, mỗi khóa ứng với 1 giá trị tương ứng."
   ]
  },
  {
   "cell_type": "code",
   "execution_count": 1,
   "metadata": {},
   "outputs": [
    {
     "data": {
      "text/plain": [
       "'John'"
      ]
     },
     "execution_count": 1,
     "metadata": {},
     "output_type": "execute_result"
    }
   ],
   "source": [
    "d = {}\n",
    "student = {'name':'John', 'class':'9A', 'street':'Zhongli street'}\n",
    "type(d)\n",
    "student\n",
    "student['name'] # truy cập giá trị của một khóa"
   ]
  },
  {
   "cell_type": "markdown",
   "metadata": {},
   "source": [
    "- Thiết lập từ điển theo cách khác. Có thể nhập dữ liệu cho từng khóa từ 1 từ điển rỗng hoặc 1 từ điển đã có các khóa trước đó."
   ]
  },
  {
   "cell_type": "code",
   "execution_count": 2,
   "metadata": {},
   "outputs": [
    {
     "data": {
      "text/plain": [
       "{'ten': 'Hung', 'GPA': 3.2}"
      ]
     },
     "execution_count": 2,
     "metadata": {},
     "output_type": "execute_result"
    }
   ],
   "source": [
    "student = {}\n",
    "student['math'] = 9.5\n",
    "student['chemistry'] = 7.1\n",
    "student['literture'] = 7.9\n",
    "student['biology'] = 10\n",
    "student\n",
    "\n",
    "sv = {'ten':'Hung'}\n",
    "sv['GPA'] = 3.2\n",
    "sv"
   ]
  },
  {
   "cell_type": "markdown",
   "metadata": {},
   "source": [
    "- Kiểu dữ liệu của *khóa*: số, xâu, tuple, nhưng **không được phép là list**\n",
    "- Kiểu dữ liệu của *giá trị*: bất kì kiểu dữ liệu nào"
   ]
  },
  {
   "cell_type": "code",
   "execution_count": 3,
   "metadata": {},
   "outputs": [
    {
     "data": {
      "text/plain": [
       "['__class__',\n",
       " '__class_getitem__',\n",
       " '__contains__',\n",
       " '__delattr__',\n",
       " '__delitem__',\n",
       " '__dir__',\n",
       " '__doc__',\n",
       " '__eq__',\n",
       " '__format__',\n",
       " '__ge__',\n",
       " '__getattribute__',\n",
       " '__getitem__',\n",
       " '__gt__',\n",
       " '__hash__',\n",
       " '__init__',\n",
       " '__init_subclass__',\n",
       " '__ior__',\n",
       " '__iter__',\n",
       " '__le__',\n",
       " '__len__',\n",
       " '__lt__',\n",
       " '__ne__',\n",
       " '__new__',\n",
       " '__or__',\n",
       " '__reduce__',\n",
       " '__reduce_ex__',\n",
       " '__repr__',\n",
       " '__reversed__',\n",
       " '__ror__',\n",
       " '__setattr__',\n",
       " '__setitem__',\n",
       " '__sizeof__',\n",
       " '__str__',\n",
       " '__subclasshook__',\n",
       " 'clear',\n",
       " 'copy',\n",
       " 'fromkeys',\n",
       " 'get',\n",
       " 'items',\n",
       " 'keys',\n",
       " 'pop',\n",
       " 'popitem',\n",
       " 'setdefault',\n",
       " 'update',\n",
       " 'values']"
      ]
     },
     "execution_count": 3,
     "metadata": {},
     "output_type": "execute_result"
    }
   ],
   "source": [
    "# các phương thức của từ điển\n",
    "dir(dict)"
   ]
  },
  {
   "cell_type": "markdown",
   "metadata": {},
   "source": [
    "### 1. keys() & values()\n",
    "- có thể dùng for đề duyệt các phần tử\n",
    "- không thể truy cập bằng index, tuy nhiên có thể biến đổi bằng cách chuyển thành `list`"
   ]
  },
  {
   "cell_type": "code",
   "execution_count": 31,
   "metadata": {},
   "outputs": [],
   "source": [
    "student = {}\n",
    "student['math'] = 9.5\n",
    "student['chemistry'] = 7.1\n",
    "student['literture'] = 7.9\n",
    "student['biology'] = 10"
   ]
  },
  {
   "cell_type": "code",
   "execution_count": 5,
   "metadata": {},
   "outputs": [
    {
     "data": {
      "text/plain": [
       "dict_keys"
      ]
     },
     "execution_count": 5,
     "metadata": {},
     "output_type": "execute_result"
    }
   ],
   "source": [
    "student.keys()\n",
    "student.values()\n",
    "type(student.keys())"
   ]
  },
  {
   "cell_type": "code",
   "execution_count": 6,
   "metadata": {},
   "outputs": [
    {
     "name": "stdout",
     "output_type": "stream",
     "text": [
      "math, chemistry, literture, biology, \n",
      "9.5, 7.1, 7.9, 10, "
     ]
    }
   ],
   "source": [
    "for supject in student.keys(): #có thể không cần gọi (method) keys()\n",
    "    print(supject, end=', ')\n",
    "print()\n",
    "for score in student.values():\n",
    "    print(score, end=', ')"
   ]
  },
  {
   "cell_type": "code",
   "execution_count": 7,
   "metadata": {},
   "outputs": [
    {
     "data": {
      "text/plain": [
       "'literture'"
      ]
     },
     "execution_count": 7,
     "metadata": {},
     "output_type": "execute_result"
    }
   ],
   "source": [
    "list(student.keys())[2]"
   ]
  },
  {
   "cell_type": "code",
   "execution_count": 8,
   "metadata": {},
   "outputs": [
    {
     "name": "stdout",
     "output_type": "stream",
     "text": [
      " Subject  | Score\n",
      "----------|------\n",
      " biology  |    10\n",
      "chemistry |   7.1\n",
      "literture |   7.9\n",
      "   math   |   9.5\n"
     ]
    }
   ],
   "source": [
    "# bảng điển, được sắp xếp theo tên môn học\n",
    "print('{:^10}|{:>6}'.format('Subject', 'Score'))\n",
    "print('-'*10 + '|' + '-'*6)\n",
    "for key in sorted(student): #sorted theo key của student\n",
    "    print(f'{key:^10}|{student[key]:>6}')"
   ]
  },
  {
   "cell_type": "markdown",
   "metadata": {},
   "source": [
    "### 2. items()\n",
    "- Tương tự với method `keys()` và `values()`\n",
    "- Khác ở chỗ duyệt đồng thời cả key và value."
   ]
  },
  {
   "cell_type": "code",
   "execution_count": 10,
   "metadata": {},
   "outputs": [
    {
     "name": "stdout",
     "output_type": "stream",
     "text": [
      "math 9.5\n",
      "chemistry 7.1\n",
      "literture 7.9\n",
      "biology 10\n"
     ]
    }
   ],
   "source": [
    "for subject, score in student.items():\n",
    "    print(subject, score)"
   ]
  },
  {
   "cell_type": "markdown",
   "metadata": {},
   "source": [
    "### 3. update()\n",
    "- Như tên gọi, method `update()` có chức năng cập nhật dữ liệu."
   ]
  },
  {
   "cell_type": "code",
   "execution_count": 37,
   "metadata": {},
   "outputs": [
    {
     "data": {
      "text/plain": [
       "{'math': 9.5, 'chemistry': 7.1, 'literture': 7.9, 'biology': 10}"
      ]
     },
     "execution_count": 37,
     "metadata": {},
     "output_type": "execute_result"
    },
    {
     "data": {
      "text/plain": [
       "{'math': 10, 'chemistry': 7.1, 'literture': 7.9, 'biology': 10}"
      ]
     },
     "execution_count": 37,
     "metadata": {},
     "output_type": "execute_result"
    },
    {
     "data": {
      "text/plain": [
       "{'math': 8.2,\n",
       " 'chemistry': 7.1,\n",
       " 'literture': 7.9,\n",
       " 'biology': 10,\n",
       " 'physical': 'good'}"
      ]
     },
     "execution_count": 37,
     "metadata": {},
     "output_type": "execute_result"
    },
    {
     "data": {
      "text/plain": [
       "{'math': 8.2,\n",
       " 'chemistry': 7.1,\n",
       " 'literture': 7.9,\n",
       " 'biology': 10,\n",
       " 'physical': 'good',\n",
       " 'avg': 8.3}"
      ]
     },
     "execution_count": 37,
     "metadata": {},
     "output_type": "execute_result"
    }
   ],
   "source": [
    "student = {}\n",
    "student['math'] = 9.5\n",
    "student['chemistry'] = 7.1\n",
    "student['literture'] = 7.9\n",
    "student['biology'] = 10\n",
    "\n",
    "# cập nhật với key giống với từ điển\n",
    "student\n",
    "t1 = {'math':10, 'biology':10}\n",
    "student.update(t1)\n",
    "student\n",
    "\n",
    "# cập nhật với key giống một phần từ điển\n",
    "t2 = {'math':8.2, 'physical':'good'}\n",
    "student.update(t2)\n",
    "student\n",
    "\n",
    "avg = sum(list(student.values())[:-1])/4\n",
    "#cập nhật với key ngoài từ điển\n",
    "t3 = {'avg':avg}\n",
    "student.update(t3)\n",
    "student"
   ]
  },
  {
   "cell_type": "markdown",
   "metadata": {},
   "source": [
    "### 4. get()\n",
    "- Khi trực tiếp gọi một key không nằm trong từ điển, chương trình sẽ báo lỗi\n",
    "- Method `get()` được gọi trực tiếp vói tham số là khóa thì sẽ có tác dụng như truy cập trực tiếp.\n",
    "- Nếu nhập khóa sai thì sẽ không báo lỗi mà trả về `None`\n",
    "\n",
    "```python\n",
    ">>> student = {}\n",
    ">>> student['math'] = 9.5\n",
    ">>> student['chemistry'] = 7.1\n",
    ">>> student['literture'] = 7.9\n",
    ">>> student['biology'] = 10\n",
    ">>> student['physical']\n",
    "KeyError                                  Traceback (most recent call last)\n",
    "Cell In[38], line 7\n",
    "      4 student['literture'] = 7.9\n",
    "      5 student['biology'] = 10\n",
    "----> 7 student['physical']\n",
    "\n",
    "KeyError: 'physical'"
   ]
  },
  {
   "cell_type": "code",
   "execution_count": 51,
   "metadata": {},
   "outputs": [
    {
     "data": {
      "text/plain": [
       "9.5"
      ]
     },
     "execution_count": 51,
     "metadata": {},
     "output_type": "execute_result"
    },
    {
     "data": {
      "text/plain": [
       "NoneType"
      ]
     },
     "execution_count": 51,
     "metadata": {},
     "output_type": "execute_result"
    }
   ],
   "source": [
    "student = {}\n",
    "student['math'] = 9.5\n",
    "student['chemistry'] = 7.1\n",
    "student['literature'] = 7.9\n",
    "student['biology'] = 10\n",
    "\n",
    "student.get('math')\n",
    "student.get('physical')\n",
    "type(student.get('physical'))\n"
   ]
  },
  {
   "cell_type": "markdown",
   "metadata": {},
   "source": [
    "- Dạng đầy đủ các tham số `get(key, default)`"
   ]
  },
  {
   "cell_type": "code",
   "execution_count": 44,
   "metadata": {},
   "outputs": [
    {
     "data": {
      "text/plain": [
       "'NaN'"
      ]
     },
     "execution_count": 44,
     "metadata": {},
     "output_type": "execute_result"
    }
   ],
   "source": [
    "student.get('physical','NaN')"
   ]
  },
  {
   "cell_type": "code",
   "execution_count": 56,
   "metadata": {},
   "outputs": [
    {
     "name": "stdout",
     "output_type": "stream",
     "text": [
      " Subject  | Score\n",
      "----------|------\n",
      "   math   |   9.5\n",
      "literature|   7.9\n",
      " biology  |    10\n",
      "technology|   NaN\n",
      " history  |   NaN\n",
      "chemistry |   7.1\n"
     ]
    }
   ],
   "source": [
    "print('{:^10}|{:>6}'.format('Subject', 'Score'))\n",
    "print('-'*10 + '|' + '-'*6)\n",
    "sub_list = ['math', 'literature', 'biology', 'technology', 'history', 'chemistry']\n",
    "nan = 'NaN'\n",
    "for key in sub_list:\n",
    "    print(f'{key:^10}|{student.get(key,nan):>6}')"
   ]
  },
  {
   "cell_type": "markdown",
   "metadata": {},
   "source": [
    "### 5. Xóa key và value trong từ điển"
   ]
  },
  {
   "cell_type": "code",
   "execution_count": 59,
   "metadata": {},
   "outputs": [
    {
     "data": {
      "text/plain": [
       "{'chemistry': 7.1, 'literature': 7.9, 'biology': 10}"
      ]
     },
     "execution_count": 59,
     "metadata": {},
     "output_type": "execute_result"
    },
    {
     "data": {
      "text/plain": [
       "{}"
      ]
     },
     "execution_count": 59,
     "metadata": {},
     "output_type": "execute_result"
    }
   ],
   "source": [
    "student = {}\n",
    "student['math'] = 9.5\n",
    "student['chemistry'] = 7.1\n",
    "student['literature'] = 7.9\n",
    "student['biology'] = 10\n",
    "\n",
    "# xóa theo key\n",
    "del student['math']\n",
    "student\n",
    "\n",
    "# xóa toàn bộ\n",
    "student.clear()\n",
    "student"
   ]
  },
  {
   "cell_type": "markdown",
   "metadata": {},
   "source": [
    "### 6. Chi tiết toàn bộ method trong Từ điển"
   ]
  },
  {
   "cell_type": "markdown",
   "metadata": {},
   "source": [
    "dir(dict)"
   ]
  },
  {
   "cell_type": "code",
   "execution_count": 64,
   "metadata": {},
   "outputs": [
    {
     "data": {
      "text/plain": [
       "['clear',\n",
       " 'copy',\n",
       " 'fromkeys',\n",
       " 'get',\n",
       " 'items',\n",
       " 'keys',\n",
       " 'pop',\n",
       " 'popitem',\n",
       " 'setdefault',\n",
       " 'update',\n",
       " 'values']"
      ]
     },
     "execution_count": 64,
     "metadata": {},
     "output_type": "execute_result"
    }
   ],
   "source": [
    "dir(dict)[34:]"
   ]
  },
  {
   "cell_type": "markdown",
   "metadata": {},
   "source": [
    "|method|function|\n",
    "|-|-|\n",
    "|`clear()`|Xóa các mục tròn từ điển, làm cho nó rỗng|\n",
    "|`copy()`|Trả về một bản sao nông (*shallow copy*) của từ điển|\n",
    "|`fromkeys(iterable, default)`|Tạo một từ điển mới với các key trong `iterable` và value là `default`, mặc định là `None`|\n",
    "|`get(key,default)`|Trả về value của key, nếu key không tồn lại, trả về `default`|\n",
    "|`items()`|Trả về danh sách cặp `(key, value)` của từ điển dưới dạng `dict_items`, đối tượng này không subcriptabe, có thể chuyển sang `tuple` nếu cần truy cập theo chỉ số|\n",
    "|`keys()`|trả về danh sách các key của từ điển dưới dạng `dict_keys` - not subcriptable|\n",
    "|`pop(key, default)`|lấy ra value của `key`, đồng thời xóa cặp `(key, value)` này ra khỏi từ điển, nếu không có `key` trong từ điển thì trả về `default`; Nếu không có `key` và không truyền tham số cho `default`, gây lỗi `KeyError`|\n",
    "|`popitem()`|lấy ra cặp (key,value) cuối cùng của từ điển, đồng thời xóa cặp này ra khỏi từ điển|\n",
    "|`setdefault(key, default)`|TH1: `key` có trong từ điển thì trả về value hiện tại ứng với `key`; TH2: `key` không có trong từ điển thì trả về `default`, đồng thời thêm cặp `(key, default)` vào từ điển|\n",
    "|`update(other_dict)`|Cập nhật từ điển, nếu key trong `other_dict` có trong từ điển thì tiến hành cập nhật giá trị tương ứng, nếu key không có trong `other_dict` thì thêm mới|\n",
    "|`values()`|trả về danh sách các values của từ điển dưới dạng `dict_values` - not subcriptable|"
   ]
  },
  {
   "cell_type": "markdown",
   "metadata": {},
   "source": [
    "### 7. Ứng dụng kiểu dữ liệu từ điển\n",
    "- Bài toán: Đếm số từ lặp lại của các từ đơn trong một văn bản bất kì"
   ]
  },
  {
   "cell_type": "code",
   "execution_count": 3,
   "metadata": {},
   "outputs": [
    {
     "data": {
      "text/plain": [
       "{'This': 1,\n",
       " 'may': 1,\n",
       " 'seem': 1,\n",
       " 'extremely': 1,\n",
       " 'limiting,': 1,\n",
       " 'but': 1,\n",
       " 'a': 3,\n",
       " 'single': 2,\n",
       " 'bit': 2,\n",
       " 'is': 2,\n",
       " 'enough': 1,\n",
       " 'to': 4,\n",
       " 'represent': 1,\n",
       " 'whether': 2,\n",
       " 'the': 2,\n",
       " 'answer': 1,\n",
       " 'question': 1,\n",
       " 'yes': 1,\n",
       " 'or': 3,\n",
       " 'no': 1,\n",
       " 'can': 1,\n",
       " 'be': 1,\n",
       " 'used': 1,\n",
       " 'tell': 1,\n",
       " 'us': 1,\n",
       " 'logical': 1,\n",
       " 'statement': 1,\n",
       " 'evaluates': 1,\n",
       " 'either': 1,\n",
       " 'true': 1,\n",
       " 'false': 1}"
      ]
     },
     "execution_count": 3,
     "metadata": {},
     "output_type": "execute_result"
    }
   ],
   "source": [
    "paragraph = \"This may seem extremely limiting, but a single bit is enough to represent whether the answer to the question is yes or no or a single bit can be used to tell us whether a logical statement evaluates to either true or false\"\n",
    "\n",
    "arr = paragraph.split()\n",
    "\n",
    "d = {}\n",
    "for word in arr:\n",
    "    d[word] = d.get(word,0) + 1\n",
    "    \n",
    "d"
   ]
  },
  {
   "cell_type": "markdown",
   "metadata": {},
   "source": [
    "## Bài tập"
   ]
  },
  {
   "cell_type": "code",
   "execution_count": 6,
   "metadata": {},
   "outputs": [
    {
     "data": {
      "text/plain": [
       "{2: 'nin', 1: 'Ha'}"
      ]
     },
     "execution_count": 6,
     "metadata": {},
     "output_type": "execute_result"
    }
   ],
   "source": [
    "#1\n",
    "d = {2:'nin'}\n",
    "\n",
    "d[1] = 'Ha'\n",
    "d"
   ]
  },
  {
   "cell_type": "code",
   "execution_count": 9,
   "metadata": {},
   "outputs": [
    {
     "data": {
      "text/plain": [
       "['start', 2, 3]"
      ]
     },
     "execution_count": 9,
     "metadata": {},
     "output_type": "execute_result"
    }
   ],
   "source": [
    "#2\n",
    "d = {'start':'ni', 2:'na', 3:'nin'}\n",
    "list(d)"
   ]
  },
  {
   "cell_type": "code",
   "execution_count": 11,
   "metadata": {},
   "outputs": [],
   "source": [
    "#3\n",
    "# d = {1:'Binh', 2:'Thuan', 3:'Quang'}\n",
    "# d['Quang'] \n",
    "# chương trình xảy ra lỗi: \n",
    "# KeyError: 'Quang'"
   ]
  },
  {
   "cell_type": "code",
   "execution_count": 13,
   "metadata": {},
   "outputs": [],
   "source": [
    "#4\n",
    "d = {1:'Binh', 2:'Thuan', 3:'Quang'}\n",
    "d.get(0)"
   ]
  },
  {
   "cell_type": "code",
   "execution_count": 14,
   "metadata": {},
   "outputs": [
    {
     "data": {
      "text/plain": [
       "'Ha'"
      ]
     },
     "execution_count": 14,
     "metadata": {},
     "output_type": "execute_result"
    }
   ],
   "source": [
    "#5\n",
    "d = {1:'Binh', 2:'Thuan', 3:'Quang'}\n",
    "d.get(0,'Ha')"
   ]
  },
  {
   "cell_type": "code",
   "execution_count": 19,
   "metadata": {},
   "outputs": [
    {
     "data": {
      "text/plain": [
       "{'Nguyen Hoa Binh': 9.5,\n",
       " 'Bui Viet Ha': 8.0,\n",
       " 'Pham Quang Vinh': 7.5,\n",
       " 'Nguyen Thi Hoa': 10.0,\n",
       " 'Truong Van Quang': 8.5}"
      ]
     },
     "execution_count": 19,
     "metadata": {},
     "output_type": "execute_result"
    }
   ],
   "source": [
    "#6\n",
    "f = open('./data file/c12_q6.dat','w')\n",
    "print('5',file=f)\n",
    "print('Nguyen Hoa Binh, 9.5', file=f)\n",
    "print('Bui Viet Ha, 8', file=f)\n",
    "print('Pham Quang Vinh, 7.5', file=f)\n",
    "print('Nguyen Thi Hoa, 10', file=f)\n",
    "print('Truong Van Quang, 8.5', file=f)\n",
    "f.close()\n",
    "\n",
    "f = open('./data file/c12_q6.dat','r')\n",
    "student = {}\n",
    "num = int(f.readline())\n",
    "for i in range(5):\n",
    "    name, score = f.readline().split(', ')\n",
    "    student[name] = float(score)\n",
    "\n",
    "student"
   ]
  },
  {
   "cell_type": "code",
   "execution_count": 22,
   "metadata": {},
   "outputs": [
    {
     "name": "stdout",
     "output_type": "stream",
     "text": [
      "1 2 3 \n",
      "a b c "
     ]
    }
   ],
   "source": [
    "#7 and 8\n",
    "dic = {'b':2, 'c':3, 'a':1}\n",
    "for x in sorted(dic):\n",
    "    print(dic[x], end=' ')\n",
    "\n",
    "print()\n",
    "for x in sorted(dic):\n",
    "    print(x, end=' ')"
   ]
  },
  {
   "cell_type": "code",
   "execution_count": 29,
   "metadata": {},
   "outputs": [
    {
     "data": {
      "text/plain": [
       "False"
      ]
     },
     "execution_count": 29,
     "metadata": {},
     "output_type": "execute_result"
    },
    {
     "data": {
      "text/plain": [
       "False"
      ]
     },
     "execution_count": 29,
     "metadata": {},
     "output_type": "execute_result"
    },
    {
     "data": {
      "text/plain": [
       "True"
      ]
     },
     "execution_count": 29,
     "metadata": {},
     "output_type": "execute_result"
    }
   ],
   "source": [
    "# 9 and 10\n",
    "dic = {1:'a', 2:'b', 4:'d', 10:'k'}\n",
    "b = 0 in dic\n",
    "b\n",
    "c = 'a' in dic\n",
    "c\n",
    "d = 'b' in dic.values()\n",
    "d"
   ]
  },
  {
   "cell_type": "markdown",
   "metadata": {},
   "source": [
    "Giải thích\n",
    "- `dic` ở đây mặc định hiểu là `dic.keys()`\n",
    "- Đồng nghĩa với câu lệnh trên sẽ kiểm tra `0 in {1,2,4,10}`"
   ]
  },
  {
   "cell_type": "code",
   "execution_count": 4,
   "metadata": {},
   "outputs": [
    {
     "name": "stdout",
     "output_type": "stream",
     "text": [
      "Đã cập thông tin điểm của học sinh này\n"
     ]
    },
    {
     "data": {
      "text/plain": [
       "{'Bui Viet Ha': 8, 'Nguyen Thanh Binh': 9.5, 'Hoang Anh Hung': 10}"
      ]
     },
     "execution_count": 4,
     "metadata": {},
     "output_type": "execute_result"
    }
   ],
   "source": [
    "#12\n",
    "def update_score(name, score, dic):\n",
    "    dic.update({name: score})\n",
    "    if name not in dic:\n",
    "        print('Đã tạo mới một học sinh và nhập điểm')\n",
    "    else:\n",
    "        print('Đã cập thông tin điểm của học sinh này')\n",
    "   \n",
    "    \n",
    "dic = {\"Bui Viet Ha\":8, \"Nguyen Thanh Binh\":9.5}\n",
    "name = input(\"Name:\")\n",
    "score = int(input(\"Score:\"))\n",
    "update_score(name, score, dic)\n",
    "dic\n"
   ]
  },
  {
   "cell_type": "code",
   "execution_count": 16,
   "metadata": {},
   "outputs": [
    {
     "name": "stdout",
     "output_type": "stream",
     "text": [
      "Đã cập nhật lại điểm cho học sinh trong danh sách.\n"
     ]
    },
    {
     "data": {
      "text/plain": [
       "{'Ha': [7, 9.5], 'Binh': [10, 8], 'Hoa': [5.5, 9], 'Hung': [4, 9]}"
      ]
     },
     "execution_count": 16,
     "metadata": {},
     "output_type": "execute_result"
    }
   ],
   "source": [
    "#13\n",
    "def update_score_2(name, score, dic):\n",
    "    dic.update({name: score})\n",
    "    if name not in dic:\n",
    "        print('Đã nhập điểm cho học sinh mới.')\n",
    "    else:\n",
    "        print('Đã cập nhật lại điểm cho học sinh trong danh sách.')\n",
    "\n",
    "D = {'Ha': [7, 9.5], 'Binh': [10, 8], 'Hoa': [5.5, 9]}\n",
    "name = input(\"Name:\")\n",
    "score = list(map(int,input(\"Score:\").split(',')))\n",
    "update_score_2(name, score, D)\n",
    "D"
   ]
  },
  {
   "cell_type": "code",
   "execution_count": 18,
   "metadata": {},
   "outputs": [
    {
     "name": "stdout",
     "output_type": "stream",
     "text": [
      "Điểm trung bình:\n",
      "Ha: 8.25\n",
      "Binh: 9.0\n",
      "Hoa: 7.25\n"
     ]
    }
   ],
   "source": [
    "#13\n",
    "def avg(literal):\n",
    "    return sum(literal)/len(literal)\n",
    "\n",
    "def print_avg(dic):\n",
    "    print('Điểm trung bình:')\n",
    "    for name, score in dic.items():\n",
    "        print(f'{name}: {avg(score)}')\n",
    "        \n",
    "D = {'Ha': [7, 9.5], 'Binh': [10, 8], 'Hoa': [5.5, 9]}\n",
    "print_avg(D)"
   ]
  },
  {
   "cell_type": "code",
   "execution_count": 22,
   "metadata": {},
   "outputs": [
    {
     "data": {
      "text/plain": [
       "['An', 'Bình', 'Hà']"
      ]
     },
     "execution_count": 22,
     "metadata": {},
     "output_type": "execute_result"
    }
   ],
   "source": [
    "D = {'Hà': [7, 9.5], 'Bình': [10, 8], 'An': [5.5, 9]}\n",
    "dic = sorted(D)\n",
    "dic"
   ]
  },
  {
   "cell_type": "code",
   "execution_count": 22,
   "metadata": {},
   "outputs": [
    {
     "data": {
      "text/plain": [
       "{'Hung': 6.5, 'Nin': 9.6, 'Anh': 5.63}"
      ]
     },
     "execution_count": 22,
     "metadata": {},
     "output_type": "execute_result"
    }
   ],
   "source": [
    "#15\n",
    "def avg(literal):\n",
    "    return round(sum(literal)/len(literal),2)\n",
    "\n",
    "Dtoan = {'Hung':9, 'Tom':7, 'Nin':8.8, 'Anh':4.6, 'Hoang':8.5}\n",
    "Dvan = {'Hung':6.5, 'Nin':10, 'Anh':9.2, 'Tom':8.3, 'Nam':10}\n",
    "Dngoaingu = {'Hung': 4, 'Nin':10, 'Hoang':7.3, 'Anh':3.1}\n",
    "Dtb = {}\n",
    "\n",
    "while Dtoan != {}:\n",
    "    name = list(Dtoan.keys())[0]\n",
    "    t,v,nn = Dtoan.pop(name,-1), Dvan.pop(name,-1), Dngoaingu.pop(name,-1)\n",
    "    if -1 in [t,v,nn]:\n",
    "        continue\n",
    "    Dtb.update({name:avg([t,v,nn])})\n",
    "    \n",
    "Dtb\n",
    "\n"
   ]
  },
  {
   "cell_type": "code",
   "execution_count": 15,
   "metadata": {},
   "outputs": [],
   "source": [
    "#Hiện input, output\n",
    "from IPython.core.interactiveshell import InteractiveShell\n",
    "InteractiveShell.ast_node_interactivity = \"all\"\n",
    "\n",
    "import builtins\n",
    "def input(prompt=''):\n",
    "    x = builtins.input(prompt)\n",
    "    print(prompt+x)\n",
    "    return x"
   ]
  }
 ],
 "metadata": {
  "kernelspec": {
   "display_name": "Python 3",
   "language": "python",
   "name": "python3"
  },
  "language_info": {
   "codemirror_mode": {
    "name": "ipython",
    "version": 3
   },
   "file_extension": ".py",
   "mimetype": "text/x-python",
   "name": "python",
   "nbconvert_exporter": "python",
   "pygments_lexer": "ipython3",
   "version": "3.9.10"
  }
 },
 "nbformat": 4,
 "nbformat_minor": 2
}
