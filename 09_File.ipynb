{
 "cells": [
  {
   "cell_type": "code",
   "execution_count": 5,
   "metadata": {},
   "outputs": [],
   "source": [
    "from IPython.core.interactiveshell import InteractiveShell\n",
    "InteractiveShell.ast_node_interactivity = \"all\"\n",
    "\n",
    "import builtins\n",
    "def input(prompt=''):\n",
    "    x = builtins.input(prompt)\n",
    "    print(prompt+x)\n",
    "    return x"
   ]
  },
  {
   "cell_type": "markdown",
   "metadata": {},
   "source": [
    "# ĐỌC VÀ GHI FILE"
   ]
  },
  {
   "cell_type": "markdown",
   "metadata": {},
   "source": [
    "## 1. Đọc thông tin từ file\n",
    "- `open(\"path\",\"r\")` mở tệp để đọc, file head ở đầu tệp, vị trí 0\n",
    "- `open(\"path\", \"w\")` mở tệp ghi\n",
    "    - nếu tệp đã tồn tại: xóa hết nội dung trong tệp, file head ở đầu tệp\n",
    "    - nếu tệp chưa tồn tại: tạo tệp văn bản rỗng và sẵn sàng cho việc ghi"
   ]
  },
  {
   "cell_type": "code",
   "execution_count": 6,
   "metadata": {},
   "outputs": [
    {
     "name": "stdout",
     "output_type": "stream",
     "text": [
      "This is plain text data file\n",
      "1 8 10 15 12\n",
      "12.4 17.99 3.27 -14.66 1.2\n",
      "\n",
      "A B C a b c\n",
      "This is the last line\n"
     ]
    }
   ],
   "source": [
    "f = open('./data file/inp.dat')\n",
    "content = f.read()\n",
    "print(content)"
   ]
  },
  {
   "cell_type": "markdown",
   "metadata": {},
   "source": [
    "- Sau khi thực hiện lệnh trên, vị trí file head ở cuối file\n",
    "- do đó lần đọc tiếp theo kết quả trả về rỗng"
   ]
  },
  {
   "cell_type": "code",
   "execution_count": 7,
   "metadata": {},
   "outputs": [
    {
     "data": {
      "text/plain": [
       "''"
      ]
     },
     "execution_count": 7,
     "metadata": {},
     "output_type": "execute_result"
    }
   ],
   "source": [
    "content = f.read()\n",
    "content"
   ]
  },
  {
   "cell_type": "markdown",
   "metadata": {},
   "source": [
    "- `tell()` chỉ ra vị trí hiện thời của file head\n",
    "    - vị trí gốc: giá trị = 0\n",
    "    - vị trí hiện thời: giá trị = số lượng byte thông tin đã đọc"
   ]
  },
  {
   "cell_type": "code",
   "execution_count": 8,
   "metadata": {},
   "outputs": [
    {
     "data": {
      "text/plain": [
       "0"
      ]
     },
     "execution_count": 8,
     "metadata": {},
     "output_type": "execute_result"
    },
    {
     "data": {
      "text/plain": [
       "108"
      ]
     },
     "execution_count": 8,
     "metadata": {},
     "output_type": "execute_result"
    }
   ],
   "source": [
    "f = open(\"./data file/inp.dat\")\n",
    "f.tell()\n",
    "all = f.read()\n",
    "f.tell()"
   ]
  },
  {
   "cell_type": "markdown",
   "metadata": {},
   "source": [
    "- `close()` đóng tệp làm việc hiện tại, cần thực hiện nếu cần thực hiện trên 1 file khác"
   ]
  },
  {
   "cell_type": "code",
   "execution_count": 9,
   "metadata": {},
   "outputs": [],
   "source": [
    "# f.close()\n",
    "# f.tell() #không thể thực hiện đọc, ghi... trên file đã đóng"
   ]
  },
  {
   "cell_type": "markdown",
   "metadata": {},
   "source": [
    "- trên thực tế, không đọc hết file trong 1 lần bằng `read()`\n",
    "- `readline()` thực hiện đọc trên từng hàng"
   ]
  },
  {
   "cell_type": "code",
   "execution_count": 10,
   "metadata": {},
   "outputs": [
    {
     "data": {
      "text/plain": [
       "'This is plain text data file\\n'"
      ]
     },
     "execution_count": 10,
     "metadata": {},
     "output_type": "execute_result"
    },
    {
     "data": {
      "text/plain": [
       "30"
      ]
     },
     "execution_count": 10,
     "metadata": {},
     "output_type": "execute_result"
    }
   ],
   "source": [
    "path = './data file/inp.dat'\n",
    "\n",
    "f = open(path, 'r') #khi mở tệp, file head = 0\n",
    "line = f.readline()\n",
    "line\n",
    "f.tell() #file head = 30"
   ]
  },
  {
   "cell_type": "code",
   "execution_count": 11,
   "metadata": {},
   "outputs": [
    {
     "data": {
      "text/plain": [
       "'1 8 10 15 12\\n'"
      ]
     },
     "execution_count": 11,
     "metadata": {},
     "output_type": "execute_result"
    },
    {
     "data": {
      "text/plain": [
       "44"
      ]
     },
     "execution_count": 11,
     "metadata": {},
     "output_type": "execute_result"
    }
   ],
   "source": [
    "line = f.readline()\n",
    "line\n",
    "f.tell()"
   ]
  },
  {
   "cell_type": "markdown",
   "metadata": {},
   "source": [
    "- một số cách đọc dữ liệu từ file theo yêu cầu đề bài"
   ]
  },
  {
   "cell_type": "code",
   "execution_count": 12,
   "metadata": {},
   "outputs": [
    {
     "data": {
      "text/plain": [
       "5"
      ]
     },
     "execution_count": 12,
     "metadata": {},
     "output_type": "execute_result"
    },
    {
     "data": {
      "text/plain": [
       "10"
      ]
     },
     "execution_count": 12,
     "metadata": {},
     "output_type": "execute_result"
    },
    {
     "data": {
      "text/plain": [
       "20"
      ]
     },
     "execution_count": 12,
     "metadata": {},
     "output_type": "execute_result"
    }
   ],
   "source": [
    "#file gồm 1 dòng chứa nhiều số, cách nhau bởi space\n",
    "f = open('./data file/line2num.dat', 'w')\n",
    "f.write('10 20')\n",
    "f.close()\n",
    "\n",
    "f = open('./data file/line2num.dat', 'r')\n",
    "line = f.readline()\n",
    "arr = line.split(' ')\n",
    "m, n = int(arr[0]), int(arr[1])\n",
    "m\n",
    "n\n"
   ]
  },
  {
   "cell_type": "code",
   "execution_count": 13,
   "metadata": {},
   "outputs": [
    {
     "data": {
      "text/plain": [
       "9"
      ]
     },
     "execution_count": 13,
     "metadata": {},
     "output_type": "execute_result"
    }
   ],
   "source": [
    "#file gồm nhiều dòng, mỗi dòng 1 số\n",
    "f = open('./data file/manylines.dat', 'w')\n",
    "f.write('10\\n20\\n30\\n')\n",
    "f.close()"
   ]
  },
  {
   "cell_type": "code",
   "execution_count": 14,
   "metadata": {},
   "outputs": [
    {
     "data": {
      "text/plain": [
       "(10, 20, 30)"
      ]
     },
     "execution_count": 14,
     "metadata": {},
     "output_type": "execute_result"
    }
   ],
   "source": [
    "f = open('./data file/manylines.dat', 'r')\n",
    "line = f.readline()\n",
    "a = int(line)\n",
    "line = f.readline()\n",
    "b = int(line)\n",
    "line = f.readline()\n",
    "c = int(line)\n",
    "a,b,c\n"
   ]
  },
  {
   "cell_type": "markdown",
   "metadata": {},
   "source": [
    "- `readlines()` đọc toàn bộ file, trả về list các dòng"
   ]
  },
  {
   "cell_type": "code",
   "execution_count": 15,
   "metadata": {},
   "outputs": [
    {
     "data": {
      "text/plain": [
       "['This is plain text data file\\n',\n",
       " '1 8 10 15 12\\n',\n",
       " '12.4 17.99 3.27 -14.66 1.2\\n',\n",
       " '\\n',\n",
       " 'A B C a b c\\n',\n",
       " 'This is the last line']"
      ]
     },
     "execution_count": 15,
     "metadata": {},
     "output_type": "execute_result"
    },
    {
     "name": "stdout",
     "output_type": "stream",
     "text": [
      "This is plain text data file\n",
      "1 8 10 15 12\n",
      "12.4 17.99 3.27 -14.66 1.2\n",
      "\n",
      "A B C a b c\n",
      "This is the last line"
     ]
    }
   ],
   "source": [
    "f = open(path, 'r')\n",
    "data = f.readlines()\n",
    "data\n",
    "for line in data:\n",
    "    print(line, end='')\n",
    "f.close()"
   ]
  },
  {
   "cell_type": "code",
   "execution_count": 16,
   "metadata": {},
   "outputs": [
    {
     "name": "stdout",
     "output_type": "stream",
     "text": [
      "This is plain text data file\n",
      "1 8 10 15 12\n",
      "12.4 17.99 3.27 -14.66 1.2\n",
      "\n",
      "A B C a b c\n",
      "This is the last line"
     ]
    }
   ],
   "source": [
    "f = open(path, 'r')\n",
    "for line in f:\n",
    "    print(line, end='')\n",
    "f.close()"
   ]
  },
  {
   "cell_type": "markdown",
   "metadata": {},
   "source": [
    "## 2. Ghi trong file"
   ]
  },
  {
   "cell_type": "markdown",
   "metadata": {},
   "source": [
    "- `write()` một tham số duy nhất là xâu kí tự, sẽ ghi xâu ra file đang mở tại vị trí file head\n",
    "    - lệnh `write()` không tự chèn thêm xuống dòng"
   ]
  },
  {
   "cell_type": "code",
   "execution_count": 17,
   "metadata": {},
   "outputs": [],
   "source": [
    "def show_file(path):\n",
    "    \"\"\"Hiển thị nội dung file\\n\n",
    "    `path` đường dẫn đến file cần đọc\\n\n",
    "    `data=False` mặc định hiển thị nội dung, `True` nếu hiển thị dạng lưu trữ trong biến\"\"\"\n",
    "    file = open(path,'r')\n",
    "    data = file.read()\n",
    "    print(data)\n",
    "    file.close()"
   ]
  },
  {
   "cell_type": "code",
   "execution_count": 18,
   "metadata": {},
   "outputs": [
    {
     "data": {
      "text/plain": [
       "15"
      ]
     },
     "execution_count": 18,
     "metadata": {},
     "output_type": "execute_result"
    },
    {
     "data": {
      "text/plain": [
       "11"
      ]
     },
     "execution_count": 18,
     "metadata": {},
     "output_type": "execute_result"
    },
    {
     "data": {
      "text/plain": [
       "14"
      ]
     },
     "execution_count": 18,
     "metadata": {},
     "output_type": "execute_result"
    }
   ],
   "source": [
    "wf_path = './data file/out.dat'\n",
    "file = open(wf_path, 'w')\n",
    "msg1 = 'The first line.'\n",
    "msg2 = '12 6.7 3.14'\n",
    "msg3 = 'The last line.'\n",
    "file.write(msg1)\n",
    "file.write(msg2)\n",
    "file.write(msg3)\n"
   ]
  },
  {
   "cell_type": "code",
   "execution_count": 19,
   "metadata": {},
   "outputs": [
    {
     "name": "stdout",
     "output_type": "stream",
     "text": [
      "\n"
     ]
    }
   ],
   "source": [
    "show_file(wf_path)"
   ]
  },
  {
   "cell_type": "code",
   "execution_count": 20,
   "metadata": {},
   "outputs": [
    {
     "data": {
      "text/plain": [
       "16"
      ]
     },
     "execution_count": 20,
     "metadata": {},
     "output_type": "execute_result"
    },
    {
     "data": {
      "text/plain": [
       "12"
      ]
     },
     "execution_count": 20,
     "metadata": {},
     "output_type": "execute_result"
    },
    {
     "data": {
      "text/plain": [
       "15"
      ]
     },
     "execution_count": 20,
     "metadata": {},
     "output_type": "execute_result"
    },
    {
     "name": "stdout",
     "output_type": "stream",
     "text": [
      "The first line.\n",
      "12 6.7 3.14\n",
      "The last line.\n",
      "\n"
     ]
    }
   ],
   "source": [
    "file = open(wf_path, 'w')\n",
    "msg1 = 'The first line.\\n'\n",
    "msg2 = '12 6.7 3.14\\n'\n",
    "msg3 = 'The last line.\\n'\n",
    "file.write(msg1)\n",
    "file.write(msg2)\n",
    "file.write(msg3)\n",
    "file.close()\n",
    "show_file(wf_path)\n"
   ]
  },
  {
   "cell_type": "markdown",
   "metadata": {},
   "source": [
    "- `print()` ghi thông tin ra tệp, thêm tham số file = đối tượng file\n",
    "    - mặc định `print()` sẽ chèn xuống dòng ở cuối lệnh, space giữa mỗi đối tượng. thay đổi bằng tham số `sep` và `end`\n",
    "    - **Chú ý:** `print()` hỗ trợ nhiều tham số với nhiều kiểu dữ liệu khác nhau, khi ghi các đối tượng sẽ tự động chuyển về xâu\n",
    "    ```python\n",
    "    print(<obj1>,<obj2>,..., file=<đối tượng file>)\n",
    "    ```"
   ]
  },
  {
   "cell_type": "code",
   "execution_count": 21,
   "metadata": {},
   "outputs": [
    {
     "name": "stdout",
     "output_type": "stream",
     "text": [
      "The first line.\n",
      "12 6.7 3.14\n",
      "The last line.\n",
      "\n"
     ]
    }
   ],
   "source": [
    "f = open(wf_path, 'w')\n",
    "msg1 = 'The first line.'\n",
    "msg2 = '12 6.7 3.14'\n",
    "msg3 = 'The last line.'\n",
    "print(msg1, msg2, msg3,sep='\\n', file=f)\n",
    "f.close()\n",
    "\n",
    "show_file(wf_path)"
   ]
  },
  {
   "cell_type": "markdown",
   "metadata": {},
   "source": [
    "- `writelines()` 1 tham số duy nhất là list các xâu\n",
    "    - các phần tử của tham số lần lượt ghi vào file, không có xuống dòng giữa các phần tử"
   ]
  },
  {
   "cell_type": "code",
   "execution_count": 22,
   "metadata": {},
   "outputs": [
    {
     "name": "stdout",
     "output_type": "stream",
     "text": [
      "The first line.12 6.7 3.14The last line.\n"
     ]
    }
   ],
   "source": [
    "f = open(wf_path, 'w')\n",
    "msg1 = 'The first line.'\n",
    "msg2 = '12 6.7 3.14'\n",
    "msg3 = 'The last line.'\n",
    "arr = [msg1, msg2, msg3]\n",
    "f.writelines(arr)\n",
    "f.close()\n",
    "\n",
    "show_file(wf_path)"
   ]
  },
  {
   "cell_type": "code",
   "execution_count": 23,
   "metadata": {},
   "outputs": [
    {
     "name": "stdout",
     "output_type": "stream",
     "text": [
      "The first line.\n",
      "12 6.7 3.14\n",
      "The last line.\n",
      "\n"
     ]
    }
   ],
   "source": [
    "f = open(wf_path, 'w')\n",
    "msg1 = 'The first line.\\n'\n",
    "msg2 = '12 6.7 3.14\\n'\n",
    "msg3 = 'The last line.\\n'\n",
    "arr = [msg1, msg2, msg3]\n",
    "f.writelines(arr)\n",
    "f.close()\n",
    "\n",
    "show_file(wf_path)"
   ]
  },
  {
   "cell_type": "markdown",
   "metadata": {},
   "source": [
    "## 3. Ứng dụng xử lý file"
   ]
  },
  {
   "cell_type": "markdown",
   "metadata": {},
   "source": [
    "Viết chương trình tính ước chung lớn nhất của 2 số tự nhiên m,n và in kết quả ra tệp. Dữ liệu đầu vào gồm nhiều dòng, mỗi dòng là một bộ 2 số tự nhiên. Dữ liệu đầu ra bao gồm nhiều dòng, mỗi dòng là ước chung lớn nhất của 2 số tương ứng của tệp đầu ra.\n",
    "|input1.dat|output1.dat|\n",
    "|-|-|\n",
    "|12 3|3|\n",
    "|25 35|5|\n",
    "|40 30|10|"
   ]
  },
  {
   "cell_type": "code",
   "execution_count": 24,
   "metadata": {},
   "outputs": [],
   "source": [
    "def greatest_common_divisor(a:int,b:int) -> int:\n",
    "    \"\"\"return greatest common divisor of two intergers\"\"\"\n",
    "    while a != b:\n",
    "        if a > b: a = a - b\n",
    "        else: b = b - a\n",
    "    return a"
   ]
  },
  {
   "cell_type": "code",
   "execution_count": 25,
   "metadata": {},
   "outputs": [],
   "source": [
    "inp_path = './data file/input1.dat'\n",
    "outp_path = './data file/output1.dat'\n",
    "\n",
    "f = open(inp_path, 'w')\n",
    "print('12 3', '25 35', '40 30', sep='\\n', file=f)\n",
    "f.close()"
   ]
  },
  {
   "cell_type": "code",
   "execution_count": 26,
   "metadata": {},
   "outputs": [],
   "source": [
    "f1 = open(inp_path, 'r')\n",
    "f2 = open(outp_path, 'w')\n",
    "for line in f1:\n",
    "    a, b = line.split()\n",
    "    print(greatest_common_divisor(int(a),int(b)), file=f2)\n",
    "f1.close()\n",
    "f2.close()"
   ]
  },
  {
   "cell_type": "markdown",
   "metadata": {},
   "source": [
    "viết chương trình với đầu vào là một dãy số tự nhiên, mỗi số một hàng. với mỗi số tự nhiên, chương trình sẽ tính và in ra được dãy các ước số nguyên tố của số nãy, tính cả các số bị lặp lại. Kết quả in ra tệp văn bản với các dòng, mỗi dòng là dãy các ước số nguyên tố của số tự nhiên tương ứng trong tệp đã được đọc.\n",
    "|input2|output2|\n",
    "|-|-|\n",
    "|10|2 5|\n",
    "|24|2 2 2 3|\n",
    "|15|3 5|"
   ]
  },
  {
   "cell_type": "code",
   "execution_count": 27,
   "metadata": {},
   "outputs": [],
   "source": [
    "inp_path = './data file/input2.dat'\n",
    "outp_path = './data file/output2.dat'\n",
    "\n",
    "f = open(inp_path, 'w')\n",
    "print('10\\n24\\n15', file=f)\n",
    "f.close()"
   ]
  },
  {
   "cell_type": "code",
   "execution_count": 28,
   "metadata": {},
   "outputs": [],
   "source": [
    "def prime_check(num) -> bool:\n",
    "    \"\"\"return `True` if the number is prime, `False` otherwise\"\"\"\n",
    "    if num < 2: return False\n",
    "    if num == 2 or num == 3: return True\n",
    "    for i in range(2,int(num**0.5+1)):\n",
    "        if num % i == 0: return False\n",
    "    return True"
   ]
  },
  {
   "cell_type": "code",
   "execution_count": 29,
   "metadata": {},
   "outputs": [],
   "source": [
    "def prime_factorization(num):\n",
    "    prime = 2\n",
    "    ans = []\n",
    "    while num != 1:\n",
    "        while num % prime == 0:\n",
    "            ans.append(prime)\n",
    "            num /= prime\n",
    "        prime += 1\n",
    "    return ans"
   ]
  },
  {
   "cell_type": "code",
   "execution_count": 30,
   "metadata": {},
   "outputs": [
    {
     "name": "stdout",
     "output_type": "stream",
     "text": [
      "2 5 \n",
      "2 2 2 3 \n",
      "3 5 \n",
      "\n"
     ]
    }
   ],
   "source": [
    "f_read = open(inp_path, 'r')\n",
    "f_write = open(outp_path, 'w')\n",
    "\n",
    "for line in f_read:\n",
    "    num = eval(line)\n",
    "    arr = prime_factorization(num)\n",
    "    for i in arr:\n",
    "        print(i, end=' ', file=f_write)\n",
    "    print(file=f_write)\n",
    "\n",
    "f_write.close()\n",
    "f_read.close()\n",
    "\n",
    "show_file(outp_path)"
   ]
  },
  {
   "cell_type": "markdown",
   "metadata": {},
   "source": [
    "## BÀI TẬP\n",
    "các bài tập sẽ sử dụng tệp dl.dat:\n",
    "```data\n",
    "This is text file\n",
    "The second line\n",
    "The last\n",
    "```"
   ]
  },
  {
   "cell_type": "code",
   "execution_count": 31,
   "metadata": {},
   "outputs": [],
   "source": [
    "path = './data file/dl.dat'\n",
    "f = open(path, 'w')\n",
    "print('This is text file\\nThe second line\\nThe last', file=f)\n",
    "f.close()"
   ]
  },
  {
   "cell_type": "code",
   "execution_count": 32,
   "metadata": {},
   "outputs": [
    {
     "data": {
      "text/plain": [
       "str"
      ]
     },
     "execution_count": 32,
     "metadata": {},
     "output_type": "execute_result"
    }
   ],
   "source": [
    "#1\n",
    "f = open(path, 'r')\n",
    "text = f.read()\n",
    "type(text)\n",
    "f.close()"
   ]
  },
  {
   "cell_type": "code",
   "execution_count": 33,
   "metadata": {},
   "outputs": [
    {
     "data": {
      "text/plain": [
       "['This is text file\\n', 'The second line\\n', 'The last\\n']"
      ]
     },
     "execution_count": 33,
     "metadata": {},
     "output_type": "execute_result"
    },
    {
     "data": {
      "text/plain": [
       "list"
      ]
     },
     "execution_count": 33,
     "metadata": {},
     "output_type": "execute_result"
    }
   ],
   "source": [
    "#2\n",
    "f = open(path, 'r')\n",
    "text = f.readlines()\n",
    "text\n",
    "type(text)\n",
    "f.close()"
   ]
  },
  {
   "cell_type": "code",
   "execution_count": 34,
   "metadata": {},
   "outputs": [
    {
     "name": "stdout",
     "output_type": "stream",
     "text": [
      "This is text file\n",
      "\n",
      "The second line\n",
      "\n",
      "The last\n",
      "\n"
     ]
    }
   ],
   "source": [
    "#3\n",
    "File = open(path, 'r')\n",
    "for line in File:\n",
    "    print(line)\n",
    "File.close()"
   ]
  },
  {
   "cell_type": "code",
   "execution_count": 35,
   "metadata": {},
   "outputs": [
    {
     "name": "stdout",
     "output_type": "stream",
     "text": [
      "line 1:1\n",
      "line 2:1\n",
      "1\n",
      "[1]\n"
     ]
    }
   ],
   "source": [
    "def write_file_q4(path):\n",
    "    \"\"\"Write a file in `path`:\\n\n",
    "    line 1: one integer n\\n\n",
    "    line 2: n numbers, write separated by space\"\"\"\n",
    "    f = open(path, 'w')\n",
    "    text1 = input('line 1:')\n",
    "    text2 = input('line 2:')\n",
    "    print(text1, text2, sep='\\n', file=f)\n",
    "    f.close()\n",
    "    \n",
    "def read_file_q4(path):\n",
    "    f = open(path, 'r')\n",
    "    n = eval(f.readline())\n",
    "    arr = f.readline().split()\n",
    "    arr = list(map(int, arr))\n",
    "    print(n, arr, sep='\\n')\n",
    "    f.close()\n",
    "    return n,arr\n",
    "\n",
    "\n",
    "write_file_q4('./data file/quest4.dat')\n",
    "n, arr = read_file_q4('./data file/quest4.dat')"
   ]
  },
  {
   "cell_type": "code",
   "execution_count": 36,
   "metadata": {},
   "outputs": [
    {
     "name": "stdout",
     "output_type": "stream",
     "text": [
      "1\n",
      "1\n",
      "Done! path: ./data file/quest6_in.dat\n"
     ]
    }
   ],
   "source": [
    "#6\n",
    "#read quest6_in.dat:\n",
    "#   line 1: số tự nhiên n\n",
    "#   line 2 to n+1: mỗi dòng là 1 dãy số, số luọng phần tử mỗi dãy khác nhau\n",
    "#write ques6_out.dat\n",
    "#   line 1: tổng tất cả các số trong n dãy\n",
    "#   line 2 to n+1: mỗi dòng là tổng dãy tại vị trí tương ứng của quest6_in\n",
    "\n",
    "def write_file_q6_in(path):\n",
    "    f = open(path, 'w')\n",
    "    n = input()\n",
    "    print(n, file=f)\n",
    "    \n",
    "    for i in range(eval(n)):\n",
    "        inp = input()\n",
    "        print(inp, file=f)\n",
    "    print(f'Done! path: {path}')\n",
    "    f.close()\n",
    "    return\n",
    "    \n",
    "def read_file_q6(path):\n",
    "    f = open(path, 'r')\n",
    "    n = eval(f.readline())\n",
    "    arr = []\n",
    "    for line in f:\n",
    "        temp_arr = list(map(int,line.split()))\n",
    "        arr.append(temp_arr)\n",
    "    f.close()\n",
    "    return n, arr\n",
    "\n",
    "def write_file_q6(path, arr):\n",
    "    sum_per_arr = [0]\n",
    "    for lst in arr:\n",
    "        sum_per_arr.append(sum(lst))\n",
    "    sum_per_arr[0] = sum(sum_per_arr)\n",
    "    f = open(path, 'w')\n",
    "    \n",
    "    for val in sum_per_arr:\n",
    "        print(val, end=' ', file=f)\n",
    "        print(file=f)\n",
    "    f.close()\n",
    "    return\n",
    "    \n",
    "write_file_q6_in('./data file/quest6_in.dat')\n",
    "n, arr = read_file_q6('./data file/quest6_in.dat')\n",
    "write_file_q6('./data file/quest6_out.dat', arr)"
   ]
  },
  {
   "cell_type": "code",
   "execution_count": 37,
   "metadata": {},
   "outputs": [
    {
     "data": {
      "text/plain": [
       "[0, 0.3, 5.7, 19, -1.3, 15.56, 7.0]"
      ]
     },
     "execution_count": 37,
     "metadata": {},
     "output_type": "execute_result"
    }
   ],
   "source": [
    "#7 and 8\n",
    "arr = [0, 0.3, 5.7, 19, -1.3, 15.56, 7.0]\n",
    "\n",
    "def write_file_q7(path, arr):\n",
    "    f = open(path, 'w')\n",
    "    for val in arr:\n",
    "        print(val,file=f)\n",
    "    f.close()\n",
    "    \n",
    "def read_file_q7(path):\n",
    "    f = open(path, 'r')\n",
    "    arr = [eval(line) for line in f]\n",
    "    f.close()\n",
    "    return arr\n",
    "    \n",
    "write_file_q7('./data file/quest7.dat', arr)\n",
    "ans = read_file_q7('./data file/quest7.dat')\n",
    "ans"
   ]
  },
  {
   "cell_type": "code",
   "execution_count": 38,
   "metadata": {},
   "outputs": [
    {
     "data": {
      "text/plain": [
       "(3, 4)"
      ]
     },
     "execution_count": 38,
     "metadata": {},
     "output_type": "execute_result"
    },
    {
     "name": "stdout",
     "output_type": "stream",
     "text": [
      "[[1, 2, 3, 4], [5, 6, 7, 8], [9, 10, 11, 12]]\n"
     ]
    }
   ],
   "source": [
    "#9 and 10\n",
    "matrix = [[1, 2, 3, 4], [5, 6, 7, 8], [9, 10, 11, 12]]\n",
    "m, n = 3, 4\n",
    "\n",
    "def write_matrix(path, matrix, size=(0,0)):\n",
    "    \"\"\"Write the matrix in file  \n",
    "    **size** = (rows,columns)\n",
    "    \"\"\"\n",
    "    f = open(path, 'w')\n",
    "    if size == (0,0):\n",
    "        size = (len(matrix), len(matrix[0]))\n",
    "        \n",
    "    print(size[0], size[1], file=f)\n",
    "        \n",
    "    for row in matrix:\n",
    "        for val in row:\n",
    "            print(val, end=' ', file=f)\n",
    "        print(file=f)\n",
    "    f.close()\n",
    "    return\n",
    "\n",
    "def read_matrix(path):\n",
    "    mt = []\n",
    "    f = open(path, 'r')\n",
    "    rows, columns = f.readline().split()\n",
    "    rows = eval(rows)\n",
    "    columns = eval(columns)\n",
    "    \n",
    "    for line in f:\n",
    "        row = list(map(eval, line.split()))\n",
    "        mt.append(row)\n",
    "    return rows, columns, mt\n",
    "\n",
    "write_matrix('./data file/quest9.dat', matrix)\n",
    "m,n,mt = read_matrix('./data file/quest9.dat')\n",
    "m, n\n",
    "print(matrix)"
   ]
  },
  {
   "cell_type": "code",
   "execution_count": 39,
   "metadata": {},
   "outputs": [],
   "source": [
    "#11\n",
    "\n",
    "def prime_check(num) -> bool:\n",
    "    if num < 2:\n",
    "        return False\n",
    "    if num == 2 or num == 3:\n",
    "        return True\n",
    "    for i in range(2,int(num**0.5)+1):\n",
    "        if num % i == 0:\n",
    "            return False\n",
    "    return True\n",
    "\n",
    "inp_path = './data file/quest11_in.dat'\n",
    "outp_path = './data file/quest11_out.dat'\n",
    "\n",
    "f_in = open(inp_path, 'w')\n",
    "print(0,1,2,3,4,5,6,7,8,9,10, sep='\\n', file=f_in)\n",
    "f_in.close()\n",
    "\n",
    "def read_and_write(inp_path, outp_path) -> None:\n",
    "    f_in = open(inp_path, 'r')\n",
    "    f_out = open(outp_path, 'w')\n",
    "    \n",
    "    for val in f_in:\n",
    "        if prime_check(eval(val)):\n",
    "            print(1,file=f_out)\n",
    "        else:\n",
    "            print(0,file=f_out)\n",
    "\n",
    "    f_in.close()\n",
    "    f_out.close()\n",
    "    return\n",
    "\n",
    "read_and_write(inp_path, outp_path)\n"
   ]
  },
  {
   "cell_type": "code",
   "execution_count": 40,
   "metadata": {},
   "outputs": [],
   "source": [
    "#12\n",
    "#quest12_in.dat: n số tự nhiên được viết trên một dòng, cách nhau bởi space\n",
    "#quest12_out.dat: n số tự nhiên trên được sắp xếp trên một dòng\n",
    "\n",
    "f = open('./data file/quest12_in.dat', 'w')\n",
    "print('1 2 56 34 8 434 3 0', file=f)\n",
    "f.close()\n",
    "\n",
    "f_in = open('./data file/quest12_in.dat', 'r')\n",
    "f_out = open('./data file/quest12_out.dat', 'w')\n",
    "\n",
    "arr = list(map(eval, f_in.readline().split()))\n",
    "arr.sort()\n",
    "for val in arr:\n",
    "    print(val,end=' ',file=f_out)\n",
    "\n",
    "f_in.close()\n",
    "f_out.close()"
   ]
  },
  {
   "cell_type": "code",
   "execution_count": 41,
   "metadata": {},
   "outputs": [],
   "source": [
    "#13\n",
    "#quest13_in.dat: n số tự nhiên trên 1 dòng\n",
    "#quest13_out.dat:\n",
    "#   line 1: số cực trị \n",
    "#   line 2: các cực trị trên 1 dòng\n",
    "\n",
    "f = open('./data file/quest13_in.dat', 'w')\n",
    "print('1 2 56 34 8 434 3 0', file=f)\n",
    "f.close()\n",
    "\n",
    "fin = open('./data file/quest13_in.dat', 'r')\n",
    "fout = open('./data file/quest13_out.dat', 'w')\n",
    "\n",
    "arr = list(map(eval, fin.readline().split()))\n",
    "extremes = []\n",
    "for i in range(1,len(arr)-1):\n",
    "    if (arr[i-1] > arr[i] and arr[i] < arr[i+1]) or (arr[i-1] < arr[i] and arr[i] > arr[i+1]):\n",
    "        extremes.append(arr[i])\n",
    "\n",
    "print(len(extremes), file=fout)\n",
    "for val in extremes:\n",
    "    print(val, end=' ', file=fout)\n",
    "\n",
    "fin.close()\n",
    "fout.close()"
   ]
  },
  {
   "cell_type": "code",
   "execution_count": 42,
   "metadata": {},
   "outputs": [],
   "source": [
    "#14\n",
    "#quest14_in.dat: n dòng, mỗi dòng là một số nguyên\n",
    "#quest14_out.dat: n dòng, mỗi dòng các các ước nguyên tố tương ứng\n",
    "\n",
    "f = open('./data file/quest14_in.dat', 'w')\n",
    "print('20\\n25\\n30', file=f)\n",
    "f.close()\n",
    "\n",
    "def prime_divisors(num) -> list:\n",
    "    ans = []\n",
    "    for i in range(2,num):\n",
    "        if num % i == 0 and prime_check(i):\n",
    "            ans.append(i)\n",
    "    return ans\n",
    "\n",
    "fin = open('./data file/quest14_in.dat', 'r')\n",
    "fout = open('./data file/quest14_out.dat', 'w')\n",
    "\n",
    "arr = fin.read().split('\\n')\n",
    "arr = list(map(eval, arr[:len(arr)-1]))\n",
    "\n",
    "for val in arr:\n",
    "    temp = prime_divisors(val)\n",
    "    for v in temp:\n",
    "        print(v, end=' ', file=fout)\n",
    "    print(file=fout)\n",
    "\n",
    "\n",
    "fin.close()\n",
    "fout.close()"
   ]
  },
  {
   "cell_type": "code",
   "execution_count": 54,
   "metadata": {},
   "outputs": [],
   "source": [
    "#15\n",
    "\n",
    "def create_output_path(path):\n",
    "    ind = path.index('inp')\n",
    "    return path[:ind] + 'kq' + path[ind:]\n",
    "    \n",
    "\n",
    "paths = ['./data file/inp1.dat', './data file/inp2.dat', './data file/inp3.dat']\n",
    "for path in paths:\n",
    "    fin = open(path, 'r')\n",
    "    arr = list(map(eval,fin.readline().split()))\n",
    "    arr.sort()\n",
    "    fout = open(create_output_path(path), 'w')\n",
    "    for val in arr:\n",
    "        print(val, sep='', file=fout)\n",
    "    fin.close()\n",
    "    fout.close()"
   ]
  }
 ],
 "metadata": {
  "kernelspec": {
   "display_name": "Python 3",
   "language": "python",
   "name": "python3"
  },
  "language_info": {
   "codemirror_mode": {
    "name": "ipython",
    "version": 3
   },
   "file_extension": ".py",
   "mimetype": "text/x-python",
   "name": "python",
   "nbconvert_exporter": "python",
   "pygments_lexer": "ipython3",
   "version": "3.9.10"
  }
 },
 "nbformat": 4,
 "nbformat_minor": 2
}
