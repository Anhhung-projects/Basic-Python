{
 "cells": [
  {
   "cell_type": "code",
   "execution_count": 16,
   "metadata": {},
   "outputs": [
    {
     "name": "stdout",
     "output_type": "stream",
     "text": [
      "Mình về mình có nhớ ta?\n",
      "Mười lăm năm ấy thiết tha mặn nồng.\n",
      "Mình về mình có nhớ không?\n",
      "nhìn cây nhớ núi, nhìn sông nhớ nguồn.\n"
     ]
    }
   ],
   "source": [
    "#16. viet bai tho\n",
    "print(\"Mình về mình có nhớ ta?\",\"Mười lăm năm ấy thiết tha mặn nồng.\", sep = \"\\n\")\n",
    "print(\"Mình về mình có nhớ không?\",\"nhìn cây nhớ núi, nhìn sông nhớ nguồn.\", sep = \"\\n\")"
   ]
  },
  {
   "cell_type": "code",
   "execution_count": 15,
   "metadata": {},
   "outputs": [
    {
     "name": "stdout",
     "output_type": "stream",
     "text": [
      "55\n",
      "3413\n"
     ]
    }
   ],
   "source": [
    "#17\n",
    "print(1+2+3+4+5+6+7+8+9+10)\n",
    "print(1**1+2**2+3**3+4**4+5**5)"
   ]
  },
  {
   "cell_type": "code",
   "execution_count": 1,
   "metadata": {},
   "outputs": [
    {
     "name": "stdout",
     "output_type": "stream",
     "text": [
      "Ha Noi\n",
      "thu do\n",
      "Viet Nam "
     ]
    }
   ],
   "source": [
    "print(\"Ha Noi\",\"thu do\",\"Viet Nam\",sep = \"\\n\", end = \" \")"
   ]
  }
 ],
 "metadata": {
  "kernelspec": {
   "display_name": "Python 3",
   "language": "python",
   "name": "python3"
  },
  "language_info": {
   "codemirror_mode": {
    "name": "ipython",
    "version": 3
   },
   "file_extension": ".py",
   "mimetype": "text/x-python",
   "name": "python",
   "nbconvert_exporter": "python",
   "pygments_lexer": "ipython3",
   "version": "3.9.10"
  },
  "orig_nbformat": 4
 },
 "nbformat": 4,
 "nbformat_minor": 2
}
