{
 "cells": [
  {
   "cell_type": "markdown",
   "metadata": {},
   "source": [
    "# Object Oriented Programming\n",
    "Class(Object:Attribute and Method)\n"
   ]
  },
  {
   "cell_type": "code",
   "execution_count": 4,
   "metadata": {},
   "outputs": [
    {
     "data": {
      "text/plain": [
       "'Ha'"
      ]
     },
     "execution_count": 4,
     "metadata": {},
     "output_type": "execute_result"
    }
   ],
   "source": [
    "#1 + 2\n",
    "class HocSinh:\n",
    "    Ten = \"Ha\"\n",
    "h = HocSinh()\n",
    "h.ten = \"Binh\"\n",
    "h.Ten\n"
   ]
  },
  {
   "cell_type": "code",
   "execution_count": null,
   "metadata": {},
   "outputs": [],
   "source": [
    "#3\n",
    "class QuadrilSquare:\n",
    "    def __init__(self,height,width):\n",
    "        self.height = height\n",
    "        self.width = width\n",
    "    def perimeter(self):\n",
    "        return (self.height + self.width) * 2\n",
    "    def area(self):\n",
    "        return self.height * self.width"
   ]
  },
  {
   "cell_type": "code",
   "execution_count": null,
   "metadata": {},
   "outputs": [],
   "source": [
    "class HocSinh:\n",
    "    def __init__(self, hoTen, diaChi, chieuCao, canNang, hocLuc):\n",
    "        self.hoTen = hoTen\n",
    "        self.diaChi = diaChi\n",
    "        self.chieuCao = chieuCao\n",
    "        self.canNang = canNang\n",
    "        self.hocLuc = hocLuc\n",
    "    def capNhatDiaChi(self, diaChi):\n",
    "        self.diaChi = diaChi\n",
    "    def capNhatChieuCaoCanNang(self, chieuCao, canNang):\n",
    "        self.chieuCao = chieuCao\n",
    "        self.canNang = canNang\n",
    "    def capNhatHocLuc(self, hocLuc):\n",
    "        self.hocLuc = hocLuc\n",
    "        "
   ]
  },
  {
   "cell_type": "markdown",
   "metadata": {},
   "source": [
    "*bán kính hình tròn nội tiếp tam giác*  \n",
    "r = area/(perimeter/2)  \n",
    "*bán kính đường tròn ngoại tiếp tam giác*  \n",
    "r = (a x b x c) / (4 x area)  \n"
   ]
  },
  {
   "cell_type": "code",
   "execution_count": 8,
   "metadata": {},
   "outputs": [
    {
     "name": "stdout",
     "output_type": "stream",
     "text": [
      "is triangle\n"
     ]
    }
   ],
   "source": [
    "#5 + 6\n",
    "from math import sqrt\n",
    "\n",
    "\n",
    "class Triple:\n",
    "    def __init__(self, name, a, b, c):\n",
    "        self.name = name\n",
    "        self.a = a\n",
    "        self.b = b\n",
    "        self.c = c\n",
    "        self.S = self.a + self.b + self.c\n",
    "    def update(self):\n",
    "        self.S = self.a + self.b + self.c\n",
    "    def change(self, a, b, c):\n",
    "        self.a = a\n",
    "        self.b = b\n",
    "        self.c = c\n",
    "        self.update()\n",
    "    def isTriangle(self):\n",
    "        if self.a+self.b > self.c and self.a+self.c > self.b and self.b+self.c > self.a:\n",
    "            print(\"is triangle\")\n",
    "        else: print(\"is not triangle\")\n",
    "h1 = Triple(\"Shape 1\", 3, 4, 5)\n",
    "h1.S\n",
    "h1.isTriangle()\n",
    "class Triangle(Triple):\n",
    "    def areaTriangle(self):\n",
    "        p = (self.a + self.b + self.c)/2\n",
    "        return sqrt(p*(p - self.a)*(p - self.b)*(p - self.c))\n",
    "    def cicumradius(self):\n",
    "        return (self.a * self.b * self.c)/(4*self.areaTriangle())\n",
    "    def inradius(self):\n",
    "        return 2*self.areaTriangle()/(self.a + self.b + self.c)"
   ]
  },
  {
   "cell_type": "code",
   "execution_count": 8,
   "metadata": {},
   "outputs": [
    {
     "data": {
      "text/plain": [
       "3.8971143170299736"
      ]
     },
     "execution_count": 8,
     "metadata": {},
     "output_type": "execute_result"
    }
   ],
   "source": [
    "class Triangle:\n",
    "    def __init__(self, a, b, c):\n",
    "        self.a = a\n",
    "        self.b = b\n",
    "        self.c = c\n",
    "    def area(self):\n",
    "        p = (self.a + self.b + self.c)/2\n",
    "        return (p*(p - self.a)*(p - self.b)*(p - self.c))**0.5\n",
    "    def perimeter(self):\n",
    "        return self.a + self.b + self.c\n",
    "tri1 = Triangle(3,4,5)\n",
    "tri1.area()\n",
    "class isoscelesTriangle(Triangle):\n",
    "    def __init__(self,a,b):\n",
    "        super().__init__(a,b,b)\n",
    "    def area(self):\n",
    "        return (self.a * (self.b**2 - (self.a/2)**2)**0.5)/2\n",
    "class equilateralTriangle(isoscelesTriangle):\n",
    "    def __init__(self,a):\n",
    "        super().__init__(a,a)\n",
    "    def area(self):\n",
    "        return ((3**0.5) * (self.a**2)) / 4\n",
    "    \n",
    "shape = equilateralTriangle(3)\n",
    "shape.area()\n"
   ]
  },
  {
   "cell_type": "code",
   "execution_count": 11,
   "metadata": {},
   "outputs": [
    {
     "name": "stdout",
     "output_type": "stream",
     "text": [
      "I'm an X object\n"
     ]
    }
   ],
   "source": [
    "class X(object):\n",
    "    def id(self):\n",
    "        print(\"I'm an X object\")\n",
    "x = X()\n",
    "x.id()"
   ]
  },
  {
   "cell_type": "code",
   "execution_count": 12,
   "metadata": {},
   "outputs": [
    {
     "data": {
      "text/plain": [
       "3.141592653589793"
      ]
     },
     "execution_count": 12,
     "metadata": {},
     "output_type": "execute_result"
    }
   ],
   "source": [
    "#13\n",
    "from math import pi\n",
    "\n",
    "class circle:\n",
    "    def __init__(self,radius,x,y):\n",
    "        self.radius = radius\n",
    "        self.x = x\n",
    "        self.y = y\n",
    "    def area(self):\n",
    "        return self.radius**2 * pi\n",
    "    def perimeter(self):\n",
    "        return 2 * self.radius * pi"
   ]
  }
 ],
 "metadata": {
  "kernelspec": {
   "display_name": "Python 3",
   "language": "python",
   "name": "python3"
  },
  "language_info": {
   "codemirror_mode": {
    "name": "ipython",
    "version": 3
   },
   "file_extension": ".py",
   "mimetype": "text/x-python",
   "name": "python",
   "nbconvert_exporter": "python",
   "pygments_lexer": "ipython3",
   "version": "3.9.10"
  }
 },
 "nbformat": 4,
 "nbformat_minor": 2
}
