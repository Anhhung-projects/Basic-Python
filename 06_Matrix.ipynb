{
 "cells": [
  {
   "cell_type": "markdown",
   "metadata": {},
   "source": [
    "# List của List. Mảng nhiều chiều\n",
    "`A[i,j]` phần tử thứ `j` của list `A[i]`\n",
    "## Vòng for với List of List\n",
    "```python\n",
    "list = [[1,2,3], [4,5,6]]\n",
    "for item1, item2, item3 in list:\n",
    "    <Câu lệnh lặp>\n",
    "```\n",
    "## Chỉ số âm\n",
    "`A[0] = A[-len(A)]`  \n",
    "`A[1] = A[-len(A) + 1] = A[1 - len(A)]`  \n",
    "`A[k] = A[k - len(A)]`  \n",
    "## Vùng chỉ số\n",
    "`A[start : stop : increment]`: danh sách từ `A[start]` đến `A[stop - 1]`  \n",
    "`start` mặc định bằng 0  \n",
    "`end` mặc định bằng len(A) \n",
    "`increment` khoảng tăng, mặc định bằng 1  \n",
    "## List comprehension\n",
    "```python\n",
    "biểu_thức for item in List\n",
    "```\n",
    "tạo ra List mới, phần tử được tính thông qua `<biểu thức>`\n",
    "## Tạo nhanh kiểu dữ liệu tuần tự\n",
    "```python\n",
    "Generator = (biểu_thức for tham_biến in interator)\n",
    "#class 'generator'\n",
    "```\n",
    "chỉ sinh ra dữ liệu 1 lần\n",
    "### Tạo hàm generator\n",
    "từ khóa `return` thay bằng `yield` và có thể dùng nhiều lần, mỗi lần dùng là 1 lần tạo khả năng sinh dữ liệu\n",
    "```python\n",
    "def OddNum(n):\n",
    "    #hàm sinh ra n số lẻ đầu tiên\n",
    "    for i in range(n):\n",
    "        yield 2*i + 1\n",
    "```\n",
    "### Sự khác biệt của generator\n",
    "- không chiếm bộ nhớ => khi thực hiện sinh dữ liệu từ từ generator, máy tạo dữ liệu này mới khởi động và sinh dữ liệu tuần tự\n",
    "- tốc độ sinh dữ liệu nhanh gần như tức thời => sử dụng generator không hạn chế tốc độ chương trình\n",
    "- generator có tính năng sinh và kết xuất dữ liệu đúng 1 lần. Khi đọc dữ liệu từ generator, đầu đọc của dữ liệu sẽ di chuyển tuần tự từ đầu đến cuối và chỉ đọc **1 lần**  \n",
    "\n",
    "\n"
   ]
  },
  {
   "cell_type": "code",
   "execution_count": 16,
   "metadata": {},
   "outputs": [],
   "source": [
    "from IPython.core.interactiveshell import InteractiveShell\n",
    "InteractiveShell.ast_node_interactivity = \"all\"\n",
    "\n",
    "import builtins\n",
    "def input(prompt=''):\n",
    "    x = builtins.input(prompt)\n",
    "    print(prompt+x)\n",
    "    return x"
   ]
  },
  {
   "cell_type": "code",
   "execution_count": 3,
   "metadata": {},
   "outputs": [
    {
     "name": "stdout",
     "output_type": "stream",
     "text": [
      "1 3 5 7 9 11 13 15 17 19 21 \n",
      "23 25 27 29 31 33 35 37 39 \n"
     ]
    }
   ],
   "source": [
    "#Ví dụ generator\n",
    "def OddNum(n):\n",
    "    for i in range(n):\n",
    "        yield 2*i + 1\n",
    "G = OddNum(20)\n",
    "for k in G:\n",
    "    print (k, end = \" \")#output line 1\n",
    "    if k > 20: break\n",
    "print()\n",
    "for k in G:\n",
    "    print (k, end = \" \")#output line 2\n",
    "print()\n",
    "for k in G:\n",
    "    print (k, end = \" \")#không ra dữ liệu vì đầu đọc đã ở cuối generator"
   ]
  },
  {
   "cell_type": "code",
   "execution_count": 13,
   "metadata": {},
   "outputs": [
    {
     "data": {
      "text/plain": [
       "[1, 2, 3, 1]"
      ]
     },
     "execution_count": 13,
     "metadata": {},
     "output_type": "execute_result"
    },
    {
     "data": {
      "text/plain": [
       "20"
      ]
     },
     "execution_count": 13,
     "metadata": {},
     "output_type": "execute_result"
    }
   ],
   "source": [
    "Xlist = [[1], [1,2], [1,2,3], [1,2,3,4]]\n",
    "Xlist[2] + [1]\n",
    "sum = 0\n",
    "for j in range(len(Xlist)):\n",
    "    for i in range(len(Xlist[j])):\n",
    "        sum += Xlist[j][i]\n",
    "sum"
   ]
  },
  {
   "cell_type": "code",
   "execution_count": 14,
   "metadata": {},
   "outputs": [
    {
     "name": "stdout",
     "output_type": "stream",
     "text": [
      "000012024036"
     ]
    }
   ],
   "source": [
    "for i in range(4):\n",
    "    for j in range(3):\n",
    "        print(i*j, end=\"\")"
   ]
  },
  {
   "cell_type": "code",
   "execution_count": 15,
   "metadata": {},
   "outputs": [
    {
     "data": {
      "text/plain": [
       "([1, 3], [1])"
      ]
     },
     "execution_count": 15,
     "metadata": {},
     "output_type": "execute_result"
    }
   ],
   "source": [
    "#4\n",
    "x = [1]\n",
    "y = x#x và y cùng gán 1 đối tượng list\n",
    "x = x + [3]# x được gán đối tượng mới, x != y\n",
    "(x,y)"
   ]
  },
  {
   "cell_type": "code",
   "execution_count": 16,
   "metadata": {},
   "outputs": [
    {
     "name": "stdout",
     "output_type": "stream",
     "text": [
      "[15] [15]\n"
     ]
    }
   ],
   "source": [
    "x = [1]\n",
    "y = x\n",
    "x[0] = 15# thay đổi phần tử đầu của list, còn đối tượng container không đổi, x[0] = y[0] = 15\n",
    "print(x,y)"
   ]
  },
  {
   "cell_type": "code",
   "execution_count": 24,
   "metadata": {},
   "outputs": [
    {
     "data": {
      "text/plain": [
       "'lbac'"
      ]
     },
     "execution_count": 24,
     "metadata": {},
     "output_type": "execute_result"
    }
   ],
   "source": [
    "s = 'cable'\n",
    "s[3: -6: -1] # = [-2:-6:-1]"
   ]
  },
  {
   "cell_type": "code",
   "execution_count": 25,
   "metadata": {},
   "outputs": [
    {
     "data": {
      "text/plain": [
       "[0, 1, 2, 0, 1, 2, 3]"
      ]
     },
     "execution_count": 25,
     "metadata": {},
     "output_type": "execute_result"
    },
    {
     "data": {
      "text/plain": [
       "[0, 1, 2, 0, 1, 2, 3]"
      ]
     },
     "execution_count": 25,
     "metadata": {},
     "output_type": "execute_result"
    }
   ],
   "source": [
    "B = C = []\n",
    "for i in range(3):\n",
    "    B.append(i)\n",
    "for i in range(4):\n",
    "    C.append(i)\n",
    "B\n",
    "C"
   ]
  },
  {
   "cell_type": "code",
   "execution_count": 28,
   "metadata": {},
   "outputs": [
    {
     "data": {
      "text/plain": [
       "4"
      ]
     },
     "execution_count": 28,
     "metadata": {},
     "output_type": "execute_result"
    },
    {
     "data": {
      "text/plain": [
       "3"
      ]
     },
     "execution_count": 28,
     "metadata": {},
     "output_type": "execute_result"
    },
    {
     "data": {
      "text/plain": [
       "[6, 12, 0, 18]"
      ]
     },
     "execution_count": 28,
     "metadata": {},
     "output_type": "execute_result"
    },
    {
     "data": {
      "text/plain": [
       "[26, 24, -14]"
      ]
     },
     "execution_count": 28,
     "metadata": {},
     "output_type": "execute_result"
    }
   ],
   "source": [
    "#8\n",
    "def row(A):\n",
    "    return len(A)\n",
    "def column(A):\n",
    "    return len(A[0])\n",
    "A = [[1,0,5], [13,-1,0],[2,16,-18],[10,9,-1]]\n",
    "row(A)\n",
    "column(A)\n",
    "B = []\n",
    "C = []\n",
    "for item in A:\n",
    "    sum = 0\n",
    "    for i in item:\n",
    "        sum += i\n",
    "    B.append(sum)\n",
    "n = len(A[0])\n",
    "for j in range(n):\n",
    "    sum = 0\n",
    "    for item in A:\n",
    "        sum += item[j]\n",
    "    C.append(sum)\n",
    "B\n",
    "C"
   ]
  },
  {
   "cell_type": "code",
   "execution_count": 37,
   "metadata": {},
   "outputs": [
    {
     "name": "stdout",
     "output_type": "stream",
     "text": [
      "1  0  5  \n",
      "13  -1  0  \n",
      "2  16  -18  \n",
      "10  9  -1  \n",
      "\n",
      "5  0  1  \n",
      "0  -1  13  \n",
      "-18  16  2  \n",
      "-1  9  10  \n"
     ]
    }
   ],
   "source": [
    "def changeColumn(A,i,j):\n",
    "    A[i], A[j] = A[j], A[i]\n",
    "    return A\n",
    "def changeRow(A,i,j):\n",
    "    for item in A:\n",
    "        item[i], item[j] = item[j], item[i]\n",
    "    return A\n",
    "def printMatrix(A):\n",
    "    for item in A:\n",
    "        for i in item: print(i,end = \"  \")\n",
    "        print()\n",
    "    \n",
    "A = [[1,0,5], [13,-1,0],[2,16,-18],[10,9,-1]]\n",
    "printMatrix(A)\n",
    "print()\n",
    "printMatrix(changeRow(A,0,2))\n"
   ]
  },
  {
   "cell_type": "code",
   "execution_count": 42,
   "metadata": {},
   "outputs": [
    {
     "data": {
      "text/plain": [
       "[[3, 6, 12], [58, -1, 9], [7, 26, -24], [11, -3, 5]]"
      ]
     },
     "execution_count": 42,
     "metadata": {},
     "output_type": "execute_result"
    },
    {
     "data": {
      "text/plain": [
       "[[-1, -6, -2], [-32, -1, -9], [-3, 6, -12], [9, 21, -7]]"
      ]
     },
     "execution_count": 42,
     "metadata": {},
     "output_type": "execute_result"
    },
    {
     "data": {
      "text/plain": [
       "[[5, 0, 25], [65, -5, 0], [10, 80, -90], [50, 45, -5]]"
      ]
     },
     "execution_count": 42,
     "metadata": {},
     "output_type": "execute_result"
    }
   ],
   "source": [
    "A = [[1,0,5], [13,-1,0],[2,16,-18],[10,9,-1]]\n",
    "B = [[2,6,7], [45,0,9], [5,10,-6], [1,-12,6]]\n",
    "\n",
    "def sumMatrix(A,B):\n",
    "    C = []\n",
    "    for i in range(len(A)):\n",
    "        temp = []\n",
    "        for j in range(len(A[0])):\n",
    "            temp.append(A[i][j] + B[i][j])\n",
    "        C.append(temp)\n",
    "    return C\n",
    "\n",
    "def differenceMatrix(A,B):\n",
    "    C = []\n",
    "    for i in range(len(A)):\n",
    "        temp = []\n",
    "        for j in range(len(A[0])):\n",
    "            temp.append(A[i][j] - B[i][j])\n",
    "        C.append(temp)\n",
    "    return C\n",
    "\n",
    "def scalar(A,k):\n",
    "    C = []\n",
    "    for i in range(len(A)):\n",
    "        temp = []\n",
    "        for j in range(len(A[0])):\n",
    "            temp.append(k * A[i][j])\n",
    "        C.append(temp)\n",
    "    return C\n",
    "sumMatrix(A,B)\n",
    "differenceMatrix(A,B)\n",
    "scalar(A,5)\n"
   ]
  },
  {
   "cell_type": "code",
   "execution_count": 3,
   "metadata": {},
   "outputs": [
    {
     "data": {
      "text/plain": [
       "[[9, 12, 15, 20], [19, 26, 33, 44], [29, 40, 51, 68]]"
      ]
     },
     "execution_count": 3,
     "metadata": {},
     "output_type": "execute_result"
    }
   ],
   "source": [
    "def multiple(A,B):\n",
    "    '''Nhân 2 ma trận kích thước m x n và n x p (ma trận C có kích thước m x p)'''\n",
    "    C = []\n",
    "    for i in range(len(A)):\n",
    "        temp = []\n",
    "        for j in range(len(B[0])):\n",
    "            c = 0\n",
    "            for k in range(len(A[0])):\n",
    "                c += A[i][k] * B[k][j]\n",
    "            temp.append(c)\n",
    "        C.append(temp)\n",
    "    return C\n",
    "    \n",
    "A = [[1,2],[3,4],[5,6]] #ma trận kích thước 3 x 2 (3 hàng, mỗi hàng có 2 cột)\n",
    "B = [[1,2,3,4],[4,5,6,8]] #ma trận kích thước 2 x 4\n",
    "multiple(A,B)"
   ]
  },
  {
   "cell_type": "markdown",
   "metadata": {},
   "source": [
    "dãy đơn điệu tăng thật sự là dãy tăng dần theo thứ tự và không có 2 phần tử giống nhau\n"
   ]
  },
  {
   "cell_type": "code",
   "execution_count": 5,
   "metadata": {},
   "outputs": [
    {
     "name": "stdout",
     "output_type": "stream",
     "text": [
      "Nhap day:3,4,12,2\n"
     ]
    },
    {
     "data": {
      "text/plain": [
       "False"
      ]
     },
     "execution_count": 5,
     "metadata": {},
     "output_type": "execute_result"
    }
   ],
   "source": [
    "#17\n",
    "def dayTang_check(tup):\n",
    "    for i in range(len(tup)-1):\n",
    "        if tup[i] > tup[i+1]: return False\n",
    "    return True\n",
    "def dayTangThatSu_Check(tup):\n",
    "    for i in range(len(tup)-1):\n",
    "        if tup[i] >= tup[i+1]: return False\n",
    "    return True\n",
    "def dayGiam_Check(tup):\n",
    "    for i in range(len(tup)-1):\n",
    "        if tup[i] < tup[i+1]: return False\n",
    "    return True\n",
    "def dayGiamThatSu_Check(tup):\n",
    "    for i in range(len(tup)-1):\n",
    "        if tup[i] <= tup[i+1]: return False\n",
    "    return True\n",
    "tup = tuple(map(int, input('Nhap day:').split(',')))\n",
    "dayTang_check(tup)"
   ]
  },
  {
   "cell_type": "code",
   "execution_count": null,
   "metadata": {},
   "outputs": [],
   "source": [
    "#19"
   ]
  },
  {
   "cell_type": "code",
   "execution_count": 6,
   "metadata": {},
   "outputs": [
    {
     "name": "stdout",
     "output_type": "stream",
     "text": [
      "[1, 4]\n",
      "[2, 5]\n",
      "[3, 6]\n"
     ]
    },
    {
     "data": {
      "text/plain": [
       "[[1, 4], [2, 5], [3, 6]]"
      ]
     },
     "execution_count": 6,
     "metadata": {},
     "output_type": "execute_result"
    }
   ],
   "source": [
    "def program(A):\n",
    "    ans = []\n",
    "    temp = []\n",
    "    for i in range(len(A[0])):\n",
    "        for j in range(len(A)):\n",
    "            temp.append(A[j][i])\n",
    "        print(temp)\n",
    "        ans.append(temp)\n",
    "        temp = []\n",
    "        \n",
    "    return ans\n",
    "\n",
    "A = [[1,2,3],[4,5,6]]\n",
    "program(A)"
   ]
  },
  {
   "cell_type": "code",
   "execution_count": 4,
   "metadata": {},
   "outputs": [
    {
     "name": "stdout",
     "output_type": "stream",
     "text": [
      "3\n",
      "7\n",
      "11\n",
      "15\n",
      "19\n",
      "23\n",
      "27\n",
      "31\n",
      "35\n",
      "39\n"
     ]
    }
   ],
   "source": [
    "G = (2*i + 1 for i in range(1,20,2))\n",
    "for i in G:\n",
    "    print(i)\n",
    "    if i == 9:\n",
    "        break\n",
    "for i in G:\n",
    "    print(i,end = ' ')"
   ]
  },
  {
   "cell_type": "code",
   "execution_count": 21,
   "metadata": {},
   "outputs": [
    {
     "data": {
      "text/plain": [
       "(0, 2, 4, 6, 8, 10, 12, 14, 16, 18)"
      ]
     },
     "execution_count": 21,
     "metadata": {},
     "output_type": "execute_result"
    },
    {
     "data": {
      "text/plain": [
       "(1, 4, 9, 16, 25, 36, 49, 64, 81, 100)"
      ]
     },
     "execution_count": 21,
     "metadata": {},
     "output_type": "execute_result"
    }
   ],
   "source": [
    "#22\n",
    "def evenNumbers(n):\n",
    "    return tuple(i*2  for i in range(n))\n",
    "def squareNumbers(n):\n",
    "    return tuple(i**2 for i in range(1,n+1))\n",
    "evenNumbers(10)\n",
    "squareNumbers(10)"
   ]
  },
  {
   "cell_type": "code",
   "execution_count": 3,
   "metadata": {},
   "outputs": [
    {
     "name": "stdout",
     "output_type": "stream",
     "text": [
      "2 3 5 7 11 13 17 19 23 29 "
     ]
    }
   ],
   "source": [
    "#23\n",
    "def primeCheck(num):\n",
    "    if num < 2: return False\n",
    "    elif num == 2: return True\n",
    "    else:\n",
    "        for i in range(2,int(num**0.5 + 1)):\n",
    "            if num % i == 0: return False\n",
    "    return True\n",
    "def GenPrime(n):\n",
    "    count = 0\n",
    "    num = 2\n",
    "    while count < n:\n",
    "        if primeCheck(num): \n",
    "            yield num\n",
    "            count += 1\n",
    "        num += 1\n",
    "         \n",
    "for item in GenPrime(10):\n",
    "    print(item,end=' ')\n",
    "    \n",
    "    "
   ]
  },
  {
   "cell_type": "code",
   "execution_count": 30,
   "metadata": {},
   "outputs": [
    {
     "name": "stdout",
     "output_type": "stream",
     "text": [
      "0 3 6 9 12 15 18 21 24 27 30 33 36 39 42 45 48 51 54 57 60 63 66 69 72 75 78 81 84 87 90 93 96 99 \n",
      "1 4 9 16 25 36 49 64 81 100 121 144 169 196 225 256 289 324 361 400 \n",
      "1 10 100 1000 10000 100000 1000000 10000000 100000000 1000000000 \n",
      "1000000000 0100000000 0010000000 0001000000 0000100000 0000010000 0000001000 0000000100 0000000010 0000000001 \n"
     ]
    }
   ],
   "source": [
    "def printList(lst):\n",
    "    for item in lst: print(item,end=' ')\n",
    "    return print()\n",
    "A = [3*i for i in range(34)]\n",
    "B = [i*i for i in range(1,21)]\n",
    "C = [str(10**i) for i in range(10)]\n",
    "D = [str(0)*(9-i)+ str(10**i) for i in range(9,-1,-1)]\n",
    "printList(A)\n",
    "printList(B)\n",
    "printList(C)\n",
    "printList(D)\n"
   ]
  },
  {
   "cell_type": "code",
   "execution_count": 34,
   "metadata": {},
   "outputs": [
    {
     "name": "stdout",
     "output_type": "stream",
     "text": [
      "1 0 0 0 0 \n",
      "0 1 0 0 0 \n",
      "0 0 1 0 0 \n",
      "0 0 0 1 0 \n",
      "0 0 0 0 1 \n"
     ]
    }
   ],
   "source": [
    "#ma trận đơn vị là ma trận vuông có đường chéo chính bằng 1 và các phần tử còn lại bằng 0\n",
    "def createIdentityMatrix(n):\n",
    "    matrix = []\n",
    "    for i in range(n):\n",
    "        matrix.append([0]*n)\n",
    "    for i in range(n):\n",
    "        matrix[i][i] = 1\n",
    "    return matrix\n",
    "\n",
    "def printMatrix(matrix):\n",
    "    for item in matrix:\n",
    "        for i in item:\n",
    "            print(i,end = ' ')\n",
    "        print()\n",
    "    return\n",
    "\n",
    "printMatrix(createIdentityMatrix(5))\n",
    "   "
   ]
  },
  {
   "cell_type": "code",
   "execution_count": 39,
   "metadata": {},
   "outputs": [
    {
     "name": "stdout",
     "output_type": "stream",
     "text": [
      "0 0 0 \n",
      "0 0 0 \n",
      "0 0 0 \n",
      "0 0 0 \n",
      "0 0 0 0 0 \n",
      "0 0 0 0 0 \n",
      "0 0 0 0 0 \n",
      "0 0 0 0 0 \n",
      "0 0 0 0 0 \n"
     ]
    }
   ],
   "source": [
    "def newMatrix1(m,n):\n",
    "    matrix = []\n",
    "    for i in range(m):\n",
    "        matrix.append([0]*n)\n",
    "    return matrix\n",
    "def newMatrix2(n):\n",
    "    return newMatrix1(n,n)\n",
    "\n",
    "printMatrix(newMatrix1(4,3))\n",
    "printMatrix(newMatrix2(5))"
   ]
  }
 ],
 "metadata": {
  "kernelspec": {
   "display_name": "Python 3",
   "language": "python",
   "name": "python3"
  },
  "language_info": {
   "codemirror_mode": {
    "name": "ipython",
    "version": 3
   },
   "file_extension": ".py",
   "mimetype": "text/x-python",
   "name": "python",
   "nbconvert_exporter": "python",
   "pygments_lexer": "ipython3",
   "version": "3.9.10"
  },
  "orig_nbformat": 4
 },
 "nbformat": 4,
 "nbformat_minor": 2
}
