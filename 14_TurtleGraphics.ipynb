{
 "cells": [
  {
   "cell_type": "markdown",
   "metadata": {},
   "source": [
    "# ĐỒ HỌA CON RÙA\n",
    "**Mô tả:** \"Turtle\" là một tính năng của Python giống như một bảng vẽ, cho phép lập trình viên ra lệnh cho một \"con rùa\" di chuyển để vẽ các đường nét trên con đường mà nó đi qua. Turtle sẽ cung cấp đầy đủ các phương thức để thực hiện điều đó."
   ]
  },
  {
   "cell_type": "markdown",
   "metadata": {},
   "source": [
    "## Thiết lập môi trường đồ họa con rùa.\n"
   ]
  },
  {
   "cell_type": "markdown",
   "metadata": {},
   "source": [
    "**Chú ý:** Turtle sử dụng cửa sổ đồ họa riêng, Jupyter notebook không hỗ trợ trực tiếp như trong môi trường truyền thống. Vậy nên cần có một số điều chỉnh để chạy trên Jupyter notebook.\n",
    "\n",
    "Các đoạn mã trong notebook này được viết để chạy trên python."
   ]
  },
  {
   "cell_type": "markdown",
   "metadata": {},
   "source": [
    "```python\n",
    "import turtle as t\n",
    "\n",
    "t.fd(100) #di chuyển về phía trước 100 pixels\n",
    "t.shape('turtle') #đổi con trỏ thành hình con rùa\n",
    "\n",
    "t.done()\n",
    "```\n",
    "![Hình ảnh minh họa](.\\turtle\\image\\turtle1.png)"
   ]
  },
  {
   "cell_type": "markdown",
   "metadata": {},
   "source": [
    "## Giới thiệu về Turtle\n",
    "Trạng thái của rùa trên màn hình được xác định được 3 yếu tố:\n",
    "- Hướng nhìn (mặc định hướng về 0 độ).\n",
    "- Tọa độ X.\n",
    "- Tọa độ Y.\n",
    "\n",
    "Rùa có 2 chế độ:\n",
    "- penup (nâng bút): rùa sẽ không để lại dấu vết trên quãng đường di chuyển của mình.\n",
    "- pendown (hạ bút): khi di chuyển rùa sẽ để vết trên màn hình.\n"
   ]
  },
  {
   "cell_type": "markdown",
   "metadata": {},
   "source": [
    "![Hình ảnh canvas](.\\turtle\\image\\turtle_direction.png)"
   ]
  },
  {
   "cell_type": "markdown",
   "metadata": {},
   "source": [
    "Phương thức trả về các thông số vị trí:\n",
    "|Phương thức|Mô tả|\n",
    "|-|-|\n",
    "|`heading()`|Hướng hiện thời của rùa, giá trị nhận từ 0 đến 360|\n",
    "|`xcor()` hoặc `ycor()`| tọa đồ x / y hiện thời của rùa|\n",
    "|`penup()`, `up()`, `pu()`| Chế độ nâng bút|\n",
    "|`pendown()`, `down()`, `pd()`|Chế độ hạ bút|\n",
    "|`isdown()`|Trả về `True` nếu rùa đang ở chế độ hạ bút|"
   ]
  },
  {
   "cell_type": "markdown",
   "metadata": {},
   "source": [
    "## Điều khiên rùa"
   ]
  },
  {
   "cell_type": "markdown",
   "metadata": {},
   "source": [
    "|Phương thức|Mô tả|\n",
    "|-|-|\n",
    "|`fd(d)`, `forward(d)`| Di chuyển về phía trước (theo hương của rùa) khoảng cách `d`pixel(s), `d`<0 thì đi lùi|\n",
    "|`back(d)`, `bk(d)`,` backward(d)`|Di chuyển về phía sau (theo hương của rùa) khoảng cách `d`pixel(s), `d`<0 thì đi về phía trước|\n",
    "|`left(alpha)` hoặc `right(alpha)`|Quay trái/phải một góc `alpha` độ (theo hướng của rùa)|\n",
    "|`seth(alpha)`, `setheading(alpha)`| Điều chỉnh hướng của rùa về hướng `alpha` độ theo trục tọa độ|\n",
    "|`goto(x,y)`, `setpos(x,y)`| di chuyển đến điểm `(x,y)` trên trục tọa độ với khoảng cách di chuyển ngắn nhất|\n",
    "|`setx(x)` hoặc `sety(y)`|Thiết lập tọa độ X của rùa = `x` hoặc tọa độ Y của rùa = `y`|\n",
    "|`home()`|Đưa rùa về gốc tọa độ (0,0) với quãng đường di chuyển ngắn nhất|\n",
    "|`reset()`|Xóa màn hình và đưa rùa về chế độ mặc định|\n",
    "\n",
    "**Chú ý:** Bất cứ phương thức nào làm thay đổi vị trí của rùa đều để lại mực trên đường đi nếu rùa đang ở chế độ pendown."
   ]
  },
  {
   "cell_type": "markdown",
   "metadata": {},
   "source": [
    "Ví dụ: Vẽ 2 hình vuông với cạnh d1 và d2, d1 > d2 và đình vuông cạnh d2 nằm giữa hình vuông cạnh d1.\n",
    "```python\n",
    "import turtle as t\n",
    "\n",
    "t.shape(\"turtle\")\n",
    "\n",
    "def square(d):\n",
    "    t.penup()\n",
    "    t.goto(d/2, d/2)\n",
    "    t.pendown()\n",
    "    for i in range(4):\n",
    "        t.right(90)\n",
    "        t.fd(d)\n",
    "\n",
    "square(500)\n",
    "square(250)\n",
    "\n",
    "t.done()\n",
    "```"
   ]
  },
  {
   "cell_type": "markdown",
   "metadata": {},
   "source": [
    "![Vẽ hình vuông](.\\turtle\\image\\turtle_squares.png)"
   ]
  },
  {
   "cell_type": "markdown",
   "metadata": {},
   "source": [
    "## Thiết lập window và canvas\n",
    "*Window hay cửa sổ đồ họa* là khung cửa sổ làm việc. Phương thức `setup()` sẽ giúp thiết lập các thông số window.\n",
    "```python\n",
    "setup(width=0.5, height=0.75, startx=None, starty=None)\n",
    "```\n",
    "- `setup()`: thiết lập chế độ và thông số mặc định của window: kích thước 640x480, nằm ở giữa màn hình.\n",
    "- `width`, `height`: kích thước window.\n",
    "    - `width=400, height=300`: kích thước 400x300.\n",
    "    - `width=0.5, height=0.75`: chiều rộng/chiều cao bằng 0.5/0.75 chiều rộng màn hình máy tính.\n",
    "    - `startx=100`, `starty=100`: window cách vị trí bên trái/phía trên 200 pixels.\n"
   ]
  },
  {
   "cell_type": "markdown",
   "metadata": {},
   "source": [
    "*Canvas hay khung vẽ* là vùng tọa độ logic mà rùa có thể di chuyển bên trong. Vùng được xác định bởi:\n",
    "- Chiều rộng, chiều cao, màu nền.\n",
    "- Hệ trục tọa độ với gốc tọa độ mặc định nằm ở trung tâm canvas.\n",
    "```python\n",
    "screensize(canvwidth=None, canvheight=None, bg=None)\n",
    "```\n",
    "- `screensize()`: trả về kích thước canvas hiện thời. \n",
    "- `screensize(bg=blue)`: background màu xanh cho canvas hiện thời.\n",
    "- `screensize(400,600)`: Thiết lập kích thước canvas hiện thời là 400x600."
   ]
  },
  {
   "cell_type": "markdown",
   "metadata": {},
   "source": [
    "## Thiết lập bút vẽ\n",
    "Ví dụ: Vẽ 5 hình vuông kề nhau, hình vuông sau có cạnh lớn hơn hình vuông trước 20 pixels. Hình vuông đầu có cạnh 50 pixels và xuất phát từ tọa độ (-200,0).\n",
    "```python\n",
    "import turtle as t\n",
    "\n",
    "def square(d):\n",
    "    t.pendown()\n",
    "    for i in range(4):\n",
    "        t.fd(d)\n",
    "        t.left(90)\n",
    "    t.penup()\n",
    "    \n",
    "def main():\n",
    "    t.goto(-200,0)\n",
    "    d = 50\n",
    "    for i in range(5):\n",
    "        square(d)\n",
    "        t.fd(d)\n",
    "        d += 20\n",
    "        \n",
    "#setup\n",
    "t.shape('turtle')\n",
    "t.penup()\n",
    "t.seth(0)\n",
    "\n",
    "#main\n",
    "main()\n",
    "t.mainloop()\n",
    "```\n",
    "![Ví dụ 2](./turtle/image/turtle2.png)"
   ]
  },
  {
   "cell_type": "markdown",
   "metadata": {},
   "source": [
    "**Thiết lập màu bút**\n",
    "```python\n",
    "color('red')\n",
    "```\n",
    "Các màu có sẵn trong python sẽ là: `while`, `black`, `red`, `cyan`, `blue`, `green`, `yellow`, `purple`, `magenta`, `violet`."
   ]
  },
  {
   "cell_type": "markdown",
   "metadata": {},
   "source": [
    "Ví dụ: Các hình vuông được vẽ từ 1 điểm duy nhất, nhưng màu sắc và hướng bắt đầu vẽ khác nhau.\n",
    "```python\n",
    "import turtle as t\n",
    "\n",
    "def square(d):\n",
    "    t.pendown()\n",
    "    for i in range(4):\n",
    "        t.fd(d)\n",
    "        t.left(90)\n",
    "    t.penup()\n",
    "       \n",
    "#setup\n",
    "t.shape('turtle')\n",
    "t.penup()\n",
    "t.seth(0)\n",
    "\n",
    "#main\n",
    "colors = ['red', 'orange', 'yellow', 'blue', 'green', 'purple']\n",
    "i = 0\n",
    "\n",
    "for alpha in range(0,360,15):\n",
    "    t.color(colors[i])\n",
    "    t.seth(alpha)\n",
    "    square(100)\n",
    "    i = (i+1)%len(colors)\n",
    "    \n",
    "t.done()\n",
    "```\n",
    "![ví dụ 3](./turtle/image/turtle3.png)"
   ]
  },
  {
   "cell_type": "markdown",
   "metadata": {},
   "source": [
    "**Vẽ hình tròn**\n",
    "```python\n",
    "circle(<radius>, extend, steps)\n",
    "```\n",
    "Phương thức `circle()` sử dụng để vẽ hình tròn, cung tròn và hình đa giác đều.\n",
    "- `radius`: bán kính.\n",
    "- `extend`: xác định giới hạn cung tròn, 180 sẽ vẽ nửa đường tròn.\n",
    "- `steps`: vẽ đa giác điều n đỉnh nội tiếp đường tròn bán kính `radius`.\n",
    "\n",
    "Lưu ý: Tâm của đường tròn không trùng với vị trí đứng của rùa, nó sẽ nằm trên đường thẳng đi qua rùa và vuông góc với vector chỉ hướng của rùa.\n"
   ]
  },
  {
   "cell_type": "markdown",
   "metadata": {},
   "source": [
    "```python\n",
    "for alpha in range(0,360,15):\n",
    "    t.pendown()\n",
    "    t.seth(alpha)\n",
    "    t.circle(100)\n",
    "```\n",
    "![Vẽ hình tròn lồng nhau](./turtle/image/turtle_circles.png)"
   ]
  },
  {
   "cell_type": "markdown",
   "metadata": {},
   "source": [
    "Vẽ hình ngũ giác đều\n",
    "```python\n",
    "t.seth(180)\n",
    "t.circle(100,steps=5)\n",
    "```\n",
    "![vẽ ngũ giác đều](./turtle/image/turtle_pentagon.png)"
   ]
  },
  {
   "cell_type": "markdown",
   "metadata": {},
   "source": [
    "## Tô màu\n",
    "```python\n",
    "color(<màu bút>, <màu nền>)\n",
    "```\n",
    "- Nếu tham số màu nền vắng mặt thì Python hiểu màu nền mà màu bút giống nhau.\n",
    "- `color()` không có tham số thì sẽ trả về `(màu nền, màu bút)`\n",
    "- Cách tô màu hình đang vẽ: chèn các lệnh vẽ vào giữa phương thức `begin_fill()` và `end_fill()`."
   ]
  },
  {
   "cell_type": "markdown",
   "metadata": {},
   "source": [
    "```python\n",
    "def polygon(d, n):\n",
    "    t.pendown()\n",
    "    for i in range(n):\n",
    "        t.fd(d)\n",
    "        t.left(360/n)\n",
    "    t.penup()\n",
    "    \n",
    "t.color('red', 'yellow')\n",
    "t.begin_fill()\n",
    "polygon(100,6)\n",
    "t.end_fill()\n",
    "```\n",
    "![Vẽ lục giác có tô màu](./turtle/image/turtle4.png)"
   ]
  },
  {
   "cell_type": "markdown",
   "metadata": {},
   "source": [
    "## Xây dựng ứng dụng đồ họa đơn giản\n",
    "Tính chất cơ bản: khả năng thực hiện các lệnh tương ứng với các sự kiện (ví dụ như nháy chuột) xảy ra trên màn hình đồ họa.\n",
    "\n",
    "Các yếu tố cần lưu ý:\n",
    "- Giao diện ứng dụng.\n",
    "- Cơ chế thực hiện các hàm số trả lời các sự kiện trên màn hình.\n",
    "- Cơ chế kết thúc ứng dụng.\n"
   ]
  },
  {
   "cell_type": "markdown",
   "metadata": {},
   "source": [
    "Đoạn mã dưới đây cho phép rùa sẽ di chuyển đến vị trí được click chuột và in ra tọa độ."
   ]
  },
  {
   "cell_type": "markdown",
   "metadata": {},
   "source": [
    "```python\n",
    "#setup\n",
    "t.setup()\n",
    "t.title('Mouse Click')\n",
    "t.showturtle() #Hiện rùa, hideturtle() để ẩn rùa\n",
    "t.shape('turtle')\n",
    "t.penup()\n",
    "t.seth(0)\n",
    "\n",
    "def printxy(x,y):\n",
    "    t.goto(x,y)\n",
    "    print(\"Co-ordinates:\",x,y)\n",
    "    \n",
    "t.onscreenclick(printxy)\n",
    "t.mainloop()\n",
    "```"
   ]
  },
  {
   "cell_type": "markdown",
   "metadata": {},
   "source": []
  }
 ],
 "metadata": {
  "kernelspec": {
   "display_name": "Python 3",
   "language": "python",
   "name": "python3"
  },
  "language_info": {
   "codemirror_mode": {
    "name": "ipython",
    "version": 3
   },
   "file_extension": ".py",
   "mimetype": "text/x-python",
   "name": "python",
   "nbconvert_exporter": "python",
   "pygments_lexer": "ipython3",
   "version": "3.9.10"
  }
 },
 "nbformat": 4,
 "nbformat_minor": 2
}
