{
 "cells": [
  {
   "cell_type": "markdown",
   "metadata": {},
   "source": [
    "# List\n",
    "```python\n",
    "lst = [value 1, value 2, ...]\n",
    "```\n",
    "`class 'List'`\n",
    "## Operators and methods of list\n",
    "`len(lst)` trả về độ dài list  \n",
    "`lst1 + lst2` nối tự nhiên 2 list  \n",
    "`lst * 2` cộng 2 lần list  \n",
    "`del lst[0]` xóa value 1  \n",
    "  \n",
    "`lst.append(<Object>)` bổ sung Object vào cuối list như 1 phần tử  \n",
    "`lst.clear()` xóa list thành rỗng  \n",
    "`lstcopy = lst.copy()` trả về bản sao list  \n",
    "`lst.extend(<Object>)` bổ sung Object vào cuối list như 1 mở rộng tự nhiên, thao tác như `+`, khác ở chỗ thực hiện trực tiếp trên lst chứ không tạo ra list mới  \n",
    "`lst.index(value)` trả chỉ số index đầu tiên trong list có value  \n",
    "`lst.insert(index, object)` chèn object trước vị trí index  \n",
    "`x = lst.pop()` xóa và lấy phần từ cuối trong lst (giống stack)  \n",
    "`lst.remove(value)` xóa phần tử đầu tiên có value  \n",
    "`lst.reverse()` đảo list  \n",
    "`lst.sort()` sắp xếp tăng dần theo giá trị phần tử  \n",
    "  \n",
    "## Kiểu dữ liệu tuần tự\n",
    "kiểu dữ liệu tuần tự: `list` `tuple` `range` `string`    \n",
    "- sử dụng `len()` để tính độ dài   \n",
    "- truy cập bằng vị trí `ds[k]`  \n",
    "- chỉ số đánh từ 0  \n",
    "  \n",
    "```python\n",
    "for item in KieuDuLieuTuanTu\n",
    "    câu lệnh lăp\n",
    "```\n",
    "## Tuple\n",
    "```python\n",
    "tpl = value1, value2, ...\n",
    "tpl = (value1, value2, ...)\n",
    "```\n",
    "không thể thay đổi dữ liệu trong Tuple  \n",
    "không thể `+` Tuple với List  \n",
    "dùng được `+`: nối 2 Tuple với nhau, `count` `index` cách dùng như List\n"
   ]
  },
  {
   "cell_type": "code",
   "execution_count": 11,
   "metadata": {},
   "outputs": [],
   "source": [
    "from IPython.core.interactiveshell import InteractiveShell\n",
    "InteractiveShell.ast_node_interactivity = \"all\"\n",
    "\n",
    "import builtins\n",
    "def input(prompt=''):\n",
    "    x = builtins.input(prompt)\n",
    "    print(prompt+x)\n",
    "    return x"
   ]
  },
  {
   "cell_type": "code",
   "execution_count": 27,
   "metadata": {},
   "outputs": [
    {
     "name": "stdout",
     "output_type": "stream",
     "text": [
      "10\n"
     ]
    },
    {
     "data": {
      "text/plain": [
       "[1, 1, 2, 3, 5, 8, 13, 21, 34, 55, 89]"
      ]
     },
     "execution_count": 27,
     "metadata": {},
     "output_type": "execute_result"
    }
   ],
   "source": [
    "#Thiết lập dãy số Fibonacci\n",
    "Fiboracci = [1,1]\n",
    "N = int(input())\n",
    "a = Fiboracci[0]\n",
    "b = Fiboracci[1]\n",
    "for i in range(2,N+1):\n",
    "    c = a + b\n",
    "    Fiboracci.extend([c])\n",
    "    a,b = b,c\n",
    "Fiboracci\n"
   ]
  },
  {
   "cell_type": "code",
   "execution_count": 31,
   "metadata": {},
   "outputs": [
    {
     "data": {
      "text/plain": [
       "[1, 5]"
      ]
     },
     "execution_count": 31,
     "metadata": {},
     "output_type": "execute_result"
    },
    {
     "data": {
      "text/plain": [
       "[-3, 0]"
      ]
     },
     "execution_count": 31,
     "metadata": {},
     "output_type": "execute_result"
    },
    {
     "data": {
      "text/plain": [
       "[]"
      ]
     },
     "execution_count": 31,
     "metadata": {},
     "output_type": "execute_result"
    }
   ],
   "source": [
    "#1 - 4\n",
    "A = []\n",
    "A.append([1,2,3])\n",
    "X = []\n",
    "X.append(1)\n",
    "X.append(5)\n",
    "X\n",
    "list(range(-3,3,3))\n",
    "list(range(-3))\n"
   ]
  },
  {
   "cell_type": "code",
   "execution_count": 39,
   "metadata": {},
   "outputs": [
    {
     "ename": "TypeError",
     "evalue": "'<' not supported between instances of 'str' and 'int'",
     "output_type": "error",
     "traceback": [
      "\u001b[1;31m---------------------------------------------------------------------------\u001b[0m",
      "\u001b[1;31mTypeError\u001b[0m                                 Traceback (most recent call last)",
      "Cell \u001b[1;32mIn[39], line 8\u001b[0m\n\u001b[0;32m      5\u001b[0m     \u001b[38;5;28;01mreturn\u001b[39;00m P\n\u001b[0;32m      7\u001b[0m A \u001b[38;5;241m=\u001b[39m [\u001b[38;5;241m9\u001b[39m,\u001b[38;5;241m1\u001b[39m,\u001b[38;5;241m15\u001b[39m,\u001b[38;5;241m0\u001b[39m,\u001b[38;5;124m'\u001b[39m\u001b[38;5;124mabc\u001b[39m\u001b[38;5;124m'\u001b[39m,\u001b[38;5;241m2\u001b[39m,\u001b[38;5;124m'\u001b[39m\u001b[38;5;124mde\u001b[39m\u001b[38;5;124m'\u001b[39m]\n\u001b[1;32m----> 8\u001b[0m \u001b[43mA\u001b[49m\u001b[38;5;241;43m.\u001b[39;49m\u001b[43msort\u001b[49m\u001b[43m(\u001b[49m\u001b[43m)\u001b[49m\n",
      "\u001b[1;31mTypeError\u001b[0m: '<' not supported between instances of 'str' and 'int'"
     ]
    }
   ],
   "source": [
    "def multi(start, stop):\n",
    "    P = 1\n",
    "    for i in range(start, stop):\n",
    "        P = P * i\n",
    "    return P\n",
    "\n",
    "A = [9,1,15,0,'abc',2,'de']\n",
    "A.sort()"
   ]
  },
  {
   "cell_type": "code",
   "execution_count": 36,
   "metadata": {},
   "outputs": [
    {
     "data": {
      "text/plain": [
       "[1, 3, 5]"
      ]
     },
     "execution_count": 36,
     "metadata": {},
     "output_type": "execute_result"
    }
   ],
   "source": [
    "#8\n",
    "def aliquot(n):\n",
    "    ans = []\n",
    "    if n < 1: return ans\n",
    "    for i in range(1,n//2+1):\n",
    "        if n % i == 0:\n",
    "            ans.append(i)\n",
    "    return ans\n",
    "aliquot(15)"
   ]
  },
  {
   "cell_type": "code",
   "execution_count": 45,
   "metadata": {},
   "outputs": [
    {
     "name": "stdout",
     "output_type": "stream",
     "text": [
      "Nhap n:5\n",
      "Nhap phtu a[0]:2\n",
      "Nhap phtu a[1]:3\n",
      "Nhap phtu a[2]:4\n",
      "Nhap phtu a[3]:5\n",
      "Nhap phtu a[4]:6\n",
      "a = [2, 3, 4, 5, 6]\n",
      "b = [2, 3, 5]\n"
     ]
    }
   ],
   "source": [
    "def prime(n):\n",
    "    if n < 2: return 0\n",
    "    for i in range(2,int(n**0.5+1)):\n",
    "        if n % i == 0: return 0\n",
    "    return 1\n",
    "def program():\n",
    "    n = int(input('Nhap n:'))\n",
    "    a = []\n",
    "    b = []\n",
    "    for i in range(n):\n",
    "        a.append(int(input(f'Nhap phtu a[{i}]:')))\n",
    "    for i in a:\n",
    "        if prime(i):\n",
    "            b.append(i)\n",
    "    print(f'a = {a}\\nb = {b}')\n",
    "    return\n",
    "program()\n",
    "    \n",
    "    "
   ]
  },
  {
   "cell_type": "code",
   "execution_count": 48,
   "metadata": {},
   "outputs": [
    {
     "name": "stdout",
     "output_type": "stream",
     "text": [
      "Nhap n:5\n",
      "Nhap phtu a[0]:1\n",
      "Nhap phtu a[1]:2\n",
      "Nhap phtu a[2]:3\n",
      "Nhap phtu a[3]:4\n",
      "Nhap phtu a[4]:5\n"
     ]
    },
    {
     "data": {
      "text/plain": [
       "15"
      ]
     },
     "execution_count": 48,
     "metadata": {},
     "output_type": "execute_result"
    }
   ],
   "source": [
    "def sumOfList():\n",
    "    n = int(input('Nhap n:'))\n",
    "    a = []\n",
    "    for i in range(n):\n",
    "        a.append(int(input(f'Nhap phtu a[{i}]:')))\n",
    "    sum = 0\n",
    "    for i in a:\n",
    "        sum += i\n",
    "    return sum\n",
    "sumOfList()\n",
    "    "
   ]
  },
  {
   "cell_type": "code",
   "execution_count": 51,
   "metadata": {},
   "outputs": [
    {
     "name": "stdout",
     "output_type": "stream",
     "text": [
      "5\n",
      "55 2.283333333333333 0.8\n"
     ]
    }
   ],
   "source": [
    "def sum():\n",
    "    n = int(input())\n",
    "    a = list(range(1,n+1))\n",
    "    sum1 = 0\n",
    "    sum2 = 0\n",
    "    sum3 = 0\n",
    "    for value in a:\n",
    "        sum1 += value**2\n",
    "        sum2 += 1/value\n",
    "        if value > 1:\n",
    "            sum3 += 1/((value - 1)* value)\n",
    "    print(sum1,sum2,sum3)\n",
    "    return\n",
    "sum()"
   ]
  },
  {
   "cell_type": "code",
   "execution_count": 1,
   "metadata": {},
   "outputs": [
    {
     "data": {
      "text/plain": [
       "[0, 1, 2, 3, 4, 5, 6, 7, 8, 9, 10, 11]"
      ]
     },
     "execution_count": 1,
     "metadata": {},
     "output_type": "execute_result"
    }
   ],
   "source": [
    "def func(A,B):\n",
    "    C = []\n",
    "    for i in range(len(A)):\n",
    "        C.append(A[i])\n",
    "        C.append(B[i])\n",
    "    return C\n",
    "func([0,2,4,6,8,10],[1,3,5,7,9,11])"
   ]
  },
  {
   "cell_type": "markdown",
   "metadata": {},
   "source": [
    "```python\n",
    "isinstance(object,classinfor)\n",
    "```\n",
    "hàm trả về `True` `False` kiểm ra `object` có thuộc lớp `classinfo` không"
   ]
  },
  {
   "cell_type": "code",
   "execution_count": 2,
   "metadata": {},
   "outputs": [
    {
     "data": {
      "text/plain": [
       "[1.2, 0, 15, 1, 40, 4.56]"
      ]
     },
     "execution_count": 2,
     "metadata": {},
     "output_type": "execute_result"
    }
   ],
   "source": [
    "def func(A):\n",
    "    return [x for x in A if isinstance(x,(int,float))]\n",
    "A = [1.2, 0, 'one', 15, 'A', 'B', 'c', 1, 40, 4.56, 'c']\n",
    "func(A)"
   ]
  },
  {
   "cell_type": "code",
   "execution_count": 9,
   "metadata": {},
   "outputs": [
    {
     "data": {
      "text/plain": [
       "['V', 'i', 'ệ', 't', ' ', 'N', 'a', 'm']"
      ]
     },
     "execution_count": 9,
     "metadata": {},
     "output_type": "execute_result"
    }
   ],
   "source": [
    "str = \"Việt Nam\"\n",
    "B = []\n",
    "B.extend(str)\n",
    "B"
   ]
  },
  {
   "cell_type": "code",
   "execution_count": 12,
   "metadata": {},
   "outputs": [
    {
     "name": "stdout",
     "output_type": "stream",
     "text": [
      "Nhập n:10\n"
     ]
    },
    {
     "data": {
      "text/plain": [
       "[1, 3, 5, 7, 9]"
      ]
     },
     "execution_count": 12,
     "metadata": {},
     "output_type": "execute_result"
    },
    {
     "data": {
      "text/plain": [
       "[0, 2, 4, 6, 8, 10]"
      ]
     },
     "execution_count": 12,
     "metadata": {},
     "output_type": "execute_result"
    }
   ],
   "source": [
    "n = int(input(\"Nhập n:\"))\n",
    "A = []; B = []\n",
    "for i in range(n+1):\n",
    "    if i % 2 == 1: A.append(i)\n",
    "    else: B.append(i)\n",
    "A\n",
    "B"
   ]
  },
  {
   "cell_type": "code",
   "execution_count": 13,
   "metadata": {},
   "outputs": [
    {
     "data": {
      "text/plain": [
       "[7, 9, 11, 13, 15, 11, 12]"
      ]
     },
     "execution_count": 13,
     "metadata": {},
     "output_type": "execute_result"
    }
   ],
   "source": [
    "def func(A,B):\n",
    "    C = []\n",
    "    if len(A) < len(B):\n",
    "        for i in range(len(A)):\n",
    "            C.append(A[i] + B[i])\n",
    "        for i in range(len(A),len(B)):\n",
    "            C.append(B[i])\n",
    "    elif len(A) == len(B):\n",
    "        for i in range(len(A)):\n",
    "            C.append(A[i] + B[i])\n",
    "    else:\n",
    "        for i in range(len(B)):\n",
    "            C.append(A[i] + B[i])\n",
    "        for i in range(len(B),len(A)):\n",
    "            C.append(A[i])\n",
    "    return C\n",
    "func([1,2,3,4,5],[6,7,8,9,10,11,12])\n",
    "    "
   ]
  },
  {
   "cell_type": "code",
   "execution_count": 38,
   "metadata": {},
   "outputs": [
    {
     "data": {
      "text/plain": [
       "8.0"
      ]
     },
     "execution_count": 38,
     "metadata": {},
     "output_type": "execute_result"
    },
    {
     "data": {
      "text/plain": [
       "0"
      ]
     },
     "execution_count": 38,
     "metadata": {},
     "output_type": "execute_result"
    },
    {
     "data": {
      "text/plain": [
       "([1, 1.5, 2, 3.5], ['one', 'vietnam', 'three', 'Africa'])"
      ]
     },
     "execution_count": 38,
     "metadata": {},
     "output_type": "execute_result"
    }
   ],
   "source": [
    "def func_sum(A):\n",
    "    return sum(val for val in A if isinstance(val,(int,float))) \n",
    "def func_count(A):\n",
    "    return sum(isinstance(val, type('')) for val in A)\n",
    "def func(A):\n",
    "    B = []; C = []\n",
    "    for val in A:\n",
    "        if isinstance(val,(int,float)):\n",
    "            B.append(val)\n",
    "        elif isinstance(val,type('ha')):\n",
    "            C.append(val)\n",
    "    return B, C\n",
    "A = [1, 1.5, 'one', 'vietnam', 2, 'three', 'Africa', 3.5]\n",
    "func_sum(A)\n",
    "func_count(B)\n",
    "func(A)"
   ]
  },
  {
   "cell_type": "code",
   "execution_count": 42,
   "metadata": {},
   "outputs": [
    {
     "data": {
      "text/plain": [
       "[0, 'one', 1, 1.2, 'A', 'B', 'C', 4.56, 15, 50, 'C']"
      ]
     },
     "execution_count": 42,
     "metadata": {},
     "output_type": "execute_result"
    }
   ],
   "source": [
    "#20\n",
    "def general_sort(A):\n",
    "    for i in range(len(A)):\n",
    "        for j in range(len(A)):\n",
    "            if isinstance(A[i], (int, float)) and isinstance(A[j], (int, float)):\n",
    "                if A[i] < A[j]: A[i], A[j] = A[j], A[i]\n",
    "    return A\n",
    "general_sort([1.2, 'one', 0, 15, 'A', 'B', 'C', 1, 50, 4.56, 'C'])\n"
   ]
  },
  {
   "cell_type": "code",
   "execution_count": 43,
   "metadata": {},
   "outputs": [
    {
     "data": {
      "text/plain": [
       "[0, 'a', 'b', 'c', 1, 2, 3, 4, 5]"
      ]
     },
     "execution_count": 43,
     "metadata": {},
     "output_type": "execute_result"
    }
   ],
   "source": [
    "def insert_extend(A,B, index):\n",
    "    while index < len(B) - 1:\n",
    "        for val in B:\n",
    "            A.insert(index, val)\n",
    "            index += 1\n",
    "    return A\n",
    "insert_extend([0,1,2,3,4,5], ['a', 'b', 'c'],1)\n",
    "    "
   ]
  },
  {
   "cell_type": "code",
   "execution_count": 44,
   "metadata": {},
   "outputs": [
    {
     "data": {
      "text/plain": [
       "[2, 3, 4, 2, 34, 2]"
      ]
     },
     "execution_count": 44,
     "metadata": {},
     "output_type": "execute_result"
    }
   ],
   "source": [
    "def delete(A,k):\n",
    "    while A.count(k) != 0:\n",
    "        A.remove(k)\n",
    "    return A\n",
    "delete([1,2,3,4,1,2,34,1,2],1)"
   ]
  },
  {
   "cell_type": "code",
   "execution_count": 46,
   "metadata": {},
   "outputs": [
    {
     "data": {
      "text/plain": [
       "[100, 2, 3, 100, 2, 5, 6]"
      ]
     },
     "execution_count": 46,
     "metadata": {},
     "output_type": "execute_result"
    }
   ],
   "source": [
    "def program(A,k,m):\n",
    "    while A.count(k) != 0:\n",
    "        A[A.index(k)] = m\n",
    "    return A\n",
    "program([1,2,3,1,2,5,6],1,100)"
   ]
  },
  {
   "cell_type": "code",
   "execution_count": 47,
   "metadata": {},
   "outputs": [
    {
     "data": {
      "text/plain": [
       "[2, 'e', 1, 'd', 3, 'c', 2, 'b', 1, 'a']"
      ]
     },
     "execution_count": 47,
     "metadata": {},
     "output_type": "execute_result"
    }
   ],
   "source": [
    "def program(A,B):\n",
    "    C = []\n",
    "    while A != [] and B != []:\n",
    "        if A != []: C.append(A.pop())\n",
    "        if B != []: C.append(B.pop())\n",
    "    return C\n",
    "program([1,2,3,1,2],['a','b','c','d','e'])"
   ]
  },
  {
   "cell_type": "code",
   "execution_count": 53,
   "metadata": {},
   "outputs": [
    {
     "data": {
      "text/plain": [
       "[0, 0, 0, 0, 0, 1, 1, 1, 1, 1, 1, 1, 1, 1, 1]"
      ]
     },
     "execution_count": 53,
     "metadata": {},
     "output_type": "execute_result"
    },
    {
     "data": {
      "text/plain": [
       "5"
      ]
     },
     "execution_count": 53,
     "metadata": {},
     "output_type": "execute_result"
    }
   ],
   "source": [
    "m = 5 #5 so  0\n",
    "n = 10 #10 so 1\n",
    "A = [0]*m + [1]*n\n",
    "A\n",
    "m\n"
   ]
  },
  {
   "cell_type": "code",
   "execution_count": 55,
   "metadata": {},
   "outputs": [
    {
     "data": {
      "text/plain": [
       "[1, 2, 3, 4, 5]"
      ]
     },
     "execution_count": 55,
     "metadata": {},
     "output_type": "execute_result"
    },
    {
     "data": {
      "text/plain": [
       "[5, 4, 3, 2, 1]"
      ]
     },
     "execution_count": 55,
     "metadata": {},
     "output_type": "execute_result"
    }
   ],
   "source": [
    "A = [1,2,3,4,5]\n",
    "B = A.copy()\n",
    "B.reverse()\n",
    "A\n",
    "B\n"
   ]
  },
  {
   "cell_type": "code",
   "execution_count": 56,
   "metadata": {},
   "outputs": [
    {
     "data": {
      "text/plain": [
       "[1, 1, 1, 45, 3, 1]"
      ]
     },
     "execution_count": 56,
     "metadata": {},
     "output_type": "execute_result"
    }
   ],
   "source": [
    "import math\n",
    "\n",
    "\n",
    "def program(A,B):\n",
    "    C = []\n",
    "    for i in range(len(A)):\n",
    "        C.append(math.gcd(A[i],B[i]))\n",
    "    return C\n",
    "program([12,434,67,45,576,23], [23,4365,57,45,3,45])"
   ]
  }
 ],
 "metadata": {
  "kernelspec": {
   "display_name": "Python 3",
   "language": "python",
   "name": "python3"
  },
  "language_info": {
   "codemirror_mode": {
    "name": "ipython",
    "version": 3
   },
   "file_extension": ".py",
   "mimetype": "text/x-python",
   "name": "python",
   "nbconvert_exporter": "python",
   "pygments_lexer": "ipython3",
   "version": "3.9.10"
  }
 },
 "nbformat": 4,
 "nbformat_minor": 2
}
