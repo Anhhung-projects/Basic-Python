{
 "cells": [
  {
   "cell_type": "code",
   "execution_count": 14,
   "metadata": {},
   "outputs": [],
   "source": [
    "from IPython.core.interactiveshell import InteractiveShell\n",
    "InteractiveShell.ast_node_interactivity = \"all\"\n",
    "\n",
    "import builtins\n",
    "def input(prompt):\n",
    "    x = builtins.input(prompt)\n",
    "    print(prompt+x)\n",
    "    return x"
   ]
  },
  {
   "cell_type": "markdown",
   "metadata": {},
   "source": [
    "# String\n",
    "> - Thuộc dạng dữ liệu tuần tự --> dùng hàm `len()`, chỉ số và vùng chỉ số\n",
    "> - Không thể thực hiện thay đổi từng ký tự ('str' object dose not support item assignment), dùng được các phép toán + (nối 2 string) hoặc * với một số tự nhiên\n",
    "## ASCII - American Standard Code for Information InterChange\n",
    "- ASCII gốc có 256 ký tự, 128 ký tự đầu là các ký tự chuẩn, 128 sau là mở rộng\n",
    "- Ký tự điều khiển, không tương ứng và không thể hiện được trên màn hình [0,31] & 127\n",
    "- Các ký tự thực sự có mã hóa [32,126]\n",
    "- Số [48,57], chữ hoa [65,90], chữ thường [97,122]\n",
    "> Bảng mã ASCII ban đầu được gọi là Bảng kí tự 8 bit (256 ký tự), hiện đã được mở rộng lên 16 bit (2^16 = 65536 kí tự) gọi là bảng mã UNICODE (hỗ trợ hoàn toàn tiếng Việt)\n",
    " \n"
   ]
  },
  {
   "cell_type": "code",
   "execution_count": 8,
   "metadata": {},
   "outputs": [
    {
     "name": "stdout",
     "output_type": "stream",
     "text": [
      "\u0000 \n",
      "\u0001 \u0002 \u0003 \u0004 \u0005 \u0006 \u0007 \t \n",
      " \u000e \u000f \u0010 \u0011 \u0012 \u0013 \u0014 \u0015 \u0016 \u0017 \u0018 \u0019 \u001a \u001b \u001c \u001d \u001e \u001f   ! \" # $ % & ' ( ) * + , - . / 0 1 2 \n",
      "3 4 5 6 7 8 9 : ; < = > ? @ A B C D E F G H I J K L M N O P Q R S T U V W X Y Z [ \\ ] ^ _ ` a b c d \n",
      "e f g h i j k l m n o p q r s t u v w x y z { | } ~                         \n",
      "           ¡ ¢ £ ¤ ¥ ¦ § ¨ © ª « ¬ ­ ® ¯ ° ± ² ³ ´ µ ¶ · ¸ ¹ º » ¼ ½ ¾ ¿ À Á Â Ã Ä Å Æ Ç È \n",
      "É Ê Ë Ì Í Î Ï Ð Ñ Ò Ó Ô Õ Ö × Ø Ù Ú Û Ü Ý Þ ß à á â ã ä å æ ç è é ê ë ì í î ï ð ñ ò ó ô õ ö ÷ ø ù ú \n",
      "û ü ý þ ÿ "
     ]
    }
   ],
   "source": [
    "# hàm ORD(ký tự) - mã hóa \n",
    "# hàm CHR(số) - giải mã\n",
    "for i in range(256):\n",
    "    print(chr(i),end = ' ')\n",
    "    if i % 50 == 0:\n",
    "        print()"
   ]
  },
  {
   "cell_type": "markdown",
   "metadata": {},
   "source": [
    "## Phương thức tự động điều chỉnh và căng chỉnh xâu ký tự\n",
    "### Nhóm lệnh chữ hoa chữ thường\n",
    "`upper()` trả xâu tất cả ký tự in hoa  \n",
    "`lower()` trả xâu tất cả ký tự in thường  \n",
    "`capitalize()` chữ đầu xâu in hoa, còn lại in thường  \n",
    "`title()` chữ đầu mỗi từ in hoa, còn lại in thường  \n",
    "`swapcase()` chuyển hoa thành thường, thường thành hoa\n",
    "> Hàm chỉ đúng với xâu ký tự tiếng Anh, không đúng cho tiếng Việt\n"
   ]
  },
  {
   "cell_type": "code",
   "execution_count": 9,
   "metadata": {},
   "outputs": [
    {
     "data": {
      "text/plain": [
       "'LAST FRIDAY OVER 4 (FOUR) MILLION PEOPLE STRIKED FOR THE CLIMATE'"
      ]
     },
     "execution_count": 9,
     "metadata": {},
     "output_type": "execute_result"
    },
    {
     "data": {
      "text/plain": [
       "'last friday over 4 (four) million people striked for the climate'"
      ]
     },
     "execution_count": 9,
     "metadata": {},
     "output_type": "execute_result"
    },
    {
     "data": {
      "text/plain": [
       "'Last friday over 4 (four) million people striked for the climate'"
      ]
     },
     "execution_count": 9,
     "metadata": {},
     "output_type": "execute_result"
    },
    {
     "data": {
      "text/plain": [
       "'Last Friday Over 4 (Four) Million People Striked For The Climate'"
      ]
     },
     "execution_count": 9,
     "metadata": {},
     "output_type": "execute_result"
    },
    {
     "data": {
      "text/plain": [
       "'lAST fRIDAY OVER 4 (fOUR) MILLION PEOPLE STRIKED FOR THE climate'"
      ]
     },
     "execution_count": 9,
     "metadata": {},
     "output_type": "execute_result"
    }
   ],
   "source": [
    "s = 'Last Friday over 4 (Four) million people striked for the CLIMATE'\n",
    "s.upper()\n",
    "s.lower()\n",
    "s.capitalize()\n",
    "s.title()\n",
    "s.swapcase()"
   ]
  },
  {
   "cell_type": "markdown",
   "metadata": {},
   "source": [
    "### Nhóm lệnh điều chỉnh khoảng trống thừa\n",
    "`strip()` khoảng trống thừa đầu cuối  \n",
    "`lstrip()` khoảng trống thừa đầu  \n",
    "`rstrip()` khoảng trống thừa cuối  \n",
    "> Các lệnh cũng xóa dãy Escape giống như space\n"
   ]
  },
  {
   "cell_type": "code",
   "execution_count": 11,
   "metadata": {},
   "outputs": [
    {
     "data": {
      "text/plain": [
       "'Hello!'"
      ]
     },
     "execution_count": 11,
     "metadata": {},
     "output_type": "execute_result"
    },
    {
     "data": {
      "text/plain": [
       "'Hello!   \\n'"
      ]
     },
     "execution_count": 11,
     "metadata": {},
     "output_type": "execute_result"
    },
    {
     "data": {
      "text/plain": [
       "'   Hello!'"
      ]
     },
     "execution_count": 11,
     "metadata": {},
     "output_type": "execute_result"
    }
   ],
   "source": [
    "s = '   Hello!   \\n'\n",
    "s.strip()\n",
    "s.lstrip()\n",
    "s.rstrip()"
   ]
  },
  {
   "cell_type": "markdown",
   "metadata": {},
   "source": [
    "### Nhóm lệnh khác\n",
    "`count('ký tự', [start, end])` đếm số lần xuất hiện ký tự (không chồng lấn)  \n",
    "`find('ký tự', [start, end])` và `index('ký tự', [start, end])` đều trả về vị trí đầu tiên tìm thấy ký tự, nhưng không tìm thấy FIND trả về -1, INDEX báo lỗi, biến nhớ hệ thống `ValueError` nhận giá trị `substring not found`  \n",
    "\n",
    "`replace(old, new, [count = -1])` thay thế xâu con old thành new, với số lần count (-1: không giới hạn số lần)  \n",
    "`split([sep = none, maxsplit = -1])` tách xâu thành **Danh sách** xâu con. Mặc định danh sách bày là các từ đơn của xâu gốc sau khi loại bỏ các dấu space và dãy Escape thừa bên trong xâu  \n",
    "`<string kết nối>.join(dữ liệu tuần tự)` nối các phần tử cuả danh sách các dữ liệu string thành xâu  \n",
    "  \n",
    "`__repr()__` có ở mọi đối tượng trong Python. Trả xâu ký tự hình ảnh gốc của đối tượng"
   ]
  },
  {
   "cell_type": "code",
   "execution_count": 16,
   "metadata": {},
   "outputs": [
    {
     "data": {
      "text/plain": [
       "5"
      ]
     },
     "execution_count": 16,
     "metadata": {},
     "output_type": "execute_result"
    },
    {
     "data": {
      "text/plain": [
       "2"
      ]
     },
     "execution_count": 16,
     "metadata": {},
     "output_type": "execute_result"
    },
    {
     "data": {
      "text/plain": [
       "3"
      ]
     },
     "execution_count": 16,
     "metadata": {},
     "output_type": "execute_result"
    },
    {
     "data": {
      "text/plain": [
       "3"
      ]
     },
     "execution_count": 16,
     "metadata": {},
     "output_type": "execute_result"
    },
    {
     "data": {
      "text/plain": [
       "-1"
      ]
     },
     "execution_count": 16,
     "metadata": {},
     "output_type": "execute_result"
    },
    {
     "ename": "ValueError",
     "evalue": "substring not found",
     "output_type": "error",
     "traceback": [
      "\u001b[1;31m---------------------------------------------------------------------------\u001b[0m",
      "\u001b[1;31mValueError\u001b[0m                                Traceback (most recent call last)",
      "Cell \u001b[1;32mIn[16], line 9\u001b[0m\n\u001b[0;32m      7\u001b[0m s2\u001b[38;5;241m.\u001b[39mindex(\u001b[38;5;124m'\u001b[39m\u001b[38;5;124m12\u001b[39m\u001b[38;5;124m'\u001b[39m)\n\u001b[0;32m      8\u001b[0m s2\u001b[38;5;241m.\u001b[39mfind(\u001b[38;5;124m'\u001b[39m\u001b[38;5;124m123\u001b[39m\u001b[38;5;124m'\u001b[39m)\n\u001b[1;32m----> 9\u001b[0m \u001b[43ms2\u001b[49m\u001b[38;5;241;43m.\u001b[39;49m\u001b[43mindex\u001b[49m\u001b[43m(\u001b[49m\u001b[38;5;124;43m'\u001b[39;49m\u001b[38;5;124;43m123\u001b[39;49m\u001b[38;5;124;43m'\u001b[39;49m\u001b[43m)\u001b[49m\n",
      "\u001b[1;31mValueError\u001b[0m: substring not found"
     ]
    }
   ],
   "source": [
    "s1 = 'ababababab'\n",
    "s1.count('a')\n",
    "s1.count('aba')\n",
    "\n",
    "s2 = '001122334455'\n",
    "s2.find('12')\n",
    "s2.index('12')\n",
    "s2.find('123')\n",
    "s2.index('123')\n",
    "\n"
   ]
  },
  {
   "cell_type": "code",
   "execution_count": 3,
   "metadata": {},
   "outputs": [
    {
     "data": {
      "text/plain": [
       "'000ba'"
      ]
     },
     "execution_count": 3,
     "metadata": {},
     "output_type": "execute_result"
    },
    {
     "data": {
      "text/plain": [
       "'AbAbA'"
      ]
     },
     "execution_count": 3,
     "metadata": {},
     "output_type": "execute_result"
    },
    {
     "data": {
      "text/plain": [
       "'AbAba'"
      ]
     },
     "execution_count": 3,
     "metadata": {},
     "output_type": "execute_result"
    },
    {
     "data": {
      "text/plain": [
       "'Ababa'"
      ]
     },
     "execution_count": 3,
     "metadata": {},
     "output_type": "execute_result"
    }
   ],
   "source": [
    "s = 'ababa'\n",
    "s.replace('aba','000')\n",
    "s.replace('a','A')\n",
    "s.replace('a','A',2)\n",
    "s.replace('a','A',1)"
   ]
  },
  {
   "cell_type": "code",
   "execution_count": 9,
   "metadata": {},
   "outputs": [
    {
     "data": {
      "text/plain": [
       "['Hà', 'Nội', 'là', 'thủ', 'đô', 'của', 'nước', 'Việt', 'Nam']"
      ]
     },
     "execution_count": 9,
     "metadata": {},
     "output_type": "execute_result"
    },
    {
     "data": {
      "text/plain": [
       "'Hà-Nội-là-thủ-đô-của-nước-Việt-Nam'"
      ]
     },
     "execution_count": 9,
     "metadata": {},
     "output_type": "execute_result"
    },
    {
     "data": {
      "text/plain": [
       "['Hà',\n",
       " '',\n",
       " 'Nội',\n",
       " 'là',\n",
       " 'thủ',\n",
       " '',\n",
       " '',\n",
       " '',\n",
       " 'đô',\n",
       " '',\n",
       " '',\n",
       " 'của',\n",
       " 'nước',\n",
       " '',\n",
       " '',\n",
       " 'Việt',\n",
       " '',\n",
       " 'Nam',\n",
       " '',\n",
       " '',\n",
       " '']"
      ]
     },
     "execution_count": 9,
     "metadata": {},
     "output_type": "execute_result"
    },
    {
     "data": {
      "text/plain": [
       "['Hà', '', 'Nội', 'là', 'thủ    đô   của nước   Việt  Nam   ']"
      ]
     },
     "execution_count": 9,
     "metadata": {},
     "output_type": "execute_result"
    },
    {
     "data": {
      "text/plain": [
       "['Hà', 'Nội', 'là', 'thủ', 'đô   của nước   Việt  Nam   ']"
      ]
     },
     "execution_count": 9,
     "metadata": {},
     "output_type": "execute_result"
    }
   ],
   "source": [
    "s = 'Hà  Nội là thủ    đô   của nước   Việt  Nam   '\n",
    "s.split()\n",
    "A = s.split()\n",
    "'-'.join(A)\n",
    "s.split(' ')\n",
    "s.split(' ',maxsplit = 4)\n",
    "s.split(maxsplit = 4)"
   ]
  },
  {
   "cell_type": "code",
   "execution_count": 11,
   "metadata": {},
   "outputs": [
    {
     "name": "stdout",
     "output_type": "stream",
     "text": [
      "Nhap xau:     Hà Nội   là  thủ  đô của    Việt   Nam\n",
      "Xau sau khi sua loi la: Hà Nội là thủ đô của Việt Nam\n"
     ]
    }
   ],
   "source": [
    "def fixTyping(s):\n",
    "    return ' '.join(s.split())\n",
    "\n",
    "s = input(\"Nhap xau: \")\n",
    "print('Xau sau khi sua loi la:',fixTyping(s))"
   ]
  },
  {
   "cell_type": "code",
   "execution_count": 12,
   "metadata": {},
   "outputs": [
    {
     "name": "stdout",
     "output_type": "stream",
     "text": [
      "Nhập bộ 3 a,b,c ngăn cách nhau bởi space:3 3.5 12.67\n",
      "3 + 3.5 + 12.67 = 19.17\n"
     ]
    }
   ],
   "source": [
    "#Nhập nhiều giá trị trên một dòng\n",
    "s = input('Nhập bộ 3 a,b,c ngăn cách nhau bởi space:')\n",
    "a1,b1,c1 = s.split()\n",
    "a,b,c = eval(a1), eval(b1), eval(c1)\n",
    "print(f'{a} + {b} + {c} = {a+b+c}')\n"
   ]
  },
  {
   "cell_type": "code",
   "execution_count": 15,
   "metadata": {},
   "outputs": [
    {
     "data": {
      "text/plain": [
       "'[1, 2]'"
      ]
     },
     "execution_count": 15,
     "metadata": {},
     "output_type": "execute_result"
    },
    {
     "data": {
      "text/plain": [
       "\"'Hà Nội là thủ đô'\""
      ]
     },
     "execution_count": 15,
     "metadata": {},
     "output_type": "execute_result"
    },
    {
     "data": {
      "text/plain": [
       "'False'"
      ]
     },
     "execution_count": 15,
     "metadata": {},
     "output_type": "execute_result"
    },
    {
     "data": {
      "text/plain": [
       "'3.5999999999999996'"
      ]
     },
     "execution_count": 15,
     "metadata": {},
     "output_type": "execute_result"
    }
   ],
   "source": [
    "#__repr__()\n",
    "a = [1,2]\n",
    "b = 'Hà Nội là \\\n",
    "thủ đô'\n",
    "c = 12 < 6\n",
    "d = 12*0.3\n",
    "a.__repr__()\n",
    "b.__repr__()\n",
    "c.__repr__()\n",
    "d.__repr__()"
   ]
  },
  {
   "cell_type": "markdown",
   "metadata": {},
   "source": [
    "## Format\n",
    "- Các vị trí {} trong format được gọi là **field** (trường), đóng vai trò \"hộp giữ chỗ\" để thay thế dữ liệu thông qua hàm format()\n",
    "- Tham số hàm format() phải nhiều hơn hoặc bằng {}\n",
    "- **Trong {} không được có space thừa, thông tin ghi bên trong field phải được mô tả tuyệt đối chính xác**\n",
    "- Nếu có dùng chỉ số phải dùng cho tất cả {}\n",
    "- Cú pháp đầy đủ `<Field> = {Chỉ số:Chỉ lệnh}`\n",
    "- Dạng thiếu `<Field> = {}` `<Field> = {Chỉ số}` `<Field> = {:Chỉ lệnh}`\n",
    "- `<Field> = {:5}` quy định khoảng thống thể hiện, ví dụ ở đây là 5, python tự căn chỉnh, số căng phải, xâu ký tự căng trái\n",
    "- `{:=5}` căng đều, `^` căng giữa, `>` căng phải, `<` căng trái. `char` phía trước ký tự căng chỉnh thì sẽ thay thế `space` thành `char` đó. **Chỉ dùng khi có quy định khoảng trống**\n",
    "- `<Field> = {Chỉ số:<width>.<p>}` trong đó `.p` quy định số thập phân thể hiện\n",
    "- Dạng 0.xxx thì p = số các số sau dấu phẩy. Lớn hơn 1 thì p = tổng số ở trước và sau dấu phẩy\n",
    "- Chỉ lệnh # hash `{:#10:5}` điều thêm 0 cho đủ số thập phân thể hiện (=5)\n",
    "- Cú pháp hoàn chỉnh của chỉ lệnh liên quan đến căng chỉnh:  \n",
    "`<Field> = {<Chỉ số>:<ký tự><căng hàng><#><width>.<p><type>}` trong đó type:\n",
    "- - `b` biểu diễn nhị phân\n",
    "- - `c` giải mã ứng với ASCII\n",
    "- - `d` biểu diễn số nguyên\n",
    "- - `f` số thập phân\n",
    "- - `e` số thập phân dạng lũy thừa e\n",
    "\n"
   ]
  },
  {
   "cell_type": "code",
   "execution_count": 7,
   "metadata": {},
   "outputs": [
    {
     "data": {
      "text/plain": [
       "'Đây là 2 số 11 22. Tổng 11 và 22 la 33'"
      ]
     },
     "execution_count": 7,
     "metadata": {},
     "output_type": "execute_result"
    }
   ],
   "source": [
    "m = 11\n",
    "n = 22\n",
    "\"Đây là 2 số {0} {1}. Tổng {0} và {1} la {2}\".format(m, n, m+n)"
   ]
  },
  {
   "cell_type": "code",
   "execution_count": 13,
   "metadata": {},
   "outputs": [
    {
     "name": "stdout",
     "output_type": "stream",
     "text": [
      "  1    235   33  \n",
      " 11    12    155 \n",
      "3542    2    45  \n"
     ]
    }
   ],
   "source": [
    "s = '{:^5} {:^5} {:^5}'\n",
    "A = [[1,235,33],[11,12,155],[3542,2,45]]\n",
    "for i in A: \n",
    "    print(s.format(i[0],i[1],i[2]))\n"
   ]
  },
  {
   "cell_type": "code",
   "execution_count": 15,
   "metadata": {},
   "outputs": [
    {
     "data": {
      "text/plain": [
       "'      0.12     12.500'"
      ]
     },
     "execution_count": 15,
     "metadata": {},
     "output_type": "execute_result"
    }
   ],
   "source": [
    "s = '{:10.5} {:#10.5}'\n",
    "s.format(0.12, 12.5)"
   ]
  },
  {
   "cell_type": "code",
   "execution_count": 29,
   "metadata": {},
   "outputs": [
    {
     "name": "stdout",
     "output_type": "stream",
     "text": [
      "     Họ và Tên      | Giới tính  | Điểm \n",
      "   Hoàng Anh Hùng        Nam       9.80 \n",
      "   Hoàng Khánh Vy         Nữ      10.00 \n",
      "     Phương Ly            Nữ       5.50 \n",
      "  Trần Trung Quân        Nam       2.34 \n"
     ]
    }
   ],
   "source": [
    "#Sử dụng f-string\n",
    "s1 = 'Họ và Tên'\n",
    "s2 = 'Giới tính'\n",
    "s3 = 'Điểm'\n",
    "s = f'{s1:^20}|{s2:^12}|{s3:^6}'\n",
    "print(s)\n",
    "ds = [['Hoàng Anh Hùng','Nam',9.8],['Hoàng Khánh Vy','Nữ',10],['Phương Ly','Nữ',5.5],['Trần Trung Quân','Nam',2.34]]\n",
    "for name,sex,score in ds:\n",
    "    s = f'{name:^20} {sex:^12} {score:^6.2f}'\n",
    "    print(s)"
   ]
  },
  {
   "cell_type": "markdown",
   "metadata": {},
   "source": [
    "# Bài tập"
   ]
  },
  {
   "cell_type": "code",
   "execution_count": 33,
   "metadata": {},
   "outputs": [
    {
     "data": {
      "text/plain": [
       "'maN tệiV'"
      ]
     },
     "execution_count": 33,
     "metadata": {},
     "output_type": "execute_result"
    },
    {
     "name": "stdout",
     "output_type": "stream",
     "text": [
      "H N Đ N C T \n"
     ]
    },
    {
     "data": {
      "text/plain": [
       "'gfedcb'"
      ]
     },
     "execution_count": 33,
     "metadata": {},
     "output_type": "execute_result"
    },
    {
     "data": {
      "text/plain": [
       "'gfedcba'"
      ]
     },
     "execution_count": 33,
     "metadata": {},
     "output_type": "execute_result"
    }
   ],
   "source": [
    "s = 'Việt Nam'\n",
    "s[ : : -1]\n",
    "mag = 'Hà Nội Đà Nẵng Cần Thơ'\n",
    "for i in mag.split():\n",
    "    print(i[0], end = ' ')\n",
    "print()\n",
    "s1 = 'abcdefg'\n",
    "s1[-1:0:-1]\n",
    "s1[-1: :-1]"
   ]
  },
  {
   "cell_type": "code",
   "execution_count": 6,
   "metadata": {},
   "outputs": [
    {
     "data": {
      "text/plain": [
       "[0, 1, 5, 2, 0, 2, 0]"
      ]
     },
     "execution_count": 6,
     "metadata": {},
     "output_type": "execute_result"
    }
   ],
   "source": [
    "#5\n",
    "s = '01-thang-5-nam 2020'\n",
    "A = []\n",
    "for char in s:\n",
    "    if char in [str(x) for x in range(10)]:\n",
    "        A.append(int(char))\n",
    "A"
   ]
  },
  {
   "cell_type": "code",
   "execution_count": 8,
   "metadata": {},
   "outputs": [
    {
     "data": {
      "text/plain": [
       "2"
      ]
     },
     "execution_count": 8,
     "metadata": {},
     "output_type": "execute_result"
    }
   ],
   "source": [
    "#6\n",
    "s = 'Ha   Noi    '\n",
    "len(s.split())"
   ]
  },
  {
   "cell_type": "code",
   "execution_count": 10,
   "metadata": {},
   "outputs": [
    {
     "data": {
      "text/plain": [
       "'Bui'"
      ]
     },
     "execution_count": 10,
     "metadata": {},
     "output_type": "execute_result"
    }
   ],
   "source": [
    "#7\n",
    "S = \"   Bui   Viet  Ha\"\n",
    "S = S.strip()\n",
    "S1 = S[ :S.find(\" \")]\n",
    "S1"
   ]
  },
  {
   "cell_type": "code",
   "execution_count": 11,
   "metadata": {},
   "outputs": [
    {
     "data": {
      "text/plain": [
       "['Bui', 'Viet', 'Ha']"
      ]
     },
     "execution_count": 11,
     "metadata": {},
     "output_type": "execute_result"
    },
    {
     "data": {
      "text/plain": [
       "['Ha', 'Viet', 'Bui']"
      ]
     },
     "execution_count": 11,
     "metadata": {},
     "output_type": "execute_result"
    },
    {
     "data": {
      "text/plain": [
       "'Ha Viet Bui'"
      ]
     },
     "execution_count": 11,
     "metadata": {},
     "output_type": "execute_result"
    },
    {
     "data": {
      "text/plain": [
       "'Ha'"
      ]
     },
     "execution_count": 11,
     "metadata": {},
     "output_type": "execute_result"
    }
   ],
   "source": [
    "#8\n",
    "S = 'Bui Viet Ha'\n",
    "A = S.split()\n",
    "A\n",
    "A = A[ : :-1]\n",
    "A\n",
    "S1 = ' '.join(A)\n",
    "S1\n",
    "S2 = S1[0:S1.find(' ')]\n",
    "S2"
   ]
  },
  {
   "cell_type": "code",
   "execution_count": 12,
   "metadata": {},
   "outputs": [
    {
     "ename": "TypeError",
     "evalue": "ord() expected a character, but string of length 3 found",
     "output_type": "error",
     "traceback": [
      "\u001b[1;31m---------------------------------------------------------------------------\u001b[0m",
      "\u001b[1;31mTypeError\u001b[0m                                 Traceback (most recent call last)",
      "Cell \u001b[1;32mIn[12], line 1\u001b[0m\n\u001b[1;32m----> 1\u001b[0m \u001b[38;5;28;43mord\u001b[39;49m\u001b[43m(\u001b[49m\u001b[38;5;124;43m'\u001b[39;49m\u001b[38;5;124;43mABC\u001b[39;49m\u001b[38;5;124;43m'\u001b[39;49m\u001b[43m)\u001b[49m\n",
      "\u001b[1;31mTypeError\u001b[0m: ord() expected a character, but string of length 3 found"
     ]
    }
   ],
   "source": [
    "ord('ABC')"
   ]
  },
  {
   "cell_type": "code",
   "execution_count": 13,
   "metadata": {},
   "outputs": [
    {
     "data": {
      "text/plain": [
       "'abvcfh'"
      ]
     },
     "execution_count": 13,
     "metadata": {},
     "output_type": "execute_result"
    }
   ],
   "source": [
    "s = 'ab2vc4f7h8'\n",
    "ans = ''\n",
    "for ch in s:\n",
    "    if not (ch >= '0' and ch <= '9'):\n",
    "        ans += ch\n",
    "ans"
   ]
  },
  {
   "cell_type": "code",
   "execution_count": 18,
   "metadata": {},
   "outputs": [
    {
     "data": {
      "text/plain": [
       "7"
      ]
     },
     "execution_count": 18,
     "metadata": {},
     "output_type": "execute_result"
    },
    {
     "data": {
      "text/plain": [
       "'Ha Noi thu do cua Viet Nam'"
      ]
     },
     "execution_count": 18,
     "metadata": {},
     "output_type": "execute_result"
    }
   ],
   "source": [
    "def countWord(s):\n",
    "    return len(s.split())\n",
    "def fullstrip(s):\n",
    "    return ' '.join(s.split())\n",
    "\n",
    "countWord('   Ha   Noi    thu do cua  Viet   Nam  ')\n",
    "fullstrip('   Ha   Noi    thu do cua  Viet   Nam  ')"
   ]
  },
  {
   "cell_type": "code",
   "execution_count": 19,
   "metadata": {},
   "outputs": [
    {
     "data": {
      "text/plain": [
       "'Binh'"
      ]
     },
     "execution_count": 19,
     "metadata": {},
     "output_type": "execute_result"
    }
   ],
   "source": [
    "def TachTen(s):\n",
    "    A = s.split()\n",
    "    A = A[::-1]\n",
    "    return A[0]\n",
    "name = 'Nguyen Quang Binh'\n",
    "TachTen(name)\n",
    "    "
   ]
  },
  {
   "cell_type": "code",
   "execution_count": 24,
   "metadata": {},
   "outputs": [
    {
     "name": "stdout",
     "output_type": "stream",
     "text": [
      "Nhap xau:day la 123 va 12345\n"
     ]
    },
    {
     "data": {
      "text/plain": [
       "8"
      ]
     },
     "execution_count": 24,
     "metadata": {},
     "output_type": "execute_result"
    }
   ],
   "source": [
    "def countNumber(s):\n",
    "    count = 0\n",
    "    for ch in s:\n",
    "        if ch >= '0' and ch <= '9': count += 1\n",
    "    return count\n",
    "\n",
    "s = input(\"Nhap xau:\")\n",
    "countNumber(s)"
   ]
  },
  {
   "cell_type": "code",
   "execution_count": 23,
   "metadata": {},
   "outputs": [
    {
     "data": {
      "text/plain": [
       "'Ejkềp\"mjw\"CVM\"Xkỉv\"Dằe'"
      ]
     },
     "execution_count": 23,
     "metadata": {},
     "output_type": "execute_result"
    }
   ],
   "source": [
    "sin = 'Chiến khu ATK Việt Bắc'\n",
    "sout = ''\n",
    "for ch in sin:\n",
    "    sout = sout + chr(ord(ch) + 2)\n",
    "sout"
   ]
  },
  {
   "cell_type": "code",
   "execution_count": 26,
   "metadata": {},
   "outputs": [
    {
     "data": {
      "text/plain": [
       "'Chiến khu ATK Việt Bắc'"
      ]
     },
     "execution_count": 26,
     "metadata": {},
     "output_type": "execute_result"
    }
   ],
   "source": [
    "sin = 'Ejkềp\"mjw\"CVM\"Xkỉv\"Dằe'\n",
    "sout = ''\n",
    "for ch in sin:\n",
    "    sout = sout + chr(ord(ch) - 2)\n",
    "sout"
   ]
  },
  {
   "cell_type": "code",
   "execution_count": 27,
   "metadata": {},
   "outputs": [
    {
     "data": {
      "text/plain": [
       "'Ejkềp mjw CVM Xkỉv Dằe'"
      ]
     },
     "execution_count": 27,
     "metadata": {},
     "output_type": "execute_result"
    }
   ],
   "source": [
    "sin = 'Chiến khu ATK Việt Bắc'\n",
    "sout = ''\n",
    "for ch in sin:\n",
    "    if ch == ' ':\n",
    "        sout += ' '\n",
    "    else:\n",
    "        sout = sout + chr(ord(ch) + 2)\n",
    "sout"
   ]
  },
  {
   "cell_type": "code",
   "execution_count": 29,
   "metadata": {},
   "outputs": [
    {
     "data": {
      "text/plain": [
       "'Nội'"
      ]
     },
     "execution_count": 29,
     "metadata": {},
     "output_type": "execute_result"
    },
    {
     "data": {
      "text/plain": [
       "'Nam'"
      ]
     },
     "execution_count": 29,
     "metadata": {},
     "output_type": "execute_result"
    },
    {
     "data": {
      "text/plain": [
       "''"
      ]
     },
     "execution_count": 29,
     "metadata": {},
     "output_type": "execute_result"
    }
   ],
   "source": [
    "#18\n",
    "def component(s,k):\n",
    "    a = s.split()\n",
    "    if k > len(a): return ''\n",
    "    return a[k-1]\n",
    "\n",
    "s = 'Hà Nội là thủ đô của Việt Nam'\n",
    "component(s,2)\n",
    "component(s,8)\n",
    "component(s,9)"
   ]
  },
  {
   "cell_type": "code",
   "execution_count": 34,
   "metadata": {},
   "outputs": [
    {
     "name": "stdout",
     "output_type": "stream",
     "text": [
      "Nhập xâu:hd729*^*&#n fn 132ppl'[\n"
     ]
    },
    {
     "data": {
      "text/plain": [
       "8"
      ]
     },
     "execution_count": 34,
     "metadata": {},
     "output_type": "execute_result"
    },
    {
     "name": "stdout",
     "output_type": "stream",
     "text": [
      "*^*&#  '["
     ]
    },
    {
     "data": {
      "text/plain": [
       "9"
      ]
     },
     "execution_count": 34,
     "metadata": {},
     "output_type": "execute_result"
    }
   ],
   "source": [
    "#19 20\n",
    "def countEngChars(s):\n",
    "    count = 0\n",
    "    for ch in s:\n",
    "        if (ch >= 'a' and ch <= 'z') or (ch >= 'A' and ch <= 'Z'):\n",
    "            count += 1\n",
    "    return count\n",
    "def countSymbols(s):\n",
    "    count = 0\n",
    "    for ch in s:\n",
    "        if (ch < 'a' or ch > 'z') and (ch < 'A' or ch > 'Z') and (ch < '0' or ch > '9'):\n",
    "            count += 1\n",
    "    return count\n",
    "s = input('Nhập xâu:')\n",
    "countEngChars(s)\n",
    "countSymbols(s)"
   ]
  },
  {
   "cell_type": "code",
   "execution_count": 8,
   "metadata": {},
   "outputs": [
    {
     "data": {
      "text/plain": [
       "True"
      ]
     },
     "execution_count": 8,
     "metadata": {},
     "output_type": "execute_result"
    },
    {
     "data": {
      "text/plain": [
       "5"
      ]
     },
     "execution_count": 8,
     "metadata": {},
     "output_type": "execute_result"
    },
    {
     "data": {
      "text/plain": [
       "3"
      ]
     },
     "execution_count": 8,
     "metadata": {},
     "output_type": "execute_result"
    }
   ],
   "source": [
    "def check1(s1, s2):\n",
    "    if s1.find(s2) != -1: return True\n",
    "    return False\n",
    "def count1(s1, s2):\n",
    "    count = 0\n",
    "    if check1(s1, s2):\n",
    "        ls1 = len(s1)\n",
    "        ls2 = len(s2)\n",
    "        for i in range(ls1 - ls2 + 1):\n",
    "            if s1[i:i + ls2] == s2:\n",
    "                count += 1\n",
    "    return count\n",
    "        \n",
    "def count2(s1, s2):\n",
    "    if check1(s1,s2):\n",
    "        return s1.count(s2)\n",
    "    return 0\n",
    "s1 = 'abababababa'\n",
    "s2 = 'aba'\n",
    "check1(s1,s2)\n",
    "count1(s1, s2)\n",
    "count2(s1, s2)\n"
   ]
  },
  {
   "cell_type": "code",
   "execution_count": 9,
   "metadata": {},
   "outputs": [
    {
     "data": {
      "text/plain": [
       "'gnuH hnA gnaoH'"
      ]
     },
     "execution_count": 9,
     "metadata": {},
     "output_type": "execute_result"
    }
   ],
   "source": [
    "s = 'Hoang Anh Hung'\n",
    "s[::-1]"
   ]
  },
  {
   "cell_type": "code",
   "execution_count": 5,
   "metadata": {},
   "outputs": [
    {
     "data": {
      "text/plain": [
       "'Hoang Anh Hung depzai'"
      ]
     },
     "execution_count": 5,
     "metadata": {},
     "output_type": "execute_result"
    }
   ],
   "source": [
    "#23\n",
    "s1 = 'HagAhHn'\n",
    "s2 = 'on n ug depzai'\n",
    "s = ''\n",
    "if len(s1) > len(s2):\n",
    "    for i in range(len(s2)):\n",
    "        s += s1[i] + s2[i]\n",
    "    s += s1[len(s2):len(s1)]\n",
    "else:\n",
    "    for i in range(len(s1)) :\n",
    "        s += s1[i] + s2[i]\n",
    "    s += s2[len(s1):len(s2)]\n",
    "s\n"
   ]
  },
  {
   "cell_type": "code",
   "execution_count": 23,
   "metadata": {},
   "outputs": [
    {
     "name": "stdout",
     "output_type": "stream",
     "text": [
      "Nhap:,djfd0msfd\n",
      "0 False\n"
     ]
    }
   ],
   "source": [
    "s = input('Nhap:')\n",
    "s1 = s\n",
    "for ch in s1:\n",
    "    if ch < '0' or ch > '9':\n",
    "        s = s.replace(ch,'')\n",
    "if s == '': s = 0\n",
    "else: s = eval(s)\n",
    "check = True\n",
    "if s <= 1: check = False\n",
    "elif s == 2: check = True\n",
    "else:\n",
    "    for i in range(2,int(s**0.5+1)):\n",
    "        if s % i == 0: check = False\n",
    "print(s,check)\n",
    "\n"
   ]
  },
  {
   "cell_type": "code",
   "execution_count": 39,
   "metadata": {},
   "outputs": [
    {
     "name": "stdout",
     "output_type": "stream",
     "text": [
      "Nhap day nhi phan:0119sd\n",
      "khong phai xau nhi phan\n"
     ]
    }
   ],
   "source": [
    "def checkBinary(s):\n",
    "    for ch in s:\n",
    "        if ch != '0' and ch != '1': return False\n",
    "    return True\n",
    "s = input('Nhap day nhi phan:')\n",
    "if checkBinary(s):\n",
    "    ans = 0\n",
    "    k = 0\n",
    "    for i in range(len(s)-1,-1,-1):\n",
    "        ans += (2*int(s[i]))**k\n",
    "        k += 1\n",
    "    ans\n",
    "else: print('khong phai xau nhi phan')"
   ]
  },
  {
   "cell_type": "code",
   "execution_count": 42,
   "metadata": {},
   "outputs": [
    {
     "name": "stdout",
     "output_type": "stream",
     "text": [
      "1111011\n"
     ]
    }
   ],
   "source": [
    "#28\n",
    "n = 123\n",
    "s = '{:b}'.format(n)\n",
    "print(s)"
   ]
  },
  {
   "cell_type": "code",
   "execution_count": 51,
   "metadata": {},
   "outputs": [
    {
     "data": {
      "text/plain": [
       "True"
      ]
     },
     "execution_count": 51,
     "metadata": {},
     "output_type": "execute_result"
    },
    {
     "data": {
      "text/plain": [
       "1194687"
      ]
     },
     "execution_count": 51,
     "metadata": {},
     "output_type": "execute_result"
    }
   ],
   "source": [
    "def checkHex(s):\n",
    "    for ch in s:\n",
    "        if (ch < '0' or ch > '9') and (ch < 'A' or ch > 'F'):\n",
    "            return False\n",
    "    return True\n",
    "str = '123ABF'\n",
    "checkHex(str)\n",
    "if checkHex(str):\n",
    "    int(str,16)\n"
   ]
  },
  {
   "cell_type": "code",
   "execution_count": 1,
   "metadata": {},
   "outputs": [
    {
     "data": {
      "text/plain": [
       "'90080abcktyn'"
      ]
     },
     "execution_count": 1,
     "metadata": {},
     "output_type": "execute_result"
    }
   ],
   "source": [
    "#30\n",
    "str = input()\n",
    "ans = ''\n",
    "for s in str:\n",
    "    if (s >= '0' and s <= '9'):\n",
    "        ans += s\n",
    "        str = str.replace(s,'')\n",
    "ans += str\n",
    "ans"
   ]
  },
  {
   "cell_type": "code",
   "execution_count": 5,
   "metadata": {},
   "outputs": [
    {
     "data": {
      "text/plain": [
       "'Hoang Anh Hung'"
      ]
     },
     "execution_count": 5,
     "metadata": {},
     "output_type": "execute_result"
    }
   ],
   "source": [
    "str = 'Hoang Hung'\n",
    "st = ' Anh'\n",
    "k = 5\n",
    "str = str[:k] + st + str[k:]\n",
    "str"
   ]
  },
  {
   "cell_type": "code",
   "execution_count": 15,
   "metadata": {},
   "outputs": [
    {
     "name": "stdout",
     "output_type": "stream",
     "text": [
      "3\n",
      "họ - Bùi, đệm - Việt, tên - Hà\n",
      "2\n",
      "họ - Nguyễn, đệm không có, tên - Khang\n",
      "4\n",
      "họ - Bạch, đệm - Thị Thúy, tên - Hoa\n"
     ]
    }
   ],
   "source": [
    "def TachHoTen(name):\n",
    "    A = name.split()\n",
    "    print(len(A))\n",
    "    if len(A) == 2:\n",
    "        print(f'họ - {A[0]}, đệm không có, tên - {A[1]}')\n",
    "    else:\n",
    "        tenlot = ''\n",
    "        for val in A[1:len(A)-1]:\n",
    "            tenlot += val + ' '\n",
    "        tenlot = tenlot[:len(tenlot)-1]\n",
    "        print(f'họ - {A[0]}, đệm - {tenlot}, tên - {A[len(A)-1]}')\n",
    "        \n",
    "TachHoTen('Bùi Việt Hà')\n",
    "TachHoTen('Nguyễn Khang')\n",
    "TachHoTen('Bạch Thị Thúy Hoa')"
   ]
  },
  {
   "cell_type": "code",
   "execution_count": 2,
   "metadata": {},
   "outputs": [
    {
     "data": {
      "text/plain": [
       "'Hoang Anh Hung'"
      ]
     },
     "execution_count": 2,
     "metadata": {},
     "output_type": "execute_result"
    }
   ],
   "source": [
    "def XoaDauCachThua(name):\n",
    "    return ' '.join(name.split())\n",
    "\n",
    "XoaDauCachThua('   Hoang     Anh    Hung    ')"
   ]
  },
  {
   "cell_type": "code",
   "execution_count": 4,
   "metadata": {},
   "outputs": [
    {
     "data": {
      "text/plain": [
       "3"
      ]
     },
     "execution_count": 4,
     "metadata": {},
     "output_type": "execute_result"
    }
   ],
   "source": [
    "doc = 'Than em vua trang lai vua tron, ba chim bay noi voi nuoc non, nuoc non la hinh tron, em la em'\n",
    "str = 'em'\n",
    "doc.count(str)"
   ]
  },
  {
   "cell_type": "code",
   "execution_count": 22,
   "metadata": {},
   "outputs": [
    {
     "ename": "IndexError",
     "evalue": "string index out of range",
     "output_type": "error",
     "traceback": [
      "\u001b[1;31m---------------------------------------------------------------------------\u001b[0m",
      "\u001b[1;31mIndexError\u001b[0m                                Traceback (most recent call last)",
      "Cell \u001b[1;32mIn[22], line 4\u001b[0m\n\u001b[0;32m      2\u001b[0m i \u001b[38;5;241m=\u001b[39m \u001b[38;5;241m0\u001b[39m\n\u001b[0;32m      3\u001b[0m \u001b[38;5;28;01mwhile\u001b[39;00m i \u001b[38;5;241m<\u001b[39m \u001b[38;5;28mlen\u001b[39m(s)\u001b[38;5;241m+\u001b[39m\u001b[38;5;241m1\u001b[39m:\n\u001b[1;32m----> 4\u001b[0m     \u001b[38;5;28;01mwhile\u001b[39;00m s[i] \u001b[38;5;241m==\u001b[39m \u001b[43ms\u001b[49m\u001b[43m[\u001b[49m\u001b[43mi\u001b[49m\u001b[38;5;241;43m+\u001b[39;49m\u001b[38;5;241;43m1\u001b[39;49m\u001b[43m]\u001b[49m:\n\u001b[0;32m      5\u001b[0m         s \u001b[38;5;241m=\u001b[39m s\u001b[38;5;241m.\u001b[39mreplace(s[i]\u001b[38;5;241m*\u001b[39m\u001b[38;5;241m2\u001b[39m,s[i])\n\u001b[0;32m      6\u001b[0m     i \u001b[38;5;241m+\u001b[39m\u001b[38;5;241m=\u001b[39m \u001b[38;5;241m1\u001b[39m\n",
      "\u001b[1;31mIndexError\u001b[0m: string index out of range"
     ]
    }
   ],
   "source": [
    "s = 'aabbbccc'\n",
    "i = 0\n",
    "while i < len(s):\n",
    "    while s[i] == s[i+1]:\n",
    "        s = s.replace(s[i]*2,s[i])\n",
    "    i += 1\n",
    "s"
   ]
  },
  {
   "cell_type": "code",
   "execution_count": 16,
   "metadata": {},
   "outputs": [
    {
     "data": {
      "text/plain": [
       "'aa'"
      ]
     },
     "execution_count": 16,
     "metadata": {},
     "output_type": "execute_result"
    },
    {
     "data": {
      "text/plain": [
       "'b'"
      ]
     },
     "execution_count": 16,
     "metadata": {},
     "output_type": "execute_result"
    }
   ],
   "source": [
    "s = 'aab'\n",
    "st = 'a'\n",
    "st*2\n",
    "s.replace(st*2,'')\n"
   ]
  },
  {
   "cell_type": "code",
   "execution_count": 1,
   "metadata": {},
   "outputs": [
    {
     "name": "stdout",
     "output_type": "stream",
     "text": [
      "Ho ten                         Toan  Van\n",
      "Hoang Anh Hung                  3.5  4.2\n",
      "Hoang Quang huy                 6.4   10\n",
      "Phan Thanh Toan                 7.0  9.7\n"
     ]
    }
   ],
   "source": [
    "name = input('Nhap ho ten hoc sinh:')\n",
    "ds = []\n",
    "while name != '':\n",
    "    toan = input('Nhap diem mon toan:')\n",
    "    van = input('Nhap diem mon van:')\n",
    "    ds.append([name,toan,van])\n",
    "    name = input('Nhap ho ten hoc sinh')\n",
    "print('{:<30}{:>5}{:>5}'.format('Ho ten','Toan','Van'))\n",
    "for thtin in ds:\n",
    "    print('{:<30}{:>5}{:>5}'.format(thtin[0],thtin[1],thtin[2]))\n"
   ]
  },
  {
   "cell_type": "code",
   "execution_count": null,
   "metadata": {},
   "outputs": [],
   "source": [
    "def isSymmetry(st):\n",
    "    "
   ]
  }
 ],
 "metadata": {
  "kernelspec": {
   "display_name": "Python 3",
   "language": "python",
   "name": "python3"
  },
  "language_info": {
   "codemirror_mode": {
    "name": "ipython",
    "version": 3
   },
   "file_extension": ".py",
   "mimetype": "text/x-python",
   "name": "python",
   "nbconvert_exporter": "python",
   "pygments_lexer": "ipython3",
   "version": "3.9.10"
  }
 },
 "nbformat": 4,
 "nbformat_minor": 2
}
