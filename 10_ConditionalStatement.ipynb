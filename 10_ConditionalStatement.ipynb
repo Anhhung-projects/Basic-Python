{
 "cells": [
  {
   "cell_type": "code",
   "execution_count": 13,
   "metadata": {},
   "outputs": [],
   "source": [
    "from IPython.core.interactiveshell import InteractiveShell\n",
    "InteractiveShell.ast_node_interactivity = \"all\"\n",
    "\n",
    "import builtins\n",
    "def input(prompt=''):\n",
    "    x = builtins.input(prompt)\n",
    "    print(prompt+x)\n",
    "    return x"
   ]
  },
  {
   "cell_type": "markdown",
   "metadata": {},
   "source": [
    "# CÂU LỆNH ĐIỀU KIỆN\n",
    "## Nội dung bài học\n",
    "### 1. Kiểu dữ liệu bool"
   ]
  },
  {
   "cell_type": "code",
   "execution_count": 4,
   "metadata": {},
   "outputs": [
    {
     "data": {
      "text/plain": [
       "bool"
      ]
     },
     "execution_count": 4,
     "metadata": {},
     "output_type": "execute_result"
    },
    {
     "data": {
      "text/plain": [
       "bool"
      ]
     },
     "execution_count": 4,
     "metadata": {},
     "output_type": "execute_result"
    }
   ],
   "source": [
    "a = 1 < 2\n",
    "type(a)\n",
    "b = False\n",
    "type(b)"
   ]
  },
  {
   "cell_type": "code",
   "execution_count": 5,
   "metadata": {},
   "outputs": [
    {
     "data": {
      "text/plain": [
       "False"
      ]
     },
     "execution_count": 5,
     "metadata": {},
     "output_type": "execute_result"
    },
    {
     "data": {
      "text/plain": [
       "True"
      ]
     },
     "execution_count": 5,
     "metadata": {},
     "output_type": "execute_result"
    },
    {
     "data": {
      "text/plain": [
       "False"
      ]
     },
     "execution_count": 5,
     "metadata": {},
     "output_type": "execute_result"
    },
    {
     "data": {
      "text/plain": [
       "True"
      ]
     },
     "execution_count": 5,
     "metadata": {},
     "output_type": "execute_result"
    }
   ],
   "source": [
    "bool(0)\n",
    "bool(4)\n",
    "bool([])\n",
    "bool([1,2,3])"
   ]
  },
  {
   "cell_type": "markdown",
   "metadata": {},
   "source": [
    "|Giá trị|Đối tượng nhận giá trị logic tương ứng|\n",
    "|-|-|\n",
    "|False|Các đối tượng số nhận = 0, biểu thức nhận giá trị 0, list tuple rỗng, xâu kí tự rỗng, hàm số void hoặc trả lại giá trị bằng 0|\n",
    "|True|Các đối tượng khác 0, biểu thức nhận giá trị khác 0, list tuple không rỗng, xâu kí tự không rỗng, hàm sô trả về giá trị khác không|"
   ]
  },
  {
   "cell_type": "markdown",
   "metadata": {},
   "source": [
    "> Nếu coi mọi loaik, kiểu dữ liệu là một dạng của logic thì có thể thực hiện các phép toán logic (and or not) trên một lớp lớn các đối tượng dữ liệu khác nhau"
   ]
  },
  {
   "cell_type": "code",
   "execution_count": 6,
   "metadata": {},
   "outputs": [
    {
     "data": {
      "text/plain": [
       "True"
      ]
     },
     "execution_count": 6,
     "metadata": {},
     "output_type": "execute_result"
    },
    {
     "data": {
      "text/plain": [
       "False"
      ]
     },
     "execution_count": 6,
     "metadata": {},
     "output_type": "execute_result"
    },
    {
     "data": {
      "text/plain": [
       "True"
      ]
     },
     "execution_count": 6,
     "metadata": {},
     "output_type": "execute_result"
    }
   ],
   "source": [
    "bool (12+3 and [1,2,3])\n",
    "bool('abc' and 0)\n",
    "bool(not 0)"
   ]
  },
  {
   "cell_type": "markdown",
   "metadata": {},
   "source": [
    "*Một số ứng dụng*\n",
    "- cho trước một list A với các phần tử đa dạng khác nhau. cần loại bớt khỏi A các phần tử \"vô nghĩa\" (số 0, tuple rỗng, đối tượng None, xâu rỗng)"
   ]
  },
  {
   "cell_type": "code",
   "execution_count": 7,
   "metadata": {},
   "outputs": [
    {
     "data": {
      "text/plain": [
       "[1, 'one', [1, 2, 3], 'two', 'three', 20, 30, [0, 0], [None]]"
      ]
     },
     "execution_count": 7,
     "metadata": {},
     "output_type": "execute_result"
    }
   ],
   "source": [
    "A = [1, 0, None, 'one', '', (), [1,2,3], [], 'two', 'three', 20, 30, [0, 0], 0, [None]]\n",
    "B = []\n",
    "for item in A:\n",
    "    if item:\n",
    "        B.append(item)\n",
    "B"
   ]
  },
  {
   "cell_type": "markdown",
   "metadata": {},
   "source": [
    "- cho trước list A gồm các số khác nhau, tính trung bình cộng của các phần tử khác 0 của A"
   ]
  },
  {
   "cell_type": "code",
   "execution_count": 8,
   "metadata": {},
   "outputs": [
    {
     "data": {
      "text/plain": [
       "8.2875"
      ]
     },
     "execution_count": 8,
     "metadata": {},
     "output_type": "execute_result"
    }
   ],
   "source": [
    "A = [1, 5.3, 9+0, 0, 0, 12*6, 33-12*5, 0, 1, 2, 3]\n",
    "def avg(arr):\n",
    "    count = 0\n",
    "    sum = 0\n",
    "    for val in arr:\n",
    "        if val:\n",
    "            count += 1\n",
    "            sum += val\n",
    "    return sum/count\n",
    "\n",
    "avg(A)"
   ]
  },
  {
   "cell_type": "markdown",
   "metadata": {},
   "source": [
    "- cho trước list A gồm các số, trong các số này có thể cí nhiều số lặp lại giống nhau. yêu cầu loại các cặp số liền nhau giống nhau trong dãy trên."
   ]
  },
  {
   "cell_type": "code",
   "execution_count": 9,
   "metadata": {},
   "outputs": [
    {
     "data": {
      "text/plain": [
       "[0, 2, 1, 3, 8, 0, -2, 10]"
      ]
     },
     "execution_count": 9,
     "metadata": {},
     "output_type": "execute_result"
    }
   ],
   "source": [
    "A = [0,0,2,1,3,3,3,8,8,0,0,-2,-2,10,10,10,10]\n",
    "B = [A[0]]\n",
    "for i in range(1, len(A)):\n",
    "    if A[i] - A[i-1]:\n",
    "        B.append(A[i])\n",
    "B "
   ]
  },
  {
   "cell_type": "markdown",
   "metadata": {},
   "source": [
    "### 2. Biểu thức logic và các toán tử so sánh"
   ]
  },
  {
   "cell_type": "markdown",
   "metadata": {},
   "source": [
    "- python hỗ trợ so sánh bắc cầu"
   ]
  },
  {
   "cell_type": "code",
   "execution_count": 10,
   "metadata": {},
   "outputs": [
    {
     "name": "stdout",
     "output_type": "stream",
     "text": [
      "5 6 7 8 9 "
     ]
    }
   ],
   "source": [
    "for i in range(10):\n",
    "    if 5<= i <=9:\n",
    "        print(i, end=' ')\n",
    "        "
   ]
  },
  {
   "cell_type": "markdown",
   "metadata": {},
   "source": [
    "kết hợp các phép toán logic với các phép toán so sánh gộp cùng với tính chất có thể coi mọi đối tượng, biểu thức là logic sẽ làm cho python trở nên rất linh hoạt, đa dạng trong việc giải bài toán"
   ]
  },
  {
   "cell_type": "markdown",
   "metadata": {},
   "source": [
    "*Ví dụ minh họa*\n",
    "- kiểm tra năm nhuận"
   ]
  },
  {
   "cell_type": "code",
   "execution_count": 11,
   "metadata": {},
   "outputs": [
    {
     "data": {
      "text/plain": [
       "True"
      ]
     },
     "execution_count": 11,
     "metadata": {},
     "output_type": "execute_result"
    },
    {
     "data": {
      "text/plain": [
       "False"
      ]
     },
     "execution_count": 11,
     "metadata": {},
     "output_type": "execute_result"
    }
   ],
   "source": [
    "def kiemtra_nhuan(year) -> bool:\n",
    "    if year % 400 == 0 or (year % 4 == 0 and year % 100 != 0):\n",
    "        return True\n",
    "    return False\n",
    "\n",
    "kiemtra_nhuan(2020)\n",
    "kiemtra_nhuan(2022)"
   ]
  },
  {
   "cell_type": "markdown",
   "metadata": {},
   "source": [
    "- cho biết học lực của học sinh dựa vào điểm"
   ]
  },
  {
   "cell_type": "code",
   "execution_count": 12,
   "metadata": {},
   "outputs": [
    {
     "data": {
      "text/plain": [
       "'Học lực trung bình'"
      ]
     },
     "execution_count": 12,
     "metadata": {},
     "output_type": "execute_result"
    },
    {
     "data": {
      "text/plain": [
       "'Học sinh khá'"
      ]
     },
     "execution_count": 12,
     "metadata": {},
     "output_type": "execute_result"
    }
   ],
   "source": [
    "def hoc_luc(score):\n",
    "    if score < 3:\n",
    "        return 'Học sinh kém'\n",
    "    if  3 <= score < 5:\n",
    "        return 'Học lực yếu'\n",
    "    if 5 <= score < 7:\n",
    "        return 'Học lực trung bình'\n",
    "    if 7 <= score < 9:\n",
    "        return 'Học sinh khá'\n",
    "    if score >= 9:\n",
    "        return 'Học sinh giỏi'\n",
    "    \n",
    "hoc_luc(6)\n",
    "hoc_luc(8.5)"
   ]
  },
  {
   "cell_type": "markdown",
   "metadata": {},
   "source": [
    "### 3. Lệnh IF\n",
    "- cú pháp tổng quát của lệnh **if** trong python với cấu trúc rẽ nhiều nhánh:\n",
    "```python\n",
    "if <điều kiện>:\n",
    "    <Các câu lệnh>\n",
    "elif <điều kiện>\n",
    "    <các câu lệnh>\n",
    "elif ...\n",
    "else\n",
    "    <các câu lệnh>\n",
    "```"
   ]
  },
  {
   "cell_type": "markdown",
   "metadata": {},
   "source": [
    "### 4. Lệnh lặp WHILE\n",
    "```python\n",
    "while <điều kiện>:\n",
    "    <các lệnh lặp>\n",
    "else:\n",
    "    <các lệnh sau cùng>\n",
    "```\n",
    "- chương trình sẽ luôn kiểm tra <điều kiện>, nếu đúng thì thực hiện nhóm <các lệnh lặp> và quay lại kiểm tra <điều kiện>, nếu sai thì thực hiện <các lệnh sau cùng> và kết thúc lệnh"
   ]
  },
  {
   "cell_type": "code",
   "execution_count": 13,
   "metadata": {},
   "outputs": [
    {
     "name": "stdout",
     "output_type": "stream",
     "text": [
      "10\n",
      "9\n",
      "8\n",
      "7\n",
      "6\n",
      "5\n",
      "4\n",
      "3\n",
      "2\n",
      "1\n",
      "ket thuc\n"
     ]
    }
   ],
   "source": [
    "n = 10\n",
    "while n > 0:\n",
    "    print(n)\n",
    "    n -= 1\n",
    "else:\n",
    "    print('ket thuc')"
   ]
  },
  {
   "cell_type": "markdown",
   "metadata": {},
   "source": [
    "### 5. BREAK và CONTINUE\n",
    "- `break` chương trình kết thúc lệnh lặp hiện thời\n",
    "- `continue` chương trình kết thúc vòng lặp hiện tại và đến đầu vòng lặp tiếp theo  \n",
    "  \n",
    "*ví dụ minh họa*\n",
    "- chương trình yêu cầu nhập liên tục các số, sau đó in các số đó ra màn hình, chương trình dừng lại khi nhập số 0"
   ]
  },
  {
   "cell_type": "code",
   "execution_count": 14,
   "metadata": {},
   "outputs": [
    {
     "name": "stdout",
     "output_type": "stream",
     "text": [
      "Nhập số bất kỳ:0\n"
     ]
    }
   ],
   "source": [
    "while True:\n",
    "    x = eval(input('Nhập số bất kỳ:'))\n",
    "    if x:\n",
    "        print(x)\n",
    "    else:\n",
    "        break"
   ]
  },
  {
   "cell_type": "markdown",
   "metadata": {},
   "source": [
    "- nhập liên tục tên học sinh, chữ cái đầu tiên của mỗi từ phải in hoa. thông báo khi người dùng nhập sai để người dùng nhập lại (tên nhập sai sẽ không được cập nhật vào dữ liệu). chương trình dừng khi người dùng không nhập gì cả và bấm `Enter`"
   ]
  },
  {
   "cell_type": "code",
   "execution_count": 15,
   "metadata": {},
   "outputs": [
    {
     "name": "stdout",
     "output_type": "stream",
     "text": [
      "Nhập tên học sinh:\n",
      "Danh sách gồm 0 học sinh\n"
     ]
    }
   ],
   "source": [
    "def check_name(name) -> bool:\n",
    "    if name[0].islower():\n",
    "        return False\n",
    "    space_index = []\n",
    "    for i, char in enumerate(name):\n",
    "        if char == ' ':\n",
    "            space_index.append(i)\n",
    "    for index in space_index:\n",
    "        if name[index+1].islower():\n",
    "            return False\n",
    "    return True\n",
    "\n",
    "name_list = []\n",
    "while True:\n",
    "    name = input('Nhập tên học sinh:')\n",
    "    if not name:\n",
    "        break\n",
    "    elif check_name(name) == False:\n",
    "        print('Tên nhập sai cấu trúc (chữ cái đầu mỗi từ in hoa)')\n",
    "        continue\n",
    "    else:\n",
    "        name_list.append(name)\n",
    "        \n",
    "print(f'Danh sách gồm {len(name_list)} học sinh')\n",
    "for i, name in enumerate(name_list):\n",
    "    print (f'{i+1} - {name}')"
   ]
  },
  {
   "cell_type": "code",
   "execution_count": 16,
   "metadata": {},
   "outputs": [
    {
     "data": {
      "text/plain": [
       "False"
      ]
     },
     "execution_count": 16,
     "metadata": {},
     "output_type": "execute_result"
    }
   ],
   "source": [
    "check_name('hoa')"
   ]
  },
  {
   "cell_type": "markdown",
   "metadata": {},
   "source": [
    "### 6. Toán tử IN\n",
    "- `in` đối tượng nào đó có nằm trong một đối tượng khác hay không\n",
    "```python\n",
    "<object> in <container>\n",
    "```\n",
    "- `object` đối tượng dữ liệu bất kỳ\n",
    "- `container` tập hợp các đối tượng kiểu dữ liệu tuần tự (xâu, list, tuple, set, dict)"
   ]
  },
  {
   "cell_type": "code",
   "execution_count": 17,
   "metadata": {},
   "outputs": [
    {
     "data": {
      "text/plain": [
       "(False, True, False)"
      ]
     },
     "execution_count": 17,
     "metadata": {},
     "output_type": "execute_result"
    }
   ],
   "source": [
    "a = [1, 2, 3]\n",
    "b = 0 in a\n",
    "c = 5 in range(1,10)\n",
    "d = 'hà' in 'Hà Nội'\n",
    "\n",
    "b, c, d"
   ]
  },
  {
   "cell_type": "markdown",
   "metadata": {},
   "source": [
    "### 7. Nguyên tắc chuyển mạch nhanh của các phép toán logic\n",
    "- cơ chế làm việc của `and` và `or` - short-circuit operator (phép toán chuyển mạch nhanh)\n",
    "- python không tính tất cả các tham số (toán hạng) của các phép toán mà vẫn có thể tính nhanh chính xác kết quả của phép toán. cơ chế này gọi là nguyên tắc chuyển mạch nhanh của các phép toán `and` và `or` trong Python.\n",
    "- dùng để thực hiện các công việc gỡ rối phức tạp khi viết các chương trình lớn"
   ]
  },
  {
   "cell_type": "markdown",
   "metadata": {},
   "source": [
    "**Vì sao cần biết sâu về cơ chế chuyển mạch nhanh trong Python?**\n",
    "- đặc tính đưa mọi đối tượng, biểu thức hàm về đánh giá logic -> khó tìm lỗi của chương trình\n",
    "- hiểu về cơ chế chuyển mạch nhanh là cần thiết khi lập trình nâng cao"
   ]
  },
  {
   "cell_type": "code",
   "execution_count": 18,
   "metadata": {},
   "outputs": [
    {
     "data": {
      "text/plain": [
       "0"
      ]
     },
     "execution_count": 18,
     "metadata": {},
     "output_type": "execute_result"
    }
   ],
   "source": [
    "#ví dụ\n",
    "0 and input('nhap:')"
   ]
  },
  {
   "cell_type": "markdown",
   "metadata": {},
   "source": [
    "|x|y|x and y|x or y|\n",
    "|-|-|-|-|\n",
    "|True|True|True|True|\n",
    "|True|False|False|True|\n",
    "|False|True|False|True|\n",
    "|False|False|False|False|\n",
    "\n",
    "- Xét bảng chân trị trên, nếu `x = False` thì `x and y = False` mà không cần phụ thuộc vào `y`\n",
    "- Trong Python, tham số đầu = `False` thì trả về `False` mà không kiểm tra toán hạng thứ 2"
   ]
  },
  {
   "cell_type": "code",
   "execution_count": 19,
   "metadata": {},
   "outputs": [
    {
     "data": {
      "text/plain": [
       "False"
      ]
     },
     "execution_count": 19,
     "metadata": {},
     "output_type": "execute_result"
    }
   ],
   "source": [
    "x = False and print(1)\n",
    "x"
   ]
  },
  {
   "cell_type": "code",
   "execution_count": 20,
   "metadata": {},
   "outputs": [
    {
     "name": "stdout",
     "output_type": "stream",
     "text": [
      "1\n",
      "None\n"
     ]
    }
   ],
   "source": [
    "x = True and print(1)\n",
    "x\n",
    "print(x)"
   ]
  },
  {
   "cell_type": "markdown",
   "metadata": {},
   "source": [
    "*Nhận xét*\n",
    "- line 1: vì toán hạng đầu tiên = `False` nên Python sẽ không cần tính `print(1)` và gán `False` cho `x`\n",
    "- line 3: toán hạng đầu tiên = `True` nên sẽ tính toán hạng `print(1)` và gán `x = print(1)`. Vì đã in 1 nên `x` giờ có kiểu `NoneType`"
   ]
  },
  {
   "cell_type": "markdown",
   "metadata": {},
   "source": [
    "- Tương tự, với `or` chỉ cần một toán hạng `True` thì kết quả là `True` mà không cần kiểm tra toán hạng còn lại"
   ]
  },
  {
   "cell_type": "code",
   "execution_count": 21,
   "metadata": {},
   "outputs": [
    {
     "name": "stdout",
     "output_type": "stream",
     "text": [
      "Hi!\n",
      "4\n"
     ]
    }
   ],
   "source": [
    "print('Hi!') or print(4)"
   ]
  },
  {
   "cell_type": "code",
   "execution_count": 22,
   "metadata": {},
   "outputs": [
    {
     "data": {
      "text/plain": [
       "[0]"
      ]
     },
     "execution_count": 22,
     "metadata": {},
     "output_type": "execute_result"
    }
   ],
   "source": [
    "[0] or print(1)"
   ]
  },
  {
   "cell_type": "markdown",
   "metadata": {},
   "source": [
    "*Nhận xét*\n",
    "- line 1: `print('Hi!')` nhận giá trị logic `False` do đó cần tính thêm toán hạng 2. Do vậy Python thực hiện cả 2 lệnh print\n",
    "- line 2: toán hạng thứ nhất `[0]` nhận giá trị `True` do đó không cần đến toán hạng thứ 2. Chương trình chỉ thực hiện kết quả `[0]` là toán hạng thứ nhất"
   ]
  },
  {
   "cell_type": "code",
   "execution_count": 23,
   "metadata": {},
   "outputs": [
    {
     "data": {
      "text/plain": [
       "[0]"
      ]
     },
     "execution_count": 23,
     "metadata": {},
     "output_type": "execute_result"
    },
    {
     "data": {
      "text/plain": [
       "[1, 2, 3]"
      ]
     },
     "execution_count": 23,
     "metadata": {},
     "output_type": "execute_result"
    }
   ],
   "source": [
    "x = [0] or [1,1]\n",
    "y = [] or [1,2,3]\n",
    "x\n",
    "y"
   ]
  },
  {
   "cell_type": "markdown",
   "metadata": {},
   "source": [
    "- Xét `x`: toán hạng đầu tiên bằng `True` nên không cần tính phần tử thứ 2 và sẽ gán luôn `[0]` cho `x`\n",
    "- Xét `y`: `[0] = False` nên tính thêm toán hạng thứ 2, do đó gán toán hạng 2 là `[1,2,3]` cho `y`"
   ]
  },
  {
   "cell_type": "code",
   "execution_count": 24,
   "metadata": {},
   "outputs": [
    {
     "name": "stdout",
     "output_type": "stream",
     "text": [
      "Nhập số:5\n"
     ]
    },
    {
     "data": {
      "text/plain": [
       "'5'"
      ]
     },
     "execution_count": 24,
     "metadata": {},
     "output_type": "execute_result"
    }
   ],
   "source": [
    "x = False or input('Nhập số:')\n",
    "x"
   ]
  },
  {
   "cell_type": "markdown",
   "metadata": {},
   "source": [
    "- Toán hạng đầu tiên là `False` -> tính và gán toán hạng 2 cho x"
   ]
  },
  {
   "cell_type": "code",
   "execution_count": 25,
   "metadata": {},
   "outputs": [
    {
     "name": "stdout",
     "output_type": "stream",
     "text": [
      "Nhập số:\n"
     ]
    },
    {
     "data": {
      "text/plain": [
       "False"
      ]
     },
     "execution_count": 25,
     "metadata": {},
     "output_type": "execute_result"
    },
    {
     "name": "stdout",
     "output_type": "stream",
     "text": [
      "Nhập số:0\n"
     ]
    },
    {
     "data": {
      "text/plain": [
       "True"
      ]
     },
     "execution_count": 25,
     "metadata": {},
     "output_type": "execute_result"
    }
   ],
   "source": [
    "x = False or input('Nhập số:') #không nhập số và Enter\n",
    "bool(x)\n",
    "y = False or input('Nhập số:') #nhập số bất kỳ\n",
    "bool(y)"
   ]
  },
  {
   "cell_type": "markdown",
   "metadata": {},
   "source": [
    "- Xét `x`: toán hạng 1 và 2 nhận `False` vì xâu rỗng nên giá trị bool của `x = False`\n",
    "- Xét `y`: giá trị bool của `y = True` vì nhận giá trị bool của toán hạng 2 \n",
    "> Do vậy giá trị của biểu thức `False or input()` sẽ phụ thuộc vào tương tác của người dùng chứ không phụ thuộc vào bản thân biểu thức logic trên."
   ]
  },
  {
   "cell_type": "markdown",
   "metadata": {},
   "source": [
    "## Bài tập"
   ]
  },
  {
   "cell_type": "code",
   "execution_count": 26,
   "metadata": {},
   "outputs": [
    {
     "data": {
      "text/plain": [
       "True"
      ]
     },
     "execution_count": 26,
     "metadata": {},
     "output_type": "execute_result"
    }
   ],
   "source": [
    "#1\n",
    "x = 4**2 - 4*4 == 0\n",
    "x"
   ]
  },
  {
   "cell_type": "code",
   "execution_count": 27,
   "metadata": {},
   "outputs": [
    {
     "data": {
      "text/plain": [
       "True"
      ]
     },
     "execution_count": 27,
     "metadata": {},
     "output_type": "execute_result"
    }
   ],
   "source": [
    "#2\n",
    "a = 5\n",
    "b = 7\n",
    "x = a<b or a<0 and b<0\n",
    "x"
   ]
  },
  {
   "cell_type": "code",
   "execution_count": 28,
   "metadata": {},
   "outputs": [
    {
     "data": {
      "text/plain": [
       "False"
      ]
     },
     "execution_count": 28,
     "metadata": {},
     "output_type": "execute_result"
    }
   ],
   "source": [
    "#3\n",
    "a = 5\n",
    "b = 7\n",
    "x = (a<b or a<0) and (b<0)\n",
    "x"
   ]
  },
  {
   "cell_type": "code",
   "execution_count": 29,
   "metadata": {},
   "outputs": [
    {
     "name": "stdout",
     "output_type": "stream",
     "text": [
      "[7, 10]\n"
     ]
    }
   ],
   "source": [
    "A = [1, 15, -9, 20, -99, 100, 120, 7, 10]\n",
    "B = []\n",
    "for i in A:\n",
    "    if i > 1 and i < 15:\n",
    "        B.append(i)\n",
    "print(B)"
   ]
  },
  {
   "cell_type": "code",
   "execution_count": 30,
   "metadata": {},
   "outputs": [
    {
     "name": "stdout",
     "output_type": "stream",
     "text": [
      "2 5 \n",
      "2 2 2 \n",
      "2 2 5 5 \n",
      "----------\n",
      "2 5 \n",
      "2 (3) \n",
      "2 (2) 5 (2) \n"
     ]
    }
   ],
   "source": [
    "#5 and 6\n",
    "def check_prime(num) -> bool:\n",
    "    if num < 2:\n",
    "        return False\n",
    "    if num == 2 or num == 3:\n",
    "        return True\n",
    "    for i in range(2,int(num**0.5)+1):\n",
    "        if num % i == 0:\n",
    "            return False\n",
    "    return True\n",
    "\n",
    "def tich_nguyen_to(num) -> list:\n",
    "    p = 2\n",
    "    ans = []\n",
    "    while num != 1:\n",
    "        while num % p == 0:\n",
    "            ans.append(p)\n",
    "            num /= p\n",
    "        p += 1\n",
    "    return ans\n",
    "\n",
    "def in_ket_qua_5(arr) -> None:\n",
    "    \"\"\"In tích thừa số nguyên tố có dạng prime1 prime1 ... prime2 prime2 ...\\n \n",
    "    `arr`: mảng chứa các số nguyên tố là thừa số nguyên tố của một số nguyên sắp xếp tăng dần\"\"\"\n",
    "    for val in arr:\n",
    "        print(val, end=' ')\n",
    "    print()\n",
    "\n",
    "\n",
    "def in_ket_qua_6(arr) -> None:\n",
    "    \"\"\"In tích thừa số nguyên tố có dạng prime1 (times) prime2 (times)..\\n \n",
    "    `arr`: mảng chứa các số nguyên tố là thừa số nguyên tố của một số nguyên sắp xếp tăng dần\"\"\"\n",
    "    ans = []\n",
    "    index = 0\n",
    "    while index < len(arr):\n",
    "        ans.append(arr[index])\n",
    "        count = 0\n",
    "        for val in arr:\n",
    "            if val == arr[index]:\n",
    "                count += 1\n",
    "        ans.append(count)\n",
    "        index += count\n",
    "    for i in range(0,len(ans),2):\n",
    "        if ans[i+1] > 1:\n",
    "            print(f'{ans[i]} ({ans[i+1]})', end=' ')\n",
    "        else:\n",
    "            print(f'{ans[i]}', end=' ')\n",
    "    print()\n",
    "        \n",
    "in_ket_qua_5(tich_nguyen_to(10))\n",
    "in_ket_qua_5(tich_nguyen_to(8))\n",
    "in_ket_qua_5(tich_nguyen_to(100))\n",
    "print('-'*10)\n",
    "in_ket_qua_6(tich_nguyen_to(10))\n",
    "in_ket_qua_6(tich_nguyen_to(8))\n",
    "in_ket_qua_6(tich_nguyen_to(100))"
   ]
  },
  {
   "cell_type": "code",
   "execution_count": 31,
   "metadata": {},
   "outputs": [
    {
     "data": {
      "text/plain": [
       "211"
      ]
     },
     "execution_count": 31,
     "metadata": {},
     "output_type": "execute_result"
    }
   ],
   "source": [
    "#7\n",
    "def next_prime(num:int) -> int:\n",
    "    \"\"\"return smallest prime number greater than `num`\"\"\"\n",
    "    num += 1\n",
    "    while True:\n",
    "        if check_prime(num):\n",
    "            return num\n",
    "        num += 1\n",
    "\n",
    "next_prime(200)"
   ]
  },
  {
   "cell_type": "code",
   "execution_count": 32,
   "metadata": {},
   "outputs": [
    {
     "data": {
      "text/plain": [
       "False"
      ]
     },
     "execution_count": 32,
     "metadata": {},
     "output_type": "execute_result"
    },
    {
     "data": {
      "text/plain": [
       "True"
      ]
     },
     "execution_count": 32,
     "metadata": {},
     "output_type": "execute_result"
    },
    {
     "data": {
      "text/plain": [
       "False"
      ]
     },
     "execution_count": 32,
     "metadata": {},
     "output_type": "execute_result"
    }
   ],
   "source": [
    "#8\n",
    "def f(A):\n",
    "    for i in range(len(A)-1):\n",
    "        if A[i] > A[i+1]:\n",
    "            return False\n",
    "    return True\n",
    "\n",
    "A = [2, 1, 3]\n",
    "B = [1, 2, 3]\n",
    "C = [3, 2, 1]\n",
    "f(A)\n",
    "f(B)\n",
    "f(C)"
   ]
  },
  {
   "cell_type": "code",
   "execution_count": 33,
   "metadata": {},
   "outputs": [
    {
     "data": {
      "text/plain": [
       "(3, 5676)"
      ]
     },
     "execution_count": 33,
     "metadata": {},
     "output_type": "execute_result"
    },
    {
     "data": {
      "text/plain": [
       "(1, 45)"
      ]
     },
     "execution_count": 33,
     "metadata": {},
     "output_type": "execute_result"
    }
   ],
   "source": [
    "#9 and 10\n",
    "arr = [193,45,234,5676,3243,765]\n",
    "arr.index(max(arr)), max(arr)\n",
    "arr.index(min(arr)), min(arr)"
   ]
  },
  {
   "cell_type": "code",
   "execution_count": 34,
   "metadata": {},
   "outputs": [
    {
     "name": "stdout",
     "output_type": "stream",
     "text": [
      "Nhap n: 100\n"
     ]
    },
    {
     "data": {
      "text/plain": [
       "1.6349839001848923"
      ]
     },
     "execution_count": 34,
     "metadata": {},
     "output_type": "execute_result"
    }
   ],
   "source": [
    "#11 and 12\n",
    "n = int(input('Nhap n: '))\n",
    "def sum1(num):\n",
    "    sum = 0\n",
    "    for i in range(1,n+1):\n",
    "        sum += 1/i**2\n",
    "    return sum\n",
    "\n",
    "def sum2(num):\n",
    "    sum = 0\n",
    "    for i in range(1,n+1):\n",
    "        sum += 1/(i*(i+1))\n",
    "    return sum\n",
    "\n",
    "sum1(n)"
   ]
  },
  {
   "cell_type": "code",
   "execution_count": 35,
   "metadata": {},
   "outputs": [
    {
     "name": "stdout",
     "output_type": "stream",
     "text": [
      "5356\n"
     ]
    }
   ],
   "source": [
    "#13\n",
    "sum = 0\n",
    "i = 1\n",
    "while True:\n",
    "    if i > 205:\n",
    "        break\n",
    "    sum += i\n",
    "    i += 4\n",
    "print(sum)"
   ]
  },
  {
   "cell_type": "code",
   "execution_count": 39,
   "metadata": {},
   "outputs": [
    {
     "name": "stdout",
     "output_type": "stream",
     "text": [
      "1000\n"
     ]
    },
    {
     "data": {
      "text/plain": [
       "[2,\n",
       " 3,\n",
       " 5,\n",
       " 7,\n",
       " 11,\n",
       " 13,\n",
       " 17,\n",
       " 19,\n",
       " 23,\n",
       " 29,\n",
       " 31,\n",
       " 37,\n",
       " 41,\n",
       " 43,\n",
       " 47,\n",
       " 53,\n",
       " 59,\n",
       " 61,\n",
       " 67,\n",
       " 71,\n",
       " 73,\n",
       " 79,\n",
       " 83,\n",
       " 89,\n",
       " 97,\n",
       " 101,\n",
       " 103,\n",
       " 107,\n",
       " 109,\n",
       " 113,\n",
       " 127,\n",
       " 131,\n",
       " 137,\n",
       " 139,\n",
       " 149,\n",
       " 151,\n",
       " 157,\n",
       " 163,\n",
       " 167,\n",
       " 173,\n",
       " 179,\n",
       " 181,\n",
       " 191,\n",
       " 193,\n",
       " 197,\n",
       " 199,\n",
       " 211,\n",
       " 223,\n",
       " 227,\n",
       " 229,\n",
       " 233,\n",
       " 239,\n",
       " 241,\n",
       " 251,\n",
       " 257,\n",
       " 263,\n",
       " 269,\n",
       " 271,\n",
       " 277,\n",
       " 281,\n",
       " 283,\n",
       " 293,\n",
       " 307,\n",
       " 311,\n",
       " 313,\n",
       " 317,\n",
       " 331,\n",
       " 337,\n",
       " 347,\n",
       " 349,\n",
       " 353,\n",
       " 359,\n",
       " 367,\n",
       " 373,\n",
       " 379,\n",
       " 383,\n",
       " 389,\n",
       " 397,\n",
       " 401,\n",
       " 409,\n",
       " 419,\n",
       " 421,\n",
       " 431,\n",
       " 433,\n",
       " 439,\n",
       " 443,\n",
       " 449,\n",
       " 457,\n",
       " 461,\n",
       " 463,\n",
       " 467,\n",
       " 479,\n",
       " 487,\n",
       " 491,\n",
       " 499,\n",
       " 503,\n",
       " 509,\n",
       " 521,\n",
       " 523,\n",
       " 541,\n",
       " 547,\n",
       " 557,\n",
       " 563,\n",
       " 569,\n",
       " 571,\n",
       " 577,\n",
       " 587,\n",
       " 593,\n",
       " 599,\n",
       " 601,\n",
       " 607,\n",
       " 613,\n",
       " 617,\n",
       " 619,\n",
       " 631,\n",
       " 641,\n",
       " 643,\n",
       " 647,\n",
       " 653,\n",
       " 659,\n",
       " 661,\n",
       " 673,\n",
       " 677,\n",
       " 683,\n",
       " 691,\n",
       " 701,\n",
       " 709,\n",
       " 719,\n",
       " 727,\n",
       " 733,\n",
       " 739,\n",
       " 743,\n",
       " 751,\n",
       " 757,\n",
       " 761,\n",
       " 769,\n",
       " 773,\n",
       " 787,\n",
       " 797,\n",
       " 809,\n",
       " 811,\n",
       " 821,\n",
       " 823,\n",
       " 827,\n",
       " 829,\n",
       " 839,\n",
       " 853,\n",
       " 857,\n",
       " 859,\n",
       " 863,\n",
       " 877,\n",
       " 881,\n",
       " 883,\n",
       " 887,\n",
       " 907,\n",
       " 911,\n",
       " 919,\n",
       " 929,\n",
       " 937,\n",
       " 941,\n",
       " 947,\n",
       " 953,\n",
       " 967,\n",
       " 971,\n",
       " 977,\n",
       " 983,\n",
       " 991,\n",
       " 997]"
      ]
     },
     "execution_count": 39,
     "metadata": {},
     "output_type": "execute_result"
    }
   ],
   "source": [
    "#14\n",
    "def primes_list(num):\n",
    "    ans = []\n",
    "    i = 1\n",
    "    d_duong = lambda x: 6*x + 1\n",
    "    d_am = lambda x: 6*x - 1\n",
    "    \n",
    "    if num < 2:\n",
    "        return ans\n",
    "    elif num == 2:\n",
    "        ans.append(2)\n",
    "        return ans\n",
    "    elif num == 3:\n",
    "        ans.extend([2,3])\n",
    "        return ans\n",
    "    else:\n",
    "        ans.extend([2,3])\n",
    "        while True:\n",
    "            if d_am(i) > num:\n",
    "                break\n",
    "            else:\n",
    "                if check_prime(d_am(i)):\n",
    "                    ans.append(d_am(i))\n",
    "            if d_duong(i) > num:\n",
    "                break\n",
    "            else:\n",
    "                if check_prime(d_duong(i)):\n",
    "                    ans.append(d_duong(i))\n",
    "            i += 1\n",
    "    return ans\n",
    "    \n",
    "\n",
    "n = int(input())\n",
    "primes_list(n)\n",
    "    "
   ]
  },
  {
   "cell_type": "code",
   "execution_count": 48,
   "metadata": {},
   "outputs": [
    {
     "name": "stdout",
     "output_type": "stream",
     "text": [
      "20 = 2x2x5\n"
     ]
    }
   ],
   "source": [
    "def thua_so_nguyen_to(num, return_arr=False):\n",
    "    \"\"\"Phân tích thừa số `num` thành thừa số nguyên tố có dạng num = 2x2x3x5...\"\"\"\n",
    "    n = num\n",
    "    prime = 2\n",
    "    ans = []\n",
    "    while num != 1:\n",
    "        while num % prime == 0:\n",
    "            ans.append(prime)\n",
    "            num /= prime\n",
    "        if prime == 2:\n",
    "            prime += 1\n",
    "        else:\n",
    "            prime += 2\n",
    "    lst = ans.copy()\n",
    "    ans = list(map(str, ans))\n",
    "    st = str(n) + ' = ' + 'x'.join(ans)\n",
    "    print(st)\n",
    "    \n",
    "    if return_arr == True:\n",
    "        return lst\n",
    "    \n",
    "thua_so_nguyen_to(20)\n",
    "    "
   ]
  },
  {
   "cell_type": "code",
   "execution_count": 50,
   "metadata": {},
   "outputs": [
    {
     "data": {
      "text/plain": [
       "[1, 1]"
      ]
     },
     "execution_count": 50,
     "metadata": {},
     "output_type": "execute_result"
    },
    {
     "data": {
      "text/plain": [
       "[1, 1, 2, 3, 5, 8, 13, 21, 34, 55]"
      ]
     },
     "execution_count": 50,
     "metadata": {},
     "output_type": "execute_result"
    }
   ],
   "source": [
    "# n số hạng đầu tiên của dãy số Fibonacci\n",
    "def Fibonacci_num(num):\n",
    "    if num < 1:\n",
    "        return None\n",
    "    elif num == 1:\n",
    "        return [1]\n",
    "    elif num == 2:\n",
    "        return [1,1]\n",
    "    else:\n",
    "        F = [1,1]\n",
    "        index = 2\n",
    "        while index != num:\n",
    "            F.append(F[index-1]+F[index-2])\n",
    "            index += 1\n",
    "        return F\n",
    "    \n",
    "Fibonacci_num(0) #None\n",
    "Fibonacci_num(2)\n",
    "Fibonacci_num(10)"
   ]
  },
  {
   "cell_type": "code",
   "execution_count": 13,
   "metadata": {},
   "outputs": [
    {
     "data": {
      "text/plain": [
       "1"
      ]
     },
     "execution_count": 13,
     "metadata": {},
     "output_type": "execute_result"
    },
    {
     "data": {
      "text/plain": [
       "5"
      ]
     },
     "execution_count": 13,
     "metadata": {},
     "output_type": "execute_result"
    },
    {
     "data": {
      "text/plain": [
       "1980"
      ]
     },
     "execution_count": 13,
     "metadata": {},
     "output_type": "execute_result"
    },
    {
     "data": {
      "text/plain": [
       "120"
      ]
     },
     "execution_count": 13,
     "metadata": {},
     "output_type": "execute_result"
    }
   ],
   "source": [
    "#17, 18, 20\n",
    "def gcd(*args) -> int:\n",
    "    \"\"\"greatest common divisor\"\"\"\n",
    "    if len(args) < 1:\n",
    "        return None\n",
    "    elif len(args) == 1:\n",
    "        return int(args[0])\n",
    "    else:\n",
    "        result = int(args[0])\n",
    "        for num in args[1:]:\n",
    "            result = gcd_2num(result, num)\n",
    "    return result\n",
    "\n",
    "def lcm(*args) -> int:\n",
    "    \"\"\"return least common multiple\"\"\"\n",
    "    if len(args) < 1:\n",
    "        return None\n",
    "    elif len(args) == 1:\n",
    "        return int(args[0])\n",
    "    else: \n",
    "        result = int(args[0])\n",
    "        for num in args[1:]:\n",
    "            result = lcm_2num(result, num)\n",
    "    return result\n",
    "    \n",
    "def gcd_2num(a,b):\n",
    "    while a != b:\n",
    "        if a > b:\n",
    "            a -= b\n",
    "        else:\n",
    "            b -= a\n",
    "    return a\n",
    "\n",
    "def lcm_2num(a,b):\n",
    "    return int((a*b) / gcd_2num(a,b))\n",
    "\n",
    "\n",
    "gcd(12,35)\n",
    "gcd(10, 25, 100, 55)\n",
    "lcm(4,45,66)\n",
    "lcm(12,24,10)\n"
   ]
  },
  {
   "cell_type": "code",
   "execution_count": 19,
   "metadata": {},
   "outputs": [
    {
     "name": "stdout",
     "output_type": "stream",
     "text": [
      "9\n",
      "[1, 2, 4, 5, 10, 20, 25, 50, 100]\n"
     ]
    }
   ],
   "source": [
    "#19\n",
    "def common_divisor(a, b, result=False):\n",
    "    ans = []\n",
    "    for i in range(1,min(int(a/2)+1,int(b/2)+1)):\n",
    "        if a % i == 0 and b % i == 0:\n",
    "            ans.append(i)\n",
    "    if max(a,b) % min(a,b) == 0:\n",
    "        ans.append(min(a,b))\n",
    "    print(len(ans))\n",
    "    print(ans)\n",
    "    if result:\n",
    "        return ans\n",
    "        \n",
    "    \n",
    "common_divisor(200,100)"
   ]
  },
  {
   "cell_type": "code",
   "execution_count": 3,
   "metadata": {},
   "outputs": [
    {
     "data": {
      "text/plain": [
       "10"
      ]
     },
     "execution_count": 3,
     "metadata": {},
     "output_type": "execute_result"
    },
    {
     "data": {
      "text/plain": [
       "60"
      ]
     },
     "execution_count": 3,
     "metadata": {},
     "output_type": "execute_result"
    }
   ],
   "source": [
    "#17.2\n",
    "from math import gcd, lcm\n",
    "\n",
    "gcd(10,20,30)\n",
    "lcm(10,20,30)"
   ]
  },
  {
   "cell_type": "code",
   "execution_count": 7,
   "metadata": {},
   "outputs": [
    {
     "name": "stdout",
     "output_type": "stream",
     "text": [
      "Nhap so n: 5\n",
      "Nhap phan tu 0: 235\n",
      "Nhap phan tu 1: 235\n",
      "Nhap phan tu 2: 65\n",
      "Nhap phan tu 3: 234\n",
      "Nhap phan tu 4: 56\n",
      "sum of list: 825\n",
      "min of arr:\n",
      "\tindex: 4\n",
      "\tvalue: 56\n",
      "max of arr:\n",
      "\tindex: 0\n",
      "\tvalue: 235\n"
     ]
    }
   ],
   "source": [
    "#21\n",
    "def find_min_max(arr):\n",
    "    min_index = 0\n",
    "    max_index = 0\n",
    "    min_value = arr[min_index]\n",
    "    max_value = arr[max_index]\n",
    "    for i, val in enumerate(arr):\n",
    "        if val > max_value:\n",
    "            max_value = val\n",
    "            max_index = i\n",
    "        if val < min_value:\n",
    "            min_value = val\n",
    "            min_index = i\n",
    "    \n",
    "    return ((min_index, min_value), (max_index, max_value))\n",
    "n = int(input(\"Nhap so n: \"))\n",
    "arr = []\n",
    "for i in range(n):\n",
    "    val = int(input(f\"Nhap phan tu {i}: \"))\n",
    "    arr.append(val)\n",
    "    \n",
    "print(f'sum of list: {sum(arr)}')\n",
    "result = find_min_max(arr)\n",
    "print(f'min of arr:\\n\\tindex: {result[0][0]}\\n\\tvalue: {result[0][1]}')\n",
    "print(f'max of arr:\\n\\tindex: {result[1][0]}\\n\\tvalue: {result[1][1]}')"
   ]
  },
  {
   "cell_type": "markdown",
   "metadata": {},
   "source": [
    "22 và 23. Tìm dãy con liên tục cực đại đơn điệu tăng (Longest Increasing Search - LIS) bằng quy hoạch động"
   ]
  },
  {
   "cell_type": "code",
   "execution_count": 26,
   "metadata": {},
   "outputs": [
    {
     "name": "stdout",
     "output_type": "stream",
     "text": [
      "1 2 65 324 87 45 3243 868 3454 897 4564 34352 67 43534 687866745 34543 56 32432 76 342  65734643 3532345\n"
     ]
    },
    {
     "data": {
      "text/plain": [
       "[1,\n",
       " 2,\n",
       " 65,\n",
       " 324,\n",
       " 87,\n",
       " 45,\n",
       " 3243,\n",
       " 868,\n",
       " 3454,\n",
       " 897,\n",
       " 4564,\n",
       " 34352,\n",
       " 67,\n",
       " 43534,\n",
       " 687866745,\n",
       " 34543,\n",
       " 56,\n",
       " 32432,\n",
       " 76,\n",
       " 342,\n",
       " 65734643,\n",
       " 3532345]"
      ]
     },
     "execution_count": 26,
     "metadata": {},
     "output_type": "execute_result"
    },
    {
     "data": {
      "text/plain": [
       "[1, 2, 45, 56, 76, 342, 4564, 32432, 34543, 3532345]"
      ]
     },
     "execution_count": 26,
     "metadata": {},
     "output_type": "execute_result"
    }
   ],
   "source": [
    "def bisect(arr, num):\n",
    "    \"Hàm trả về vị trí của num có thể gán vào trong list mà không thay đổi tính liên tục đơn điệu tăng của list  \\n`arr` mảng 1 chiều đơn điệu tăng  \\n`num` số cần chèn vào.\"\n",
    "    #outlines\n",
    "    if num in arr:\n",
    "        return None\n",
    "    if not arr or num < arr[0]:\n",
    "        return 0\n",
    "    elif num > arr[len(arr)-1]:\n",
    "        return len(arr)\n",
    "    \n",
    "    for i in range(len(arr)-1):\n",
    "        if arr[i] < num < arr[i+1]:\n",
    "            return i+1\n",
    "        \n",
    "def longest_increasing_subsequence(arr):\n",
    "    \"Hàm trả về dãy con liên tục cực đại đơn điệu tăng của dãy số trên\"\n",
    "    result = []\n",
    "    for val in arr:\n",
    "        pos = bisect(result, val)\n",
    "        if pos == None:\n",
    "            continue\n",
    "        if pos < len(result):\n",
    "            result[pos] = val\n",
    "        elif pos == len(result):\n",
    "            result.append(val)\n",
    "    return result\n",
    "\n",
    "arr = list(map(eval,input().split()))\n",
    "arr\n",
    "longest_increasing_subsequence(arr)"
   ]
  },
  {
   "cell_type": "code",
   "execution_count": 38,
   "metadata": {},
   "outputs": [
    {
     "data": {
      "text/plain": [
       "False"
      ]
     },
     "execution_count": 38,
     "metadata": {},
     "output_type": "execute_result"
    },
    {
     "data": {
      "text/plain": [
       "[2, 5]"
      ]
     },
     "execution_count": 38,
     "metadata": {},
     "output_type": "execute_result"
    },
    {
     "data": {
      "text/plain": [
       "[7, 11, 13]"
      ]
     },
     "execution_count": 38,
     "metadata": {},
     "output_type": "execute_result"
    },
    {
     "data": {
      "text/plain": [
       "[2, 3, 167]"
      ]
     },
     "execution_count": 38,
     "metadata": {},
     "output_type": "execute_result"
    },
    {
     "data": {
      "text/plain": [
       "[17, 59]"
      ]
     },
     "execution_count": 38,
     "metadata": {},
     "output_type": "execute_result"
    },
    {
     "data": {
      "text/plain": [
       "[2, 251]"
      ]
     },
     "execution_count": 38,
     "metadata": {},
     "output_type": "execute_result"
    }
   ],
   "source": [
    "#24\n",
    "def check_prime(num:int) -> bool:\n",
    "    \"Hàm trả về giá trị logic của một số.  \\nReturn `True` khi num là số nguyên tố và ngược lại\"\n",
    "    if num < 2:\n",
    "        return False\n",
    "    elif num == 2 or num == 3:\n",
    "        return True\n",
    "    else:\n",
    "        for i in range(2,int(num**0.5)+1):\n",
    "            if num % i == 0:\n",
    "                return False\n",
    "    return True\n",
    "\n",
    "def prime_divisor(num:int) -> list:\n",
    "    \"Hàm trả về danh sách ước số nguyên tố của `num`\"\n",
    "    result = []\n",
    "    for i in range(1, int(num/2)+1):\n",
    "        if num % i == 0 and check_prime(i) == True:\n",
    "            result.append(i)\n",
    "    if check_prime(num):\n",
    "        result.append(num)\n",
    "    return result\n",
    "\n",
    "check_prime(1)\n",
    "for i in range(1000, 1005):\n",
    "    prime_divisor(i)\n"
   ]
  },
  {
   "cell_type": "code",
   "execution_count": 54,
   "metadata": {},
   "outputs": [
    {
     "data": {
      "text/plain": [
       "[1, 2, 5, 10, 25, 50]"
      ]
     },
     "execution_count": 54,
     "metadata": {},
     "output_type": "execute_result"
    }
   ],
   "source": [
    "def divisor(num):\n",
    "    \"Hàm trả về list các ước của một số tự nhiên\"\n",
    "    result = []\n",
    "    for i in range(1, int(num/2)+1):\n",
    "        if num % i == 0:\n",
    "            result.append(i)\n",
    "    result.append(num)\n",
    "    return result\n",
    "\n",
    "def common_divisor(*args):\n",
    "    \"Hàm trả về list các ước chung của các tham số truyền vào\"\n",
    "    result = []\n",
    "    num = min(args)\n",
    "    arr = divisor(num)\n",
    "    args = list(args)\n",
    "    while num in args:\n",
    "        args.remove(min(args))\n",
    "        \n",
    "    #outlines\n",
    "    if args == []:\n",
    "        return arr\n",
    "    \n",
    "    for val in arr:\n",
    "        check = True\n",
    "        for arg in args:\n",
    "            if arg % val != 0:\n",
    "                check = False\n",
    "        if check:\n",
    "            result.append(val)\n",
    "    \n",
    "    return result\n",
    "\n",
    "common_divisor(150,150,2000)\n",
    "            "
   ]
  },
  {
   "cell_type": "code",
   "execution_count": 57,
   "metadata": {},
   "outputs": [
    {
     "name": "stdout",
     "output_type": "stream",
     "text": [
      "6\n",
      "28\n",
      "496\n",
      "8128\n"
     ]
    }
   ],
   "source": [
    "#26\n",
    "def perfect_number(num):\n",
    "    \"Hàm trả về gía trị logic của một số.  \\nReturn `True` nếu tham số truyền vào là số hoàn hảo\"\n",
    "    arr = divisor(num)[:-1] #divisor function of question 25\n",
    "    if sum(arr) == num:\n",
    "        return True\n",
    "    return False\n",
    "\n",
    "for i in range(1,10000):\n",
    "    if perfect_number(i):\n",
    "        print(i)\n",
    "    "
   ]
  },
  {
   "cell_type": "code",
   "execution_count": 71,
   "metadata": {},
   "outputs": [
    {
     "name": "stdout",
     "output_type": "stream",
     "text": [
      "(113, 127, 61, 67)\n",
      "(3643, 3659, 1811, 1823)\n",
      "(3442141, 3442163, 1721023, 1721081)\n",
      "(None, 2, None, 2)\n",
      "(None, 2, None, 2)\n",
      "(None, 2, None, 2)\n",
      "(None, 3, None, 2)\n",
      "(5, 11, 2, 5)\n"
     ]
    }
   ],
   "source": [
    "#27\n",
    "def prime_check(num):\n",
    "    if num < 2:\n",
    "        return False\n",
    "    elif num == 2 or num == 3:\n",
    "        return True\n",
    "    for i in range(2,int(num**0.5)+1):\n",
    "        if num % i == 0:\n",
    "            return False\n",
    "    return True\n",
    "\n",
    "def quest_27a(num):\n",
    "    \"Hàm trả về số nguyên tố nhỏ nhất lớn hơn tham số truyền vào\"\n",
    "    num = int(num)\n",
    "    if num <= 2:\n",
    "        return None\n",
    "    if num == 3:\n",
    "        return 2\n",
    "    if num % 2 == 0:\n",
    "        num -= 1\n",
    "    else:\n",
    "        num -= 2 #số lẻ nhỏ nhất lớn hơn num\n",
    "    while True:\n",
    "        if check_prime(num):\n",
    "            return num\n",
    "        num -= 2 #số nguyên tố chắc chắn là số lẻ, không kiểm tra số chẵn để giảm số vòng lặp\n",
    "        \n",
    "def quest_27b(num):\n",
    "    \"Hàm trả về số nguyên tố lớn nhất bé hơn tham số truyền vào\"\n",
    "    num = int(num)\n",
    "    if num < 2:\n",
    "        return 2\n",
    "    \n",
    "    if num % 2 == 0:\n",
    "        num += 1\n",
    "    else:\n",
    "        num +=2\n",
    "    while True:\n",
    "        if check_prime(num):\n",
    "            return num\n",
    "        num += 2\n",
    "        \n",
    "def quest_27c(num):\n",
    "    \"Hàm trả về số nguyên tố lớn nhất bé hơn tham số truyền vào chia 2\"\n",
    "    num = int(num/2)\n",
    "    if num <= 2:\n",
    "        return None\n",
    "    if num == 3:\n",
    "        return 2\n",
    "    \n",
    "    if num % 2 == 0:\n",
    "        num -= 1\n",
    "    else:\n",
    "        num -= 2\n",
    "    while True:\n",
    "        if check_prime(num):\n",
    "            return num\n",
    "        num -= 2\n",
    "        \n",
    "def quest_27d(num):\n",
    "    \"Hàm trả về số nguyên tố bé nhất lớn hơn tham số truyền vào chia 2\"\n",
    "    num = int(num/2)\n",
    "    if num < 2:\n",
    "        return 2\n",
    "    \n",
    "    if num % 2 == 0:\n",
    "        num += 1\n",
    "    else:\n",
    "        num += 2\n",
    "    while True:\n",
    "        if check_prime(num):\n",
    "            return num\n",
    "        num += 2\n",
    "\n",
    "test = [124,3645,3442157,-123,0.352, 1, 2, 7]\n",
    "for val in test:\n",
    "    print((quest_27a(val), quest_27b(val), quest_27c(val), quest_27d(val)))"
   ]
  },
  {
   "cell_type": "code",
   "execution_count": 30,
   "metadata": {},
   "outputs": [
    {
     "data": {
      "text/plain": [
       "'110010110101'"
      ]
     },
     "execution_count": 30,
     "metadata": {},
     "output_type": "execute_result"
    }
   ],
   "source": [
    "#28.1\n",
    "def dec2bin(num):\n",
    "    \"\"\"Hàm chuyển đồi từ hệ thập phân sang (decimal) sang hệ nhị phân (binary)\"\"\"\n",
    "    if num == 0:\n",
    "        return '0'\n",
    "    \n",
    "    is_negative = num < 0\n",
    "    if is_negative:\n",
    "        num = abs(num)\n",
    "    \n",
    "    ans = []\n",
    "    while num != 0:\n",
    "        num, i = divmod(num,2)\n",
    "        ans.append(str(i))\n",
    "        \n",
    "    ans.reverse()\n",
    "    ans = ''.join(ans)\n",
    "    if is_negative:\n",
    "        return '-' + ans\n",
    "    else:\n",
    "        return ans\n",
    "\n",
    "dec2bin(3253)"
   ]
  },
  {
   "cell_type": "code",
   "execution_count": 19,
   "metadata": {},
   "outputs": [
    {
     "data": {
      "text/plain": [
       "'-0b110010110101'"
      ]
     },
     "execution_count": 19,
     "metadata": {},
     "output_type": "execute_result"
    }
   ],
   "source": [
    "#28.2\n",
    "num = int(input())\n",
    "num = bin(num)\n",
    "num"
   ]
  },
  {
   "cell_type": "code",
   "execution_count": 31,
   "metadata": {},
   "outputs": [
    {
     "data": {
      "text/plain": [
       "'BF384'"
      ]
     },
     "execution_count": 31,
     "metadata": {},
     "output_type": "execute_result"
    }
   ],
   "source": [
    "def dec2hex(num):\n",
    "    \"Hàm chuyển đổi hệ thập phân (decimal) sang thập lục phân (hexadecimal)\"\n",
    "    hex_digits = ('0','1','2','3','4','5','6','7','8','9','A','B','C','D','E','F')\n",
    "    result = []\n",
    "    \n",
    "    if num == 0:\n",
    "        return '0'\n",
    "    \n",
    "    is_negative = num < 0\n",
    "    if is_negative:\n",
    "        num = abs(num)\n",
    "    \n",
    "    while num != 0:\n",
    "        num, i = divmod(num, 16)\n",
    "        result.append(hex_digits[i])\n",
    "    result.reverse()\n",
    "    result = ''.join(result)\n",
    "    if is_negative:\n",
    "        return '-' + result\n",
    "    else:\n",
    "        return result\n",
    "    \n",
    "dec2hex(783236)\n",
    "    "
   ]
  },
  {
   "cell_type": "code",
   "execution_count": 14,
   "metadata": {},
   "outputs": [
    {
     "data": {
      "text/plain": [
       "'0xbf384'"
      ]
     },
     "execution_count": 14,
     "metadata": {},
     "output_type": "execute_result"
    }
   ],
   "source": [
    "#29.2\n",
    "hex(783236)"
   ]
  },
  {
   "cell_type": "code",
   "execution_count": 21,
   "metadata": {},
   "outputs": [
    {
     "data": {
      "text/plain": [
       "[454, 3, 465, -123]"
      ]
     },
     "execution_count": 21,
     "metadata": {},
     "output_type": "execute_result"
    },
    {
     "data": {
      "text/plain": [
       "[<matplotlib.lines.Line2D at 0x250306b49d0>]"
      ]
     },
     "execution_count": 21,
     "metadata": {},
     "output_type": "execute_result"
    },
    {
     "data": {
      "image/png": "[encoded data removed]",
      "text/plain": [
       "<Figure size 640x480 with 1 Axes>"
      ]
     },
     "metadata": {},
     "output_type": "display_data"
    }
   ],
   "source": [
    "#30\n",
    "import numpy as np\n",
    "import matplotlib.pyplot as plt\n",
    "\n",
    "def find_local_extremes(arr) -> list:\n",
    "    ans = []\n",
    "    for i in range(1,len(arr)-1):\n",
    "        if (arr[i-1] < arr[i] > arr[i+1]) or (arr[i-1] > arr[i] < arr[i+1]):\n",
    "            ans.append(arr[i])\n",
    "    return ans\n",
    "\n",
    "find_local_extremes([1, 3, 454, 3, 465, 34, 0, -123, -9])\n",
    "arr = np.asarray([1, 3, 454, 3, 465, 34, 0, -123, -9])\n",
    "plt.plot(arr)\n",
    "\n"
   ]
  },
  {
   "cell_type": "code",
   "execution_count": 17,
   "metadata": {},
   "outputs": [
    {
     "data": {
      "text/plain": [
       "97"
      ]
     },
     "execution_count": 17,
     "metadata": {},
     "output_type": "execute_result"
    },
    {
     "data": {
      "text/plain": [
       "False"
      ]
     },
     "execution_count": 17,
     "metadata": {},
     "output_type": "execute_result"
    },
    {
     "data": {
      "text/plain": [
       "36583"
      ]
     },
     "execution_count": 17,
     "metadata": {},
     "output_type": "execute_result"
    }
   ],
   "source": [
    "#31\n",
    "def check_prime(num) -> bool:\n",
    "    if num < 2: \n",
    "        return False\n",
    "    elif num == 2 or num == 3:\n",
    "        return True\n",
    "    for i in range(2,int(num**0.5)+1):\n",
    "        if num % i == 0:\n",
    "            return False\n",
    "    return True\n",
    "\n",
    "def prev_prime(num):\n",
    "    if num <= 1: \n",
    "        return False\n",
    "    while True:\n",
    "        if check_prime(num):\n",
    "            return num\n",
    "        elif num % 2 == 0:\n",
    "            num += 1\n",
    "        else:\n",
    "            num += 2\n",
    "            \n",
    "prev_prime(90)\n",
    "prev_prime(1)\n",
    "prev_prime(36574)"
   ]
  },
  {
   "cell_type": "markdown",
   "metadata": {},
   "source": [
    "**32.** Chương trình thực hiện:\n",
    "- yêu cầu người dùng liên tục nhập các số nguyên từ bàn phím. Quá trình nhập chỉ kết thúc khi người dùng nhấn phím Enter khi chưa gõ bất cứ phím nào.\n",
    "- Các số được nhập sẽ lưu vào 1 dãy, sau đó thể hiện trên màn hình. "
   ]
  },
  {
   "cell_type": "code",
   "execution_count": 10,
   "metadata": {},
   "outputs": [
    {
     "name": "stdout",
     "output_type": "stream",
     "text": [
      "Nhap so: 5\n",
      "Nhap so: 352\n",
      "Nhap so: 3534\n",
      "Nhap so: 32\n",
      "Nhap so: 5\n",
      "Nhap so: 6\n",
      "Nhap so: 78\n",
      "Nhap so: 34\n",
      "Nhap so: \n"
     ]
    },
    {
     "data": {
      "text/plain": [
       "[5, 352, 3534, 32, 5, 6, 78, 34]"
      ]
     },
     "execution_count": 10,
     "metadata": {},
     "output_type": "execute_result"
    }
   ],
   "source": [
    "ans = []\n",
    "while True:\n",
    "    num_typeSTR = input('Nhap so: ')\n",
    "    if not num_typeSTR:\n",
    "        break\n",
    "    ans.append(int(num_typeSTR))\n",
    "    \n",
    "ans\n",
    "    "
   ]
  },
  {
   "cell_type": "markdown",
   "metadata": {},
   "source": [
    "**33.** chương trình thực hiện:\n",
    "- người dùng liên tục nhập số nguyên khác nhau đôi 1 từ bàn phím. Quá trình nhập chỉ kết thúc khi người dùng nhấn phím Enter khi chưa gõ bất cứ phím nào.\n",
    "- Nếu người ùng nhập một sô đã được nhập từ trước thì thông báo ngay **Số này bạn đã nhập rồi** và yêu cầu nhập tiếp\n",
    "- khi kết thúc chương trình in các số đã nhập (khác nhau) ra màn hình"
   ]
  },
  {
   "cell_type": "code",
   "execution_count": 9,
   "metadata": {},
   "outputs": [
    {
     "name": "stdout",
     "output_type": "stream",
     "text": [
      "Nhap so: 5\n",
      "Nhap so: 4\n",
      "Nhap so: 4\n",
      "So nay ban da nhap roi!\n",
      "Nhap so: 325\n",
      "Nhap so: 325\n",
      "So nay ban da nhap roi!\n",
      "Nhap so: \n"
     ]
    },
    {
     "data": {
      "text/plain": [
       "[5, 4, 325]"
      ]
     },
     "execution_count": 9,
     "metadata": {},
     "output_type": "execute_result"
    }
   ],
   "source": [
    "ans = []\n",
    "while True:\n",
    "    num_typeSTR = input('Nhap so: ')\n",
    "    if not num_typeSTR:\n",
    "        break\n",
    "    num = int(num_typeSTR)\n",
    "    if num in ans:\n",
    "        print('So nay ban da nhap roi!')\n",
    "        continue\n",
    "    else:\n",
    "        ans.append(num)\n",
    "\n",
    "ans\n",
    "    "
   ]
  },
  {
   "cell_type": "code",
   "execution_count": 5,
   "metadata": {},
   "outputs": [
    {
     "name": "stdout",
     "output_type": "stream",
     "text": [
      "hi\n"
     ]
    }
   ],
   "source": [
    "#34\n",
    "x = 2<1 or print('hi')"
   ]
  },
  {
   "cell_type": "code",
   "execution_count": 4,
   "metadata": {},
   "outputs": [
    {
     "name": "stdout",
     "output_type": "stream",
     "text": [
      "\n",
      "hi\n",
      "ha\n"
     ]
    },
    {
     "data": {
      "text/plain": [
       "False"
      ]
     },
     "execution_count": 4,
     "metadata": {},
     "output_type": "execute_result"
    }
   ],
   "source": [
    "#35\n",
    "x = print() or print('hi')"
   ]
  },
  {
   "cell_type": "code",
   "execution_count": 1,
   "metadata": {},
   "outputs": [
    {
     "name": "stdout",
     "output_type": "stream",
     "text": [
      "ha\n",
      "hi\n"
     ]
    }
   ],
   "source": [
    "#36\n",
    "x = print('ha') or print('hi')"
   ]
  },
  {
   "cell_type": "markdown",
   "metadata": {},
   "source": [
    "Câu 37: Một mệnh đề logic có thể không xác định được ngay giá trị vì còn phụ thuộc vào tương tác với người dùng\n",
    "- là khẳng định đúng\n",
    "- ví dụ\n",
    "```python\n",
    "False or input()\n",
    "```\n",
    "- đúng khi người dùng nhập giá trị bất kỳ, sai khi người dùng không nhập gì (xâu '' nhận giá trị logic là False)"
   ]
  }
 ],
 "metadata": {
  "kernelspec": {
   "display_name": "Python 3",
   "language": "python",
   "name": "python3"
  },
  "language_info": {
   "codemirror_mode": {
    "name": "ipython",
    "version": 3
   },
   "file_extension": ".py",
   "mimetype": "text/x-python",
   "name": "python",
   "nbconvert_exporter": "python",
   "pygments_lexer": "ipython3",
   "version": "3.9.10"
  }
 },
 "nbformat": 4,
 "nbformat_minor": 2
}
