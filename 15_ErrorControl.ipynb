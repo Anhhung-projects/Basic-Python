{
 "cells": [
  {
   "cell_type": "markdown",
   "metadata": {},
   "source": [
    "# KIỂM SOÁT LỖI TRONG PYTHON\n",
    "**Mục tiêu:** Nhận dạng các lỗi khi làm việc với Python, bắt lỗi và kiểm soát lỗi khi viêt chương trình."
   ]
  },
  {
   "cell_type": "markdown",
   "metadata": {},
   "source": [
    "Về cơ bản, vấn đề trong lập trình được chia làm 3 loại:\n",
    "- **Lỗi cú pháp:** do sử dụng không đúng chức năng được thiết kế của ngôn ngữ lập trình.\n",
    "- **Các ngoại lệ:** xảy ra sau khi trình dịch chấp thuận và thực thi chương trình, khi đó sẽ xảy ra những trường hợp làm chương trình hoạt độn không đúng (như chia 0, mở tệp không tồn tại...).\n",
    "- **Lỗi logic:** chương trình vẫn chạy nhưng ra sai kết quả. Đây là lỗi rất khó pháp hiện, nhất là trong những chương trình phức tạp, cần phải thực hiện xem xét, debug chương trình rất kỹ mới phát hiện được."
   ]
  },
  {
   "cell_type": "markdown",
   "metadata": {},
   "source": [
    "## Lỗi syntax \n",
    "`SyntaxError` là lỗi khi viết sai cú pháp lệnh của ngôn ngữ lập trình. Với lỗi này thường dễ sửa vì có thể nhìn thấy ngay trên dòng lệnh."
   ]
  },
  {
   "cell_type": "code",
   "execution_count": 1,
   "metadata": {},
   "outputs": [
    {
     "ename": "SyntaxError",
     "evalue": "invalid syntax (4185996751.py, line 1)",
     "output_type": "error",
     "traceback": [
      "\u001b[1;36m  Cell \u001b[1;32mIn[1], line 1\u001b[1;36m\u001b[0m\n\u001b[1;33m    while True\u001b[0m\n\u001b[1;37m              ^\u001b[0m\n\u001b[1;31mSyntaxError\u001b[0m\u001b[1;31m:\u001b[0m invalid syntax\n"
     ]
    }
   ],
   "source": [
    "while True\n",
    "    print(\"Hello World\")"
   ]
  },
  {
   "cell_type": "code",
   "execution_count": 3,
   "metadata": {},
   "outputs": [
    {
     "ename": "SyntaxError",
     "evalue": "EOL while scanning string literal (2531169015.py, line 1)",
     "output_type": "error",
     "traceback": [
      "\u001b[1;36m  Cell \u001b[1;32mIn[3], line 1\u001b[1;36m\u001b[0m\n\u001b[1;33m    abc'\u001b[0m\n\u001b[1;37m        ^\u001b[0m\n\u001b[1;31mSyntaxError\u001b[0m\u001b[1;31m:\u001b[0m EOL while scanning string literal\n"
     ]
    }
   ],
   "source": [
    "abc'"
   ]
  },
  {
   "cell_type": "markdown",
   "metadata": {},
   "source": [
    "## Lỗi ngoại lệ\n",
    "Đặc điểm: đều được python đặt tên và đánh mã lỗi (giá trị Exception). Mỗi mã lỗi có tên riêng, mô tả.\n",
    "- Ví dụ:`IndexError` - lỗi liên quan đến mô tả chỉ số vượt quá giới hạn của kiểu dữ liệu tuần tự.\n",
    "\n",
    "Việc bắt lỗi sẽ được thiêt lập bởi một cơ chế đặc biệt thông qua lệnh `try ... except ...`."
   ]
  },
  {
   "cell_type": "code",
   "execution_count": 7,
   "metadata": {},
   "outputs": [
    {
     "name": "stdout",
     "output_type": "stream",
     "text": [
      "Nhập số:a\n",
      "Nhập sai kiểu dữ liệu, yêu cầu nhập lại.\n",
      "Nhập số:14.5\n",
      "Nhập sai kiểu dữ liệu, yêu cầu nhập lại.\n",
      "Nhập số:200\n",
      "Số vừa nhập 200\n"
     ]
    }
   ],
   "source": [
    "while True:\n",
    "    try:\n",
    "        num = int(input('Nhập số:')) #lệnh được bắt lỗi\n",
    "        break\n",
    "    except ValueError: #mã lỗi cần kiểm soát\n",
    "        print('Nhập sai kiểu dữ liệu, yêu cầu nhập lại.') #lệnh khi gặp lỗi\n",
    "        \n",
    "print(f'Số vừa nhập {num}')"
   ]
  },
  {
   "cell_type": "markdown",
   "metadata": {},
   "source": [
    "Mục đích là thông báo cho người dùng biết việc nhập lỗi và nhập lại dữ liệu và không bị văng ra khỏi chương trình."
   ]
  },
  {
   "cell_type": "markdown",
   "metadata": {},
   "source": [
    "## Bắt lỗi Exception với lệnh try\n",
    "Các bước thực hiện:\n",
    "- Xác định nhóm lệnh cần kiểm soát lỗi và kiểu lỗi có thể xảy ra với các lệnh này.\n",
    "- Xác định các tương tác với lỗi khi lỗi xảy ra (như thông báo, đi vòng tránh lỗi, thay thế...)\n",
    "- Dùng `try - except` để thực hiện công việc trên."
   ]
  },
  {
   "cell_type": "code",
   "execution_count": 8,
   "metadata": {},
   "outputs": [
    {
     "name": "stdout",
     "output_type": "stream",
     "text": [
      "Inappropriate argument value (of correct type).\n",
      "Sequence index out of range.\n",
      "Second argument to a division or modulo operation was zero.\n"
     ]
    }
   ],
   "source": [
    "for i in range(1,4):\n",
    "    try:\n",
    "        if i == 1:\n",
    "            print(int('\"data file\"'))\n",
    "        elif i == 2:\n",
    "            a = [1,2,3]\n",
    "            print(a[5])\n",
    "        else:\n",
    "            print(3/0)    \n",
    "    except ValueError:\n",
    "        print(\"Inappropriate argument value (of correct type).\")\n",
    "    except IndexError:\n",
    "        print(\"Sequence index out of range.\")\n",
    "    except ZeroDivisionError:\n",
    "        print(\"Second argument to a division or modulo operation was zero.\")"
   ]
  },
  {
   "cell_type": "markdown",
   "metadata": {},
   "source": [
    "`try - except` đầy đủ:\n",
    "```python\n",
    "try:\n",
    "    <nhóm lệnh cần bắt lỗi>\n",
    "except <mã lỗi 1>:\n",
    "    <nhóm lệnh xử lý>\n",
    "except <mã lỗi 2>:\n",
    "    <nhóm lệnh xử lý>\n",
    "...\n",
    "except Exception:\n",
    "    <nhóm lệnh xử lý lỗi khác các mã lỗi kể trên>\n",
    "else:\n",
    "    <nhóm lệnh thực hiện khi không có lỗi>\n",
    "finally:\n",
    "    <nhóm lệnh luôn thực hiện>\n",
    "```"
   ]
  },
  {
   "cell_type": "code",
   "execution_count": 17,
   "metadata": {},
   "outputs": [
    {
     "name": "stdout",
     "output_type": "stream",
     "text": [
      "division by zero\n",
      "Done!\n",
      "unsupported operand type(s) for /: 'str' and 'int'\n",
      "Done!\n"
     ]
    }
   ],
   "source": [
    "def divide(x:float,y:float):\n",
    "    try:\n",
    "        result = x/y\n",
    "    except ZeroDivisionError as Err: #Thông tin chi tiết lỗi\n",
    "        print(Err)\n",
    "    except TypeError as Err:\n",
    "        print(Err)\n",
    "    except Exception:\n",
    "        pass #Bỏ qua lỗi\n",
    "    else:\n",
    "        print(result)\n",
    "    finally:\n",
    "        print('Done!')\n",
    "        \n",
    "divide(5,0)\n",
    "divide('abc',2)\n"
   ]
  },
  {
   "cell_type": "markdown",
   "metadata": {},
   "source": [
    "## Các lỗi thường gặp\n",
    "|Mã lỗi|Mô tả|\n",
    "|-|-|\n",
    "|`AttributeError`|Lỗi liên quan đến truy cập thuộc tính của đối tượng|\n",
    "|`ZeroDivisionError`|Lỗi phép chia cho 0|\n",
    "|`OverflowError`|Lỗi tràn số thập phân|\n",
    "|`EOFError`|Lỗi khi cố đọc thông tin ở cuối file|\n",
    "|`ModuleNotFoundError`|Lỗi không tìm thấy module|\n",
    "|`IndexError`|Lỗi liên quan đến chỉ số của dãy|\n",
    "|`KeyError`|Lỗi liên quan đến key của từ điển|\n",
    "|`NameError`|Lỗi liên quan đến truy cập tên trong Namespace|\n",
    "|`RecursionError`|Lỗi khi vòng lặp đệ quy quá giới hạn cho phép|\n",
    "|`TypeError`|Lỗi liên quan đến kiểu dữ liệu|\n",
    "|`ValueError`|Lỗi liên quan đến giá trị của đối tượng|\n",
    "|`FileNotFoundError`|Lỗi không tìm thấy file|\n",
    "|`FileExistsError`|Lỗi ghi đè lên file đã tồn tại|\n",
    "|`IndentationError`|Lỗi dòng lệnh thụt vào không đúng hàng|\n",
    "|`SyntaxError`|Lỗi cú pháp lệnh|"
   ]
  },
  {
   "cell_type": "code",
   "execution_count": null,
   "metadata": {},
   "outputs": [],
   "source": []
  },
  {
   "cell_type": "code",
   "execution_count": null,
   "metadata": {},
   "outputs": [],
   "source": []
  },
  {
   "cell_type": "code",
   "execution_count": 5,
   "metadata": {},
   "outputs": [],
   "source": [
    "#Hiện input, output\n",
    "from IPython.core.interactiveshell import InteractiveShell\n",
    "InteractiveShell.ast_node_interactivity = \"all\"\n",
    "\n",
    "import builtins\n",
    "def input(prompt=''):\n",
    "    x = builtins.input(prompt)\n",
    "    print(prompt+x)\n",
    "    return x"
   ]
  }
 ],
 "metadata": {
  "kernelspec": {
   "display_name": "Python 3",
   "language": "python",
   "name": "python3"
  },
  "language_info": {
   "codemirror_mode": {
    "name": "ipython",
    "version": 3
   },
   "file_extension": ".py",
   "mimetype": "text/x-python",
   "name": "python",
   "nbconvert_exporter": "python",
   "pygments_lexer": "ipython3",
   "version": "3.9.10"
  }
 },
 "nbformat": 4,
 "nbformat_minor": 2
}
