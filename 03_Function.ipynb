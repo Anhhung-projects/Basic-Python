{
 "cells": [
  {
   "cell_type": "code",
   "execution_count": 3,
   "metadata": {},
   "outputs": [
    {
     "data": {
      "text/plain": [
       "27"
      ]
     },
     "execution_count": 3,
     "metadata": {},
     "output_type": "execute_result"
    }
   ],
   "source": [
    "#1\n",
    "kq = 1\n",
    "def calc(x):\n",
    "    kq = 4 * x - 1\n",
    "    return kq\n",
    "calc(7)\n"
   ]
  },
  {
   "cell_type": "code",
   "execution_count": 4,
   "metadata": {},
   "outputs": [
    {
     "name": "stdout",
     "output_type": "stream",
     "text": [
      "20\n"
     ]
    }
   ],
   "source": [
    "def f(x):\n",
    "    return x ** 2, x**x**x\n",
    "x,y = f(2)\n",
    "print(x+y)"
   ]
  },
  {
   "cell_type": "code",
   "execution_count": 7,
   "metadata": {},
   "outputs": [
    {
     "name": "stdout",
     "output_type": "stream",
     "text": [
      "6 19683 169\n"
     ]
    }
   ],
   "source": [
    "#3\n",
    "sum = lambda x,y,z: x + y + z\n",
    "sum2 = lambda x,y,z: x ** (y + z)\n",
    "sum3 = lambda x,y: (x + y) ** 2"
   ]
  },
  {
   "cell_type": "code",
   "execution_count": 16,
   "metadata": {},
   "outputs": [
    {
     "name": "stdout",
     "output_type": "stream",
     "text": [
      "1 - So nguyen to: 1 - So uoc thuc su: 0 - So uoc le: 1 - So uoc nguyen to: 1 - Tong uoc thuc su: 0\n",
      "2 - So nguyen to: 1 - So uoc thuc su: 1 - So uoc le: 1 - So uoc nguyen to: 2 - Tong uoc thuc su: 1\n",
      "356 - So nguyen to: 0 - So uoc thuc su: 5 - So uoc le: 2 - So uoc nguyen to: 3 - Tong uoc thuc su: 274\n",
      "5 - So nguyen to: 1 - So uoc thuc su: 1 - So uoc le: 2 - So uoc nguyen to: 2 - Tong uoc thuc su: 1\n",
      "343 - So nguyen to: 0 - So uoc thuc su: 3 - So uoc le: 4 - So uoc nguyen to: 2 - Tong uoc thuc su: 57\n",
      "11 - So nguyen to: 1 - So uoc thuc su: 1 - So uoc le: 2 - So uoc nguyen to: 2 - Tong uoc thuc su: 1\n"
     ]
    }
   ],
   "source": [
    "def fa(n):\n",
    "    count = 0\n",
    "    for i in range(1,n//2+1):\n",
    "        if n % i == 0: count += 1\n",
    "    return count\n",
    "def fb(n):\n",
    "    for i in range(2,n//2+1):\n",
    "        if n % i == 0: return 0\n",
    "    return 1\n",
    "def fc(n):\n",
    "    count = 0\n",
    "    for i in range(1,n//2+1):\n",
    "        if n % i == 0 and i % 2 == 1: count += 1\n",
    "    if n % 2 == 1: count += 1\n",
    "    return count\n",
    "def fd(n):\n",
    "    count = 0\n",
    "    for i in range(1,n//2+1):\n",
    "        if n % i == 0 and fb(i) == 1: count += 1\n",
    "    if fb(n) == 1: count += 1\n",
    "    return count\n",
    "def fe(n): \n",
    "    sum = 0\n",
    "    for i in range(1,n//2+1):\n",
    "        if n % i == 0: sum += i\n",
    "    return sum\n",
    "\n",
    "n = {1,2,5,356,343,11}\n",
    "for i in n: \n",
    "    print(f'{i} - So nguyen to: {fb(i)} - So uoc thuc su: {fa(i)} - So uoc le: {fc(i)} - So uoc nguyen to: {fd(i)} - Tong uoc thuc su: {fe(i)}')"
   ]
  },
  {
   "cell_type": "code",
   "execution_count": null,
   "metadata": {},
   "outputs": [],
   "source": [
    "#5\n",
    "def fa(m,n): \n",
    "    count = 0\n",
    "    if m > n:\n",
    "        for i in range(1,n//2+1):\n",
    "            if n % i == 0 and m % i == 0: count += 1\n",
    "    else:\n",
    "        for i in range(1,m//2+1):\n",
    "            if n % i == 0 and m % i == 0: count += 1\n",
    "    return count\n",
    "def fb(m,n): \n",
    "    count = 0\n",
    "    for i in range(1,m//2+1):\n",
    "        if m % i == 0 and n % i != 0: count += 1\n",
    "    return count\n",
    "def fc(m,n): \n",
    "    sum = 0\n",
    "    if m > n: \n",
    "        for i in range(1,n//2+1):\n",
    "            if m % i == 0 and n % i != 0: sum += i\n",
    "    else:\n",
    "        for i in range(1,m//2+1):\n",
    "            if m % i == 0 and n % i != 0: sum += i\n",
    "    return sum\n"
   ]
  },
  {
   "cell_type": "code",
   "execution_count": 3,
   "metadata": {},
   "outputs": [
    {
     "name": "stdout",
     "output_type": "stream",
     "text": [
      "None\n"
     ]
    },
    {
     "data": {
      "text/plain": [
       "1"
      ]
     },
     "execution_count": 3,
     "metadata": {},
     "output_type": "execute_result"
    }
   ],
   "source": [
    "def f(m,n,R):\n",
    "    R = m**2 + n**2\n",
    "    return\n",
    "R = 1\n",
    "print(f(3,2,R))\n",
    "R"
   ]
  },
  {
   "cell_type": "code",
   "execution_count": 5,
   "metadata": {},
   "outputs": [
    {
     "data": {
      "text/plain": [
       "28"
      ]
     },
     "execution_count": 5,
     "metadata": {},
     "output_type": "execute_result"
    }
   ],
   "source": [
    "def f(a,b):\n",
    "    return a**3 + b**2\n",
    "f(b=1,a=3)\n"
   ]
  },
  {
   "cell_type": "code",
   "execution_count": 18,
   "metadata": {},
   "outputs": [
    {
     "name": "stdout",
     "output_type": "stream",
     "text": [
      "Nhap so gio:2\n",
      "Nhap so phut:3\n",
      "Nhap so giay:4\n",
      "0.08546296296296296\n"
     ]
    }
   ],
   "source": [
    "import builtins\n",
    "def input(prompt):\n",
    "    x = builtins.input(prompt)\n",
    "    print(prompt+x)\n",
    "    return x\n",
    "def convert():\n",
    "    h = int(input(\"Nhap so gio:\"))\n",
    "    m = int(input(\"Nhap so phut:\"))\n",
    "    s = int(input(\"Nhap so giay:\"))\n",
    "    print(h/24 + m/(24*60) + s/(24*3600))\n",
    "    return\n",
    "convert()\n",
    "    "
   ]
  },
  {
   "cell_type": "code",
   "execution_count": 15,
   "metadata": {},
   "outputs": [
    {
     "data": {
      "text/plain": [
       "70.3"
      ]
     },
     "execution_count": 15,
     "metadata": {},
     "output_type": "execute_result"
    },
    {
     "data": {
      "text/plain": [
       "165.70714285714286"
      ]
     },
     "execution_count": 15,
     "metadata": {},
     "output_type": "execute_result"
    }
   ],
   "source": [
    "def yourWeight(w,m):\n",
    "    return w*m/9.8\n",
    "yourWeight(70.3,9.8)\n",
    "yourWeight(70.3,23.1)"
   ]
  },
  {
   "cell_type": "code",
   "execution_count": 24,
   "metadata": {},
   "outputs": [
    {
     "name": "stdout",
     "output_type": "stream",
     "text": [
      "Nhap nhiet do(C):\n"
     ]
    },
    {
     "ename": "ValueError",
     "evalue": "could not convert string to float: ''",
     "output_type": "error",
     "traceback": [
      "\u001b[1;31m---------------------------------------------------------------------------\u001b[0m",
      "\u001b[1;31mValueError\u001b[0m                                Traceback (most recent call last)",
      "Cell \u001b[1;32mIn[24], line 17\u001b[0m\n\u001b[0;32m     15\u001b[0m     tK \u001b[38;5;241m=\u001b[39m \u001b[38;5;28mfloat\u001b[39m(\u001b[38;5;28minput\u001b[39m(\u001b[38;5;124m\"\u001b[39m\u001b[38;5;124mNhap nhiet do(K):\u001b[39m\u001b[38;5;124m\"\u001b[39m))\n\u001b[0;32m     16\u001b[0m     \u001b[38;5;28;01mreturn\u001b[39;00m (\u001b[38;5;241m9\u001b[39m\u001b[38;5;241m*\u001b[39m(tK \u001b[38;5;241m-\u001b[39m \u001b[38;5;241m273.15\u001b[39m)\u001b[38;5;241m/\u001b[39m\u001b[38;5;241m5\u001b[39m)\u001b[38;5;241m+\u001b[39m\u001b[38;5;241m32\u001b[39m\n\u001b[1;32m---> 17\u001b[0m \u001b[43mconvertCtoF\u001b[49m\u001b[43m(\u001b[49m\u001b[43m)\u001b[49m\n\u001b[0;32m     18\u001b[0m convertCtoK()\n\u001b[0;32m     19\u001b[0m convertKtoF()\n",
      "Cell \u001b[1;32mIn[24], line 9\u001b[0m, in \u001b[0;36mconvertCtoF\u001b[1;34m()\u001b[0m\n\u001b[0;32m      8\u001b[0m \u001b[38;5;28;01mdef\u001b[39;00m \u001b[38;5;21mconvertCtoF\u001b[39m():\n\u001b[1;32m----> 9\u001b[0m     tC \u001b[38;5;241m=\u001b[39m \u001b[38;5;28;43mfloat\u001b[39;49m\u001b[43m(\u001b[49m\u001b[38;5;28;43minput\u001b[39;49m\u001b[43m(\u001b[49m\u001b[38;5;124;43m\"\u001b[39;49m\u001b[38;5;124;43mNhap nhiet do(C):\u001b[39;49m\u001b[38;5;124;43m\"\u001b[39;49m\u001b[43m)\u001b[49m\u001b[43m)\u001b[49m\n\u001b[0;32m     10\u001b[0m     \u001b[38;5;28;01mreturn\u001b[39;00m (\u001b[38;5;241m9\u001b[39m\u001b[38;5;241m*\u001b[39mtC\u001b[38;5;241m/\u001b[39m\u001b[38;5;241m5\u001b[39m) \u001b[38;5;241m+\u001b[39m \u001b[38;5;241m32\u001b[39m\n",
      "\u001b[1;31mValueError\u001b[0m: could not convert string to float: ''"
     ]
    }
   ],
   "source": [
    "def convertCtoK():\n",
    "    return float(input(\"Nhap nhiet do(C):\")) + 273.15\n",
    "def convertKtoC():\n",
    "    return float(input(\"Nhap nhiet do(K):\")) - 273.15\n",
    "def convertFtoC():\n",
    "    tF = float(input(\"Nhap nhiet do(F):\"))\n",
    "    return 5*(tF - 32)/9\n",
    "def convertCtoF():\n",
    "    tC = float(input(\"Nhap nhiet do(C):\"))\n",
    "    return (9*tC/5) + 32\n",
    "def convertFtoK():\n",
    "    tF = float(input(\"Nhap nhiet do(F):\"))\n",
    "    return (5*(tF - 32)/9)+273.15\n",
    "def convertKtoF():\n",
    "    tK = float(input(\"Nhap nhiet do(K):\"))\n",
    "    return (9*(tK - 273.15)/5)+32\n",
    "convertCtoF()\n",
    "convertCtoK()\n",
    "convertKtoF()"
   ]
  },
  {
   "cell_type": "code",
   "execution_count": 25,
   "metadata": {},
   "outputs": [
    {
     "ename": "NameError",
     "evalue": "name 'y' is not defined",
     "output_type": "error",
     "traceback": [
      "\u001b[1;31m---------------------------------------------------------------------------\u001b[0m",
      "\u001b[1;31mNameError\u001b[0m                                 Traceback (most recent call last)",
      "Cell \u001b[1;32mIn[25], line 3\u001b[0m\n\u001b[0;32m      1\u001b[0m \u001b[38;5;28;01mdef\u001b[39;00m \u001b[38;5;21mf\u001b[39m(x):\n\u001b[0;32m      2\u001b[0m     \u001b[38;5;28;01mreturn\u001b[39;00m x\u001b[38;5;241m+\u001b[39my\u001b[38;5;241m+\u001b[39mz\n\u001b[1;32m----> 3\u001b[0m \u001b[43mf\u001b[49m\u001b[43m(\u001b[49m\u001b[38;5;241;43m1\u001b[39;49m\u001b[43m)\u001b[49m\n",
      "Cell \u001b[1;32mIn[25], line 2\u001b[0m, in \u001b[0;36mf\u001b[1;34m(x)\u001b[0m\n\u001b[0;32m      1\u001b[0m \u001b[38;5;28;01mdef\u001b[39;00m \u001b[38;5;21mf\u001b[39m(x):\n\u001b[1;32m----> 2\u001b[0m     \u001b[38;5;28;01mreturn\u001b[39;00m x\u001b[38;5;241m+\u001b[39m\u001b[43my\u001b[49m\u001b[38;5;241m+\u001b[39mz\n",
      "\u001b[1;31mNameError\u001b[0m: name 'y' is not defined"
     ]
    }
   ],
   "source": [
    "def f(x):\n",
    "    return x+y+z\n",
    "f(1)"
   ]
  },
  {
   "cell_type": "markdown",
   "metadata": {},
   "source": [
    "số nguyên tố cùng nhau: là 2 số có ước chung lớn nhất là 1"
   ]
  },
  {
   "cell_type": "code",
   "execution_count": 35,
   "metadata": {},
   "outputs": [
    {
     "name": "stdout",
     "output_type": "stream",
     "text": [
      "la 2 so nguyen to cung nhau\n",
      "1045:47:47\n"
     ]
    },
    {
     "data": {
      "text/plain": [
       "119"
      ]
     },
     "execution_count": 35,
     "metadata": {},
     "output_type": "execute_result"
    }
   ],
   "source": [
    "def sum1toN(n):\n",
    "    sum = 0\n",
    "    for i in range(1,n+1):\n",
    "        sum += i\n",
    "    return sum\n",
    "def is_coprime(m,n):\n",
    "    while n != 0:\n",
    "        m,n = n,m%n\n",
    "    if m == 1:\n",
    "        print(\"la 2 so nguyen to cung nhau\")\n",
    "    else:\n",
    "        print(\"khong phai la 2 so nguyen to cung nhau\")\n",
    "    return\n",
    "is_coprime(5,2)\n",
    "def convert(s):\n",
    "    h = s // 3600\n",
    "    s %= 3600\n",
    "    m = s // 60\n",
    "    s %= 60\n",
    "    print(f'{h}:{m}:{s}')\n",
    "convert(3764867)\n",
    "def abs(a,b):\n",
    "    if (a-b) > 0: return a - b\n",
    "    else: return - (a - b)\n",
    "abs(-5,-124)"
   ]
  },
  {
   "cell_type": "code",
   "execution_count": 33,
   "metadata": {},
   "outputs": [
    {
     "name": "stdout",
     "output_type": "stream",
     "text": [
      "Nhap du lieu:5\n",
      "Nhap du lieu(>=50):45\n",
      "Nhap du lieu(>=50):55\n"
     ]
    }
   ],
   "source": [
    "def NhapDL():\n",
    "    n = int(input('Nhap du lieu:'))\n",
    "    while n < 50:\n",
    "        n = int(input('Nhap du lieu(>=50):'))\n",
    "    return n\n",
    "\n",
    "n = NhapDL()"
   ]
  },
  {
   "cell_type": "code",
   "execution_count": 43,
   "metadata": {},
   "outputs": [
    {
     "data": {
      "text/plain": [
       "2"
      ]
     },
     "execution_count": 43,
     "metadata": {},
     "output_type": "execute_result"
    }
   ],
   "source": [
    "from math import sqrt\n",
    "\n",
    "\n",
    "def isPrime(n):\n",
    "    if n <= 1: return 0\n",
    "    for i in range(2, int(sqrt(n)+1)):\n",
    "        if n % i == 0: return 0\n",
    "    return 1\n",
    "def f(m,n):\n",
    "    \"\"\"trả về ước chung lớn nhất là số nguyên tố\"\"\"\n",
    "    if m > n: \n",
    "        for i in range(n,1,-1): \n",
    "            if m % i == 0 and n % i == 0 and isPrime(i): return i\n",
    "    else: \n",
    "        for i in range(m,1,-1):\n",
    "            if m % i == 0 and n % i == 0 and isPrime(i): return i\n",
    "    return 0\n",
    "\n",
    "f(20,12)"
   ]
  },
  {
   "cell_type": "code",
   "execution_count": null,
   "metadata": {},
   "outputs": [],
   "source": [
    "def factorial(x):\n",
    "    val = 1\n",
    "    for i in range(1,x+1): val *= i\n",
    "    return val\n",
    "def isLeapYear(year):\n",
    "    if year % 400: return True\n",
    "    if year % 100: return False\n",
    "    if year % 4: return True\n",
    "    return False\n",
    "def sign(x):\n",
    "    if x > 0: return 1\n",
    "    elif x = 0: return 0\n",
    "    else: return -1"
   ]
  }
 ],
 "metadata": {
  "kernelspec": {
   "display_name": "Python 3",
   "language": "python",
   "name": "python3"
  },
  "language_info": {
   "codemirror_mode": {
    "name": "ipython",
    "version": 3
   },
   "file_extension": ".py",
   "mimetype": "text/x-python",
   "name": "python",
   "nbconvert_exporter": "python",
   "pygments_lexer": "ipython3",
   "version": "3.9.10"
  }
 },
 "nbformat": 4,
 "nbformat_minor": 2
}
